{
 "cells": [
  {
   "cell_type": "code",
   "execution_count": null,
   "metadata": {
    "collapsed": true
   },
   "outputs": [],
   "source": [
    "import numpy as np\n",
    "import matplotlib.pyplot as plt\n",
    "def rnd(shape):\n",
    "    return np.random.random(shape)\n",
    "%matplotlib inline"
   ]
  },
  {
   "cell_type": "code",
   "execution_count": null,
   "metadata": {
    "collapsed": false
   },
   "outputs": [],
   "source": [
    "x = np.linspace(0, 10, 50)\n",
    "err = rnd(x.shape)\n",
    "err_m = 10\n",
    "heteroscedastic=0\n",
    "homoscedastic=1\n",
    "y = ((np.pi + (err_m*(rnd(x.shape)-0.5)*err)*heteroscedastic)*x + \n",
    "     np.exp(1) + (err_m*(rnd(x.shape)-0.5)*err)*homoscedastic)"
   ]
  },
  {
   "cell_type": "code",
   "execution_count": null,
   "metadata": {
    "collapsed": false,
    "scrolled": true
   },
   "outputs": [],
   "source": [
    "plt.plot(x, y, '.')"
   ]
  },
  {
   "cell_type": "code",
   "execution_count": null,
   "metadata": {
    "collapsed": true
   },
   "outputs": [],
   "source": [
    "def OLS(x, y):\n",
    "    X = np.ones((x.size, 2))\n",
    "    X[:, 1] = x\n",
    "    beta = np.linalg.lstsq(X, y)[0]\n",
    "    eps = X.dot(beta) - y\n",
    "    SSR = eps.T.dot(eps) # sum of squared residuals\n",
    "    vcv = SSR/(x.size - 2)*np.linalg.inv(X.T.dot(X))\n",
    "    TSS = np.sum(np.square(y - np.mean(y)))\n",
    "    R2 = 1 - SSR/TSS\n",
    "    return beta, vcv, R2\n",
    "    XtX = X.T.dot(X)\n",
    "    return np.linalg.lstsq(XtX, X.T.dot(y))[0]"
   ]
  },
  {
   "cell_type": "code",
   "execution_count": null,
   "metadata": {
    "collapsed": true
   },
   "outputs": [],
   "source": [
    "def model(x, beta):\n",
    "    X = np.ones((x.size, 2))\n",
    "    X[:, 1] = x\n",
    "    return X.dot(beta)"
   ]
  },
  {
   "cell_type": "code",
   "execution_count": null,
   "metadata": {
    "collapsed": false
   },
   "outputs": [],
   "source": [
    "beta, vcv, R2 = OLS(x, y)\n",
    "plt.errorbar(x, y-model(x, beta), yerr=err, marker='.', ls='None')\n",
    "print(R2)"
   ]
  },
  {
   "cell_type": "code",
   "execution_count": null,
   "metadata": {
    "collapsed": true
   },
   "outputs": [],
   "source": []
  }
 ],
 "metadata": {
  "kernelspec": {
   "display_name": "Python 3",
   "language": "python",
   "name": "python3"
  },
  "language_info": {
   "codemirror_mode": {
    "name": "ipython",
    "version": 3
   },
   "file_extension": ".py",
   "mimetype": "text/x-python",
   "name": "python",
   "nbconvert_exporter": "python",
   "pygments_lexer": "ipython3",
   "version": "3.4.3"
  }
 },
 "nbformat": 4,
 "nbformat_minor": 0
}
