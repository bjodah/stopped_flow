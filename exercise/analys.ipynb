{
 "cells": [
  {
   "cell_type": "markdown",
   "metadata": {},
   "source": [
    "# Lösningsförslag till Övningsuppgift - Stopped Flow\n",
    "Författare: Björn Dahlgren, 2016-04-04\n",
    "\n",
    "Se övningsuppgiften för detaljer. Kortfattat ska vi bestämma hastighetskonstanten för följande reaktion:\n",
    "\n",
    "$$\n",
    "3A + B \\rightarrow C\n",
    "$$\n",
    "\n",
    "Detta lösningsförslag är skrivet i Python, se bilaga till laborationshandledningen för liknande exempel skrivna för Matlab."
   ]
  },
  {
   "cell_type": "code",
   "execution_count": null,
   "metadata": {
    "collapsed": false
   },
   "outputs": [],
   "source": [
    "from __future__ import division, print_function\n",
    "import numpy as np\n",
    "import matplotlib.pyplot as plt\n",
    "from scipy.optimize import curve_fit\n",
    "from scipy.linalg import lstsq\n",
    "%matplotlib inline"
   ]
  },
  {
   "cell_type": "markdown",
   "metadata": {},
   "source": [
    "Från uppgiftstexten vet vi att vi har data för 5 värden på [B]₀, 10 replikat för vardera, och 42 tidpunkter per mätserie. Vi läser in filerna in i variabeln ``data``:"
   ]
  },
  {
   "cell_type": "code",
   "execution_count": null,
   "metadata": {
    "collapsed": false
   },
   "outputs": [],
   "source": [
    "A0 = 1e-3\n",
    "n_conc, n_rep, n_t = 5, 10, 42\n",
    "conc_B = np.linspace(1/10, n_conc/10, n_conc)  # molar\n",
    "data = np.empty((n_conc, n_rep, n_t, 2))\n",
    "for i in range(n_conc):\n",
    "    for j in range(n_rep):\n",
    "        data[i, j, :, :] = np.loadtxt('data/0.%d/%d.dat' % (i+1, j+1))"
   ]
  },
  {
   "cell_type": "markdown",
   "metadata": {},
   "source": [
    "Om vi antar pseudo tredje ordningens reaktion ([B]₀ » [A]₀) blir hastighetsuttrycket för reaktionen:\n",
    "\n",
    "$$\n",
    "\\frac{dA}{dt} = -3kA^3\n",
    "$$\n",
    "\n",
    "integrering ger:\n",
    "$$\n",
    "A(t) = \\frac{1}{\\sqrt{\\frac{1}{A_0^2} + 6kt}}\n",
    "$$\n",
    "\n",
    "genom Lambert-Beers lag får vi absorbansen ($y$):\n",
    "\n",
    "$$\n",
    "y(t) = \\frac{\\varepsilon l}{\\sqrt{\\frac{1}{A_0^2} + 6kt}}\n",
    "$$\n",
    "\n",
    "utifrån detta uttryck skapar vi en funktion för som vi kallar \"``model``\":"
   ]
  },
  {
   "cell_type": "code",
   "execution_count": null,
   "metadata": {
    "collapsed": true
   },
   "outputs": [],
   "source": [
    "def model(t, eps_l, k):\n",
    "    return eps_l*(A0**-2 + 6*k*t)**-0.5"
   ]
  },
  {
   "cell_type": "markdown",
   "metadata": {},
   "source": [
    "## Ickelinjär kurvanpassning\n",
    "Vi passar vår modellekvation på var och en av dataserierna. Vi formulerar även en relativ vikt baserad på hur väl passningen är. Valet av vikt är något godtyckligt och det kan vara bra att prova sig fram, ett vanligt val är Mean Square Deviation (MSD) & Mean Absolute Deviation (MAD). Vi använder MSD nedan:"
   ]
  },
  {
   "cell_type": "code",
   "execution_count": null,
   "metadata": {
    "collapsed": false
   },
   "outputs": [],
   "source": [
    "popt = np.empty((n_conc, n_rep, 2))  # epsilon*l, k\n",
    "pcov = np.empty((n_conc, n_rep, 2, 2))\n",
    "all_k = np.empty((n_conc, n_rep))\n",
    "all_w = np.empty((n_conc, n_rep))\n",
    "all_m = np.empty((n_conc, n_rep, n_t))\n",
    "plt.figure(figsize=(16, 4))\n",
    "for i in range(n_conc):\n",
    "    ax = plt.subplot(1, n_conc, i+1)\n",
    "    for j in range(n_rep):\n",
    "        t = data[i, j, :, 0]\n",
    "        y = data[i, j, :, 1]\n",
    "        try:\n",
    "            popt[i, j, :], pcov[i, j, :, :] = curve_fit(model, t, y, [y[0]/A0, 1])\n",
    "        except:\n",
    "            print('failed')\n",
    "            popt[i, j, :], pcov[i, j, :, :] = [0]*2, [[float('inf')]*2]*2\n",
    "        plt.plot(t, y, 'k', alpha=0.4)\n",
    "        all_k[i, j] = popt[i, j, 1]\n",
    "        all_m[i, j, :] = m = model(t, *popt[i, j, :])\n",
    "        # Val av vikt:\n",
    "        #all_w[i, j] = 1/pcov[i, j, 0, 0]             # varians i epsilon*l\n",
    "        #all_w[i, j] = 1/pcov[i, j, 1, 1]             # varians i k\n",
    "        #all_w[i, j] = 1/np.average(np.square(y-m))    # MSD\n",
    "        all_w[i, j] = 1/(np.average(np.abs(y-m)))    # MAD\n",
    "\n",
    "for i in range(n_conc):\n",
    "    ax = plt.subplot(1, n_conc, i+1)\n",
    "    ax.ticklabel_format(axis='x', style='sci', scilimits=(-2,2))\n",
    "    ax.autoscale(tight=True)\n",
    "    ax.set_ylabel('Absorbance')\n",
    "    ax.set_xlabel('Time / s')\n",
    "    for j in range(n_rep):\n",
    "        red = 1 - all_w[i, j]/np.max(all_w[i, :])\n",
    "        t = data[i, j, :, 0]\n",
    "        plt.plot(t, all_m[i, j, :], c=(red, 0, 1.0))\n",
    "plt.tight_layout()"
   ]
  },
  {
   "cell_type": "markdown",
   "metadata": {},
   "source": [
    "## Poolning av regressioner\n",
    "Nu beräknar vi de viktade medelvärdena (se laborationshandledning för formel) för de olika värdena för [B]₀ baserat på respektive 10 replikat, samt respektive viktade stickprovsvarians (se laborationshandledning för formel)."
   ]
  },
  {
   "cell_type": "code",
   "execution_count": null,
   "metadata": {
    "collapsed": true
   },
   "outputs": [],
   "source": [
    "def weighted_average(obs, s2):\n",
    "    avg, sum_of_w = np.average(obs, axis=0, weights=1/s2, returned=True)\n",
    "    var = np.sum(np.square(obs - avg)/s2, axis=0)/((avg.shape[0] - 1) * sum_of_w)\n",
    "    return avg, var"
   ]
  },
  {
   "cell_type": "code",
   "execution_count": null,
   "metadata": {
    "collapsed": true
   },
   "outputs": [],
   "source": [
    "def weighted_average_plot(obs, s2, xlbl=r'$\\beta_0$', ylbl=r'$\\beta_1$', ttl=r'$y(x) = \\beta_0 + \\beta_1 \\cdot x$',\n",
    "                         label_cb=None):\n",
    "    avg, var = weighted_average(obs, s2)\n",
    "    lbl = None if label_cb is None else label_cb(avg, var)\n",
    "    plt.errorbar(avg[0], avg[1], xerr=var[0]**0.5, yerr=var[1]**0.5, marker='o', c='r',\n",
    "                 linewidth=2, markersize=10, label=lbl)\n",
    "    plt.errorbar(obs[:, 0], obs[:, 1], marker='s', ls='None', xerr=s2[:, 0]**0.5, yerr=s2[:, 1]**0.5, alpha=.5)\n",
    "    plt.xlabel(xlbl); plt.ylabel(ylbl); plt.title(ttl)\n",
    "    return avg, var"
   ]
  },
  {
   "cell_type": "code",
   "execution_count": null,
   "metadata": {
    "collapsed": false
   },
   "outputs": [],
   "source": [
    "plt.figure(figsize=(16, 4))\n",
    "beta_conc = np.empty((n_conc, 2))\n",
    "beta_conc_var = np.empty_like(beta_conc)\n",
    "for i in range(n_conc):\n",
    "    ax = plt.subplot(1, n_conc, i+1)\n",
    "    beta_conc[i, :], beta_conc_var[i, :] = weighted_average_plot(popt[i, ...], pcov[i, :, [0, 1], [0, 1]].T)\n",
    "plt.tight_layout()\n",
    "beta_conc[:, 1], beta_conc_var[:, 1]"
   ]
  },
  {
   "cell_type": "markdown",
   "metadata": {},
   "source": [
    "Våra pseudo tredje ordningens hastighetskonstanter är linjärt beroende av [B]₀:\n",
    "\n",
    "$$\n",
    "k_f = [B]_0 k\n",
    "$$\n",
    "\n",
    "Därför beräknar vi $k_f$ genom [viktad linjär regression](https://en.wikipedia.org/wiki/Linear_least_squares_%28mathematics%29#Weighted_linear_least_squares):"
   ]
  },
  {
   "cell_type": "code",
   "execution_count": null,
   "metadata": {
    "collapsed": false
   },
   "outputs": [],
   "source": [
    "def LS(x, y, w=1):  # w == 1 => OLS, w != 1 => WLS\n",
    "    \"\"\" Least squares \n",
    "    \n",
    "    References\n",
    "    -----------\n",
    "    Wikipedia & standard texts on least squares.\n",
    "    A note about R2 in WLS:\n",
    "        Willett, John B., and Judith D. Singer. \"Another cautionary note about R 2:\n",
    "        Its use in weighted least-squares regression analysis.\"\n",
    "        The American Statistician 42.3 (1988): 236-238.\n",
    "    \"\"\"\n",
    "    sqrtw = np.sqrt(w)\n",
    "    y = y * sqrtw\n",
    "    X = np.ones((x.size, 2))\n",
    "    X[:, 1] = x\n",
    "    if hasattr(sqrtw, 'ndim') and sqrtw.ndim == 1:\n",
    "        sqrtw = sqrtw.reshape((sqrtw.size, 1))\n",
    "    X *= sqrtw\n",
    "    \n",
    "    beta = np.linalg.lstsq(X, y)[0]\n",
    "    eps = X.dot(beta) - y\n",
    "    SSR = eps.T.dot(eps)  # sum of squared residuals\n",
    "    vcv = SSR/(x.size - 2)*np.linalg.inv(X.T.dot(X))\n",
    "    TSS = np.sum(np.square(y - np.mean(y)))  # total sum of squares\n",
    "    R2 = 1 - SSR/TSS\n",
    "    return beta, vcv, R2\n",
    "    XtX = X.T.dot(X)\n",
    "    return np.linalg.lstsq(XtX, X.T.dot(y))[0]"
   ]
  },
  {
   "cell_type": "code",
   "execution_count": null,
   "metadata": {
    "collapsed": false
   },
   "outputs": [],
   "source": [
    "beta, M_beta, R2 = LS(conc_B, beta_conc[:, 1], 1/beta_conc_var[:, 1])\n",
    "beta, M_beta"
   ]
  },
  {
   "cell_type": "code",
   "execution_count": null,
   "metadata": {
    "collapsed": false,
    "scrolled": true
   },
   "outputs": [],
   "source": [
    "plt.errorbar(conc_B, beta_conc[:, 1], 3*np.sqrt(beta_conc_var[:, 1]), c='k', ls='None', marker='.')\n",
    "lbl = '$k_f = (%.2f \\pm %.2g) M^{-3}s^{-1}$' % (beta[1], M_beta[1, 1]**0.5)\n",
    "plt.plot(conc_B, beta[0] + beta[1]*conc_B, 'b', label=lbl)\n",
    "plt.gca().set_xlim((0, conc_B[-1]*1.05))\n",
    "plt.gca().set_ylim((0, (beta[1]*conc_B)[-1]*1.1))\n",
    "_ = plt.legend(loc='best')"
   ]
  },
  {
   "cell_type": "markdown",
   "metadata": {},
   "source": [
    "Och därmed är uppgiften löst. Värdet på $k_f$ känns bekannt (eftersom våra indata är syntetiska stod det mig fritt att välja det \"sanna\" $k_f$)."
   ]
  },
  {
   "cell_type": "markdown",
   "metadata": {},
   "source": [
    "# Minsta-kvadrat-anpassning till det linjäriserade problemet\n",
    "Som ett alternativ till icke-linjär ekvationsanpassning skulle vi kunna ha linjäriserat vårt uttryck för absorbansen:\n",
    "\n",
    "$$\n",
    "\\frac{1}{y^2(t)} = \\frac{\\frac{1}{A_0^2} + 6kt}{\\varepsilon^2 l^2}\n",
    "$$\n",
    "\n",
    "därifrån kan vi lösa ut vårt pseudo tredje ordningens hastighetskonstant:\n",
    "\n",
    "$$\n",
    "\\frac{1}{y^2(t)} = \\frac{1}{\\varepsilon^2 l^2 A_0^2} + \\frac{6k}{\\varepsilon^2 l^2}t \\\\\n",
    "$$\n",
    "\n",
    "notera att:\n",
    "\n",
    "$$\n",
    "\\frac{1}{y^2(t)} \\propto t\n",
    "$$\n",
    "\n",
    "vi inför därför en linjär funktion f(t) för regression:\n",
    "\n",
    "$$\n",
    "f(t) = p_0 + p_1 t\n",
    "$$\n",
    "\n",
    "$$\n",
    "\\begin{cases}\n",
    "p_0 = \\frac{1}{\\varepsilon^2 l^2 A_0^2} \\\\\n",
    "p_1 = \\frac{6k}{\\varepsilon^2 l^2}\n",
    "\\end{cases}\n",
    "$$\n",
    "\n",
    "$$\n",
    "\\begin{cases}\n",
    "\\varepsilon^2 l^2 = \\frac{1}{p_0 A_0^2} \\\\\n",
    "p_1 = \\frac{6k}{\\varepsilon^2 l^2}\n",
    "\\end{cases}\n",
    "$$\n",
    "\n",
    "$$\n",
    "k = \\frac{p_1}{6 p_0 A_0^2}\n",
    "$$\n"
   ]
  },
  {
   "cell_type": "code",
   "execution_count": null,
   "metadata": {
    "collapsed": false
   },
   "outputs": [],
   "source": [
    "all_k = np.zeros((n_conc, n_rep))\n",
    "var_k = np.empty_like(all_k)\n",
    "plt.figure(figsize=(14, 4))\n",
    "for i in range(n_conc):\n",
    "    for j in range(n_rep):\n",
    "        t = data[i, j, :, 0]\n",
    "        f = data[i, j, :, 1]**-2\n",
    "        beta, cov, R2 = LS(t, f)\n",
    "        all_k[i, j] = beta[1]/(6*beta[0]*1e-6)\n",
    "        var_k[i, j] = 1e6/6*(cov[0, 0] + cov[1, 1])\n",
    "for i in range(n_conc):\n",
    "    ax = plt.subplot(1, n_conc, i+1)\n",
    "    ax.ticklabel_format(axis='x', style='sci', scilimits=(-2,2))\n",
    "    max_var_k = np.max(var_k[i, :])\n",
    "    for j in range(n_rep):\n",
    "        t = data[i, j, :, 0]\n",
    "        f = data[i, j, :, 1]**-2\n",
    "        plt.plot(t, f, c=(var_k[i, j]/max_var_k, 0, 0), alpha=0.3)  # Ju rödare, desto större osäkerhet i k"
   ]
  },
  {
   "cell_type": "code",
   "execution_count": null,
   "metadata": {
    "collapsed": false
   },
   "outputs": [],
   "source": [
    "k_conc, k_conc_s2 = weighted_average(all_k.T, 1/var_k.T)\n",
    "beta, beta_cov, R2 = LS(conc_B, k_conc, k_conc_s2)\n",
    "plt.errorbar(conc_B, k_conc, yerr=np.sqrt(k_conc_s2), label='k = %.2f +/- %.2f' % (beta[1], beta_cov[1, 1]**0.5),\n",
    "             marker='s', ls='None')\n",
    "plt.plot(conc_B, beta[0] + conc_B*beta[1])\n",
    "_ = plt.legend(numpoints=1, loc='best')"
   ]
  },
  {
   "cell_type": "markdown",
   "metadata": {},
   "source": [
    "Som förväntat ger inte denna metod ett lika tillförlitligt resultat."
   ]
  }
 ],
 "metadata": {
  "kernelspec": {
   "display_name": "Python 3",
   "language": "python",
   "name": "python3"
  },
  "language_info": {
   "codemirror_mode": {
    "name": "ipython",
    "version": 3
   },
   "file_extension": ".py",
   "mimetype": "text/x-python",
   "name": "python",
   "nbconvert_exporter": "python",
   "pygments_lexer": "ipython3",
   "version": "3.4.3"
  }
 },
 "nbformat": 4,
 "nbformat_minor": 0
}
