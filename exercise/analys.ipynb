{
 "cells": [
  {
   "cell_type": "markdown",
   "metadata": {},
   "source": [
    "# Lösningsförslag till Övningsuppgift - Stopped Flow\n",
    "Författare: Björn Dahlgren, 2016-04-04\n",
    "\n",
    "Se övningsuppgiften för detaljer. Kortfattat ska vi bestämma hastighetskonstanten för följande reaktion:\n",
    "\n",
    "$$\n",
    "3A + B \\rightarrow C\n",
    "$$\n",
    "\n",
    "Detta lösningsförslag är skrivet i Python, se bilaga laborationshandledning för liknande exempel skrivna för Matlab."
   ]
  },
  {
   "cell_type": "code",
   "execution_count": null,
   "metadata": {
    "collapsed": false
   },
   "outputs": [],
   "source": [
    "from __future__ import division, print_function\n",
    "import numpy as np\n",
    "from numpy.polynomial import polynomial as P\n",
    "import matplotlib.pyplot as plt\n",
    "from scipy.optimize import curve_fit\n",
    "%matplotlib inline"
   ]
  },
  {
   "cell_type": "markdown",
   "metadata": {},
   "source": [
    "Från uppgiftstexten vet vi att vi har data för 5 värden på [B]0, 10 replikat för vardera, och 42 tidpunkter per mätserie. Vi läser in filerna in i variabeln ``data``:"
   ]
  },
  {
   "cell_type": "code",
   "execution_count": null,
   "metadata": {
    "collapsed": true
   },
   "outputs": [],
   "source": [
    "n_conc, n_rep, n_t = 5, 10, 42\n",
    "conc_B = np.linspace(1/10, n_conc/10, n_conc)  # molar\n",
    "data = np.empty((n_conc, n_rep, n_t, 2))\n",
    "for i in range(n_conc):\n",
    "    for j in range(n_rep):\n",
    "        data[i, j, :, :] = np.loadtxt('data/0.%d/%d.dat' % (i+1, j+1))"
   ]
  },
  {
   "cell_type": "markdown",
   "metadata": {},
   "source": [
    "Om vi antar pseudo tredje ordningens reaktion ($[B]_0 \\gg [A]_0$) blir hastighetsuttrycket för reaktionen:\n",
    "\n",
    "$$\n",
    "\\frac{dA}{dt} = -3kA^3\n",
    "$$\n",
    "\n",
    "integrering ger:\n",
    "$$\n",
    "A(t) = \\frac{1}{\\sqrt{\\frac{1}{A_0^2} + 6kt}}\n",
    "$$\n",
    "\n",
    "Detta uttryck skapar vi en funktion för som vi kallar \"``model``\":"
   ]
  },
  {
   "cell_type": "code",
   "execution_count": null,
   "metadata": {
    "collapsed": true
   },
   "outputs": [],
   "source": [
    "def model(t, y0, k):\n",
    "    return (y0**-2 + 6*k*t)**-0.5"
   ]
  },
  {
   "cell_type": "markdown",
   "metadata": {},
   "source": [
    "Nu genomför vi ickelinjärkurvanpassning av vår modellekvation på var och en av dataserierna. Vi formulerar även en relativ vikt baserad på hur väl passningen är. Valet av vikt är något godtyckligt och det kan vara bra att prova sig fram, ett vanligt val är Mean Square Deviation (MSD) & Mean Absolute Deviation (MAD). Vi använder MSD nedan:"
   ]
  },
  {
   "cell_type": "code",
   "execution_count": null,
   "metadata": {
    "collapsed": false
   },
   "outputs": [],
   "source": [
    "popt = np.empty((n_conc, n_rep, 2))  # y0, k\n",
    "pcov = np.empty((n_conc, n_rep, 2, 2))\n",
    "all_k = np.empty((n_conc, n_rep))\n",
    "all_w = np.empty((n_conc, n_rep))\n",
    "plt.figure(figsize=(16, 4))\n",
    "for i in range(n_conc):\n",
    "    ax = plt.subplot(1, n_conc, i+1)\n",
    "    ax.set_yscale('log')\n",
    "    for j in range(n_rep):\n",
    "        t = data[i, j, :, 0]\n",
    "        y = data[i, j, :, 1]\n",
    "        popt[i, j, :], pcov[i, j, :, :] = curve_fit(model, t, y, [y[0], 1])\n",
    "        m = model(t, *popt[i, j, :])\n",
    "        plt.plot(t, y, 'k', alpha=0.4)\n",
    "        plt.plot(t, m, 'b')\n",
    "        all_k[i, j] = popt[i, j, 1]\n",
    "        #all_w[i, j] = 1/pcov[i, j, 1, 1]             # varians i k\n",
    "        #all_w[i, j] = 1/pcov[i, j, 0, 0]             # varians i y0\n",
    "        all_w[i, j] = 1/np.average(np.square(y-m))    # MSD\n",
    "        #all_w[i, j] = 1/(np.average(np.abs(y-m)))    # MAD"
   ]
  },
  {
   "cell_type": "markdown",
   "metadata": {},
   "source": [
    "Nu beräknar vi de viktade medelvärdena (se laborationshandledning för formel) för de olika värdena för $[B]_0$ baserat på respektive 10 replikat."
   ]
  },
  {
   "cell_type": "code",
   "execution_count": null,
   "metadata": {
    "collapsed": false
   },
   "outputs": [],
   "source": [
    "k = np.empty(n_conc)\n",
    "for i in range(n_conc):\n",
    "    accum_k, accum_w = 0, 0\n",
    "    for j in range(n_rep):\n",
    "        w = all_w[i, j]\n",
    "        accum_k += all_k[i, j]*w\n",
    "        accum_w += w\n",
    "    k[i] = accum_k/accum_w"
   ]
  },
  {
   "cell_type": "markdown",
   "metadata": {},
   "source": [
    "Nu beräknar vi respektive viktade stickprovsvarians (se laborationshandledning för formel) för de nyligen beräknade viktade medelvärdena."
   ]
  },
  {
   "cell_type": "code",
   "execution_count": null,
   "metadata": {
    "collapsed": true
   },
   "outputs": [],
   "source": [
    "dk = np.empty_like(k)\n",
    "for i in range(n_conc):\n",
    "    accum_D, accum_w = 0, 0\n",
    "    for j in range(n_rep):\n",
    "        w = all_w[i, j]\n",
    "        accum_D += w*(all_k[i, j] - k[i])**2\n",
    "        accum_w += w\n",
    "    dk[i] = accum_D/((n_rep - 1)*accum_w)"
   ]
  },
  {
   "cell_type": "markdown",
   "metadata": {},
   "source": [
    "Våra pseudo tredje ordningens hastighetskonstanter är linjärt beroende av $[B]_0$:\n",
    "\n",
    "$$\n",
    "k_f = [B]_0 k\n",
    "$$\n",
    "\n",
    "Därför beräknar vi $k_f$ genom viktad linjär regression:"
   ]
  },
  {
   "cell_type": "code",
   "execution_count": null,
   "metadata": {
    "collapsed": false,
    "scrolled": true
   },
   "outputs": [],
   "source": [
    "plt.errorbar(conc_B, k, 3*dk**0.5, c='k', ls='None', marker='.')\n",
    "p, cov = P.polyfit(conc_B, k, 1, w=1/dk, full=True)\n",
    "plt.plot(conc_B, P.polyval(conc_B, p), 'b', label='$k_f$ = %.2f' % p[1])\n",
    "plt.gca().set_xlim((0, conc_B[-1]*1.05))\n",
    "plt.gca().set_ylim((0, k[-1]*1.1))\n",
    "plt.legend(loc='best')\n",
    "print(p)"
   ]
  },
  {
   "cell_type": "markdown",
   "metadata": {},
   "source": [
    "Och därmed är uppgiften löst. Värdet på $k_f$ känns bekannt (eftersom våra indata är syntetiska stog det mig fritt att välja det \"sanna\" $k_f$).\n",
    "\n",
    "Som \"överkurs\" kan vi ta fram ett antal statistiska värden med hjälp av paketet \"statsmodels\":"
   ]
  },
  {
   "cell_type": "code",
   "execution_count": null,
   "metadata": {
    "collapsed": false,
    "scrolled": false
   },
   "outputs": [],
   "source": [
    "import statsmodels.api as sm\n",
    "sm.WLS(k, sm.add_constant(conc_B), weights=1/dk).fit().summary()"
   ]
  }
 ],
 "metadata": {
  "kernelspec": {
   "display_name": "Python 2",
   "language": "python",
   "name": "python2"
  },
  "language_info": {
   "codemirror_mode": {
    "name": "ipython",
    "version": 2
   },
   "file_extension": ".py",
   "mimetype": "text/x-python",
   "name": "python",
   "nbconvert_exporter": "python",
   "pygments_lexer": "ipython2",
   "version": "2.7.6"
  }
 },
 "nbformat": 4,
 "nbformat_minor": 0
}
