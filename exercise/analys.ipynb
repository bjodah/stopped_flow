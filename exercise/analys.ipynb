{
 "cells": [
  {
   "cell_type": "markdown",
   "metadata": {},
   "source": [
    "# Lösningsförslag till Övningsuppgift - Stopped Flow\n",
    "Författare: Björn Dahlgren, 2016-04-04\n",
    "\n",
    "Se övningsuppgiften för detaljer. Kortfattat ska vi bestämma hastighetskonstanten för följande reaktion:\n",
    "\n",
    "$$\n",
    "3A + B \\rightarrow C\n",
    "$$\n",
    "\n",
    "Detta lösningsförslag är skrivet i Python, se bilaga laborationshandledning för liknande exempel skrivna för Matlab."
   ]
  },
  {
   "cell_type": "code",
   "execution_count": null,
   "metadata": {
    "collapsed": false
   },
   "outputs": [],
   "source": [
    "from __future__ import division, print_function\n",
    "import numpy as np\n",
    "import matplotlib.pyplot as plt\n",
    "from scipy.optimize import curve_fit\n",
    "from scipy.linalg import lstsq\n",
    "%matplotlib inline"
   ]
  },
  {
   "cell_type": "markdown",
   "metadata": {},
   "source": [
    "Från uppgiftstexten vet vi att vi har data för 5 värden på [B]₀, 10 replikat för vardera, och 42 tidpunkter per mätserie. Vi läser in filerna in i variabeln ``data``:"
   ]
  },
  {
   "cell_type": "code",
   "execution_count": null,
   "metadata": {
    "collapsed": true
   },
   "outputs": [],
   "source": [
    "A0 = 1e-3\n",
    "n_conc, n_rep, n_t = 5, 10, 42\n",
    "conc_B = np.linspace(1/10, n_conc/10, n_conc)  # molar\n",
    "data = np.empty((n_conc, n_rep, n_t, 2))\n",
    "for i in range(n_conc):\n",
    "    for j in range(n_rep):\n",
    "        data[i, j, :, :] = np.loadtxt('data/0.%d/%d.dat' % (i+1, j+1))"
   ]
  },
  {
   "cell_type": "markdown",
   "metadata": {},
   "source": [
    "Om vi antar pseudo tredje ordningens reaktion ([B]₀ » [A]₀) blir hastighetsuttrycket för reaktionen:\n",
    "\n",
    "$$\n",
    "\\frac{dA}{dt} = -3kA^3\n",
    "$$\n",
    "\n",
    "integrering ger:\n",
    "$$\n",
    "A(t) = \\frac{1}{\\sqrt{\\frac{1}{A_0^2} + 6kt}}\n",
    "$$\n",
    "\n",
    "genom Lambert-Beers lag får vi absorbansen ($y$):\n",
    "\n",
    "$$\n",
    "y(t) = \\frac{\\varepsilon l}{\\sqrt{\\frac{1}{A_0^2} + 6kt}}\n",
    "$$\n",
    "\n",
    "utifrån detta uttryck skapar vi en funktion för som vi kallar \"``model``\":"
   ]
  },
  {
   "cell_type": "code",
   "execution_count": null,
   "metadata": {
    "collapsed": true
   },
   "outputs": [],
   "source": [
    "def model(t, eps_l, k):\n",
    "    return eps_l*(A0**-2 + 6*k*t)**-0.5"
   ]
  },
  {
   "cell_type": "markdown",
   "metadata": {},
   "source": [
    "Nu genomför vi ickelinjärkurvanpassning av vår modellekvation på var och en av dataserierna. Vi formulerar även en relativ vikt baserad på hur väl passningen är. Valet av vikt är något godtyckligt och det kan vara bra att prova sig fram, ett vanligt val är Mean Square Deviation (MSD) & Mean Absolute Deviation (MAD). Vi använder MSD nedan:"
   ]
  },
  {
   "cell_type": "code",
   "execution_count": null,
   "metadata": {
    "collapsed": false
   },
   "outputs": [],
   "source": [
    "popt = np.empty((n_conc, n_rep, 2))  # y0, k\n",
    "pcov = np.empty((n_conc, n_rep, 2, 2))\n",
    "all_k = np.empty((n_conc, n_rep))\n",
    "all_w = np.empty((n_conc, n_rep))\n",
    "all_m = np.empty((n_conc, n_rep, n_t))\n",
    "plt.figure(figsize=(16, 4))\n",
    "for i in range(n_conc):\n",
    "    ax = plt.subplot(1, n_conc, i+1)\n",
    "    for j in range(n_rep):\n",
    "        t = data[i, j, :, 0]\n",
    "        y = data[i, j, :, 1]\n",
    "        try:\n",
    "            popt[i, j, :], pcov[i, j, :, :] = curve_fit(model, t, y, [y[0]/A0, 1])\n",
    "        except:\n",
    "            popt[i, j, :], pcov[i, j, :, :] = [0]*2, [[float('inf')]*2]*2\n",
    "        plt.plot(t, y, 'k', alpha=0.4)\n",
    "        all_k[i, j] = popt[i, j, 1]\n",
    "        all_m[i, j, :] = m = model(t, *popt[i, j, :])\n",
    "        # Val av vikt:\n",
    "        #all_w[i, j] = 1/pcov[i, j, 0, 0]             # varians i epsilon*l\n",
    "        #all_w[i, j] = 1/pcov[i, j, 1, 1]             # varians i k\n",
    "        #all_w[i, j] = 1/np.average(np.square(y-m))    # MSD\n",
    "        all_w[i, j] = 1/(np.average(np.abs(y-m)))    # MAD\n",
    "\n",
    "for i in range(n_conc):\n",
    "    ax = plt.subplot(1, n_conc, i+1)\n",
    "    ax.ticklabel_format(axis='x', style='sci', scilimits=(-2,2))\n",
    "    ax.autoscale(tight=True)\n",
    "    ax.set_ylabel('Absorbance')\n",
    "    ax.set_xlabel('Time / s')\n",
    "    for j in range(n_rep):\n",
    "        red = 1 - all_w[i, j]/np.max(all_w[i, :])\n",
    "        t = data[i, j, :, 0]\n",
    "        plt.plot(t, all_m[i, j, :], c=(red, 0, 1.0))\n",
    "plt.tight_layout()"
   ]
  },
  {
   "cell_type": "markdown",
   "metadata": {},
   "source": [
    "Nu beräknar vi de viktade medelvärdena (se laborationshandledning för formel) för de olika värdena för [B]₀ baserat på respektive 10 replikat."
   ]
  },
  {
   "cell_type": "code",
   "execution_count": null,
   "metadata": {
    "collapsed": false
   },
   "outputs": [],
   "source": [
    "k = np.empty(n_conc)\n",
    "for i in range(n_conc):\n",
    "    accum_k, accum_w = 0, 0\n",
    "    for j in range(n_rep):\n",
    "        w = all_w[i, j]\n",
    "        accum_k += all_k[i, j]*w\n",
    "        accum_w += w\n",
    "    k[i] = accum_k/accum_w\n",
    "k"
   ]
  },
  {
   "cell_type": "markdown",
   "metadata": {},
   "source": [
    "Nu beräknar vi respektive viktade stickprovsvarians (se laborationshandledning för formel) för de nyligen beräknade viktade medelvärdena."
   ]
  },
  {
   "cell_type": "code",
   "execution_count": null,
   "metadata": {
    "collapsed": false
   },
   "outputs": [],
   "source": [
    "s2k = np.empty_like(k)\n",
    "for i in range(n_conc):\n",
    "    accum_D, accum_w = 0, 0\n",
    "    for j in range(n_rep):\n",
    "        w = all_w[i, j]\n",
    "        accum_D += w*(all_k[i, j] - k[i])**2\n",
    "        accum_w += w\n",
    "    s2k[i] = accum_D/((n_rep - 1)*accum_w)\n",
    "s2k"
   ]
  },
  {
   "cell_type": "markdown",
   "metadata": {},
   "source": [
    "Våra pseudo tredje ordningens hastighetskonstanter är linjärt beroende av [B]₀:\n",
    "\n",
    "$$\n",
    "k_f = [B]_0 k\n",
    "$$\n",
    "\n",
    "Därför beräknar vi $k_f$ genom [viktad linjär regression](https://en.wikipedia.org/wiki/Linear_least_squares_%28mathematics%29#Weighted_linear_least_squares):"
   ]
  },
  {
   "cell_type": "code",
   "execution_count": null,
   "metadata": {
    "collapsed": false
   },
   "outputs": [],
   "source": [
    "X = np.ones((n_conc, 2))\n",
    "X[:, 1] = conc_B\n",
    "W = np.diag(1/s2k)\n",
    "XtW = (X.T).dot(W)\n",
    "XtWX = XtW.dot(X)\n",
    "beta = lstsq(XtWX, XtW.dot(k))[0]\n",
    "M_beta = np.linalg.inv(XtWX)\n",
    "beta, M_beta"
   ]
  },
  {
   "cell_type": "code",
   "execution_count": null,
   "metadata": {
    "collapsed": false,
    "scrolled": true
   },
   "outputs": [],
   "source": [
    "plt.errorbar(conc_B, k, 3*np.sqrt(s2k), c='k', ls='None', marker='.')\n",
    "lbl = '$k_f = (%.2f \\pm %.2g) M^{-3}s^{-1}$' % (beta[1], M_beta[1, 1]**0.5)\n",
    "plt.plot(conc_B, beta[0] + beta[1]*conc_B, 'b', label=lbl)\n",
    "plt.gca().set_xlim((0, conc_B[-1]*1.05))\n",
    "plt.gca().set_ylim((0, k[-1]*1.1))\n",
    "_ = plt.legend(loc='best')"
   ]
  },
  {
   "cell_type": "markdown",
   "metadata": {},
   "source": [
    "Och därmed är uppgiften löst. Värdet på $k_f$ känns bekannt (eftersom våra indata är syntetiska stog det mig fritt att välja det \"sanna\" $k_f$).\n",
    "\n",
    "Som \"överkurs\" kan vi ta fram ett antal statistiska värden med hjälp av paketet \"statsmodels\":"
   ]
  },
  {
   "cell_type": "code",
   "execution_count": null,
   "metadata": {
    "collapsed": false,
    "scrolled": true
   },
   "outputs": [],
   "source": [
    "import statsmodels.api as sm\n",
    "sm.WLS(k, sm.add_constant(conc_B), weights=1/s2k).fit().summary()"
   ]
  },
  {
   "cell_type": "markdown",
   "metadata": {},
   "source": [
    "Som ett alternativ till icke-linjär ekvationsanpassning skulle vi kunna ha linjäriserat vårt uttryck för absorbansen:\n",
    "\n",
    "$$\n",
    "\\frac{1}{y^2(t)} = \\frac{\\frac{1}{A_0^2} + 6kt}{\\varepsilon^2 l^2}\n",
    "$$\n",
    "\n",
    "därifrån kan vi lösa ut vårt pseudo tredje ordningens hastighetskonstant:\n",
    "\n",
    "$$\n",
    "\\frac{1}{y^2(t)} = \\frac{1}{\\varepsilon^2 l^2 A_0^2} + \\frac{6k}{\\varepsilon^2 l^2}t \\\\\n",
    "$$\n",
    "\n",
    "notera att:\n",
    "\n",
    "$$\n",
    "\\frac{1}{y^2(t)} \\propto t\n",
    "$$\n",
    "\n",
    "vi inför därför en linjär funktion f(t) för regression:\n",
    "\n",
    "$$\n",
    "f(t) = p_0 + p_1 t\n",
    "$$\n",
    "\n",
    "$$\n",
    "\\begin{cases}\n",
    "p_0 = \\frac{1}{\\varepsilon^2 l^2 A_0^2} \\\\\n",
    "p_1 = \\frac{6k}{\\varepsilon^2 l^2}\n",
    "\\end{cases}\n",
    "$$\n",
    "\n",
    "$$\n",
    "\\begin{cases}\n",
    "\\varepsilon^2 l^2 = \\frac{1}{p_0 A_0^2} \\\\\n",
    "p_1 = \\frac{6k}{\\varepsilon^2 l^2}\n",
    "\\end{cases}\n",
    "$$\n",
    "\n",
    "$$\n",
    "k = \\frac{p_1}{6 p_0 A_0^2}\n",
    "$$\n"
   ]
  },
  {
   "cell_type": "code",
   "execution_count": null,
   "metadata": {
    "collapsed": false
   },
   "outputs": [],
   "source": [
    "all_k = np.zeros((n_conc, n_rep))\n",
    "plt.figure(figsize=(14, 4))\n",
    "for i in range(n_conc):\n",
    "    ax = plt.subplot(1, n_conc, i+1)\n",
    "    ax.ticklabel_format(axis='x', style='sci', scilimits=(-2,2))\n",
    "    for j in range(n_rep):\n",
    "        t = data[i, j, :, 0]\n",
    "        f = data[i, j, :, 1]**-2\n",
    "        plt.plot(t, f, c='k', alpha=0.3)\n",
    "        p = np.polyfit(t, f, 1)\n",
    "        all_k[i, j] = p[0]/(6*p[1]*1e-6)"
   ]
  },
  {
   "cell_type": "code",
   "execution_count": null,
   "metadata": {
    "collapsed": false
   },
   "outputs": [],
   "source": [
    "lin_k = np.mean(all_k, axis=1)\n",
    "plt.plot(conc_B, lin_k, 's')\n",
    "p = np.polyfit(conc_B, lin_k, 1)\n",
    "plt.plot(conc_B, np.polyval(p, conc_B), label='k = %.2f' % p[0])\n",
    "_ = plt.legend(loc='best')"
   ]
  },
  {
   "cell_type": "markdown",
   "metadata": {},
   "source": [
    "Vi skulle kunna göra viktad regression även här men det lämnas till läsaren som uppgift."
   ]
  }
 ],
 "metadata": {
  "kernelspec": {
   "display_name": "Python 2",
   "language": "python",
   "name": "python2"
  },
  "language_info": {
   "codemirror_mode": {
    "name": "ipython",
    "version": 2
   },
   "file_extension": ".py",
   "mimetype": "text/x-python",
   "name": "python",
   "nbconvert_exporter": "python",
   "pygments_lexer": "ipython2",
   "version": "2.7.6"
  }
 },
 "nbformat": 4,
 "nbformat_minor": 0
}
