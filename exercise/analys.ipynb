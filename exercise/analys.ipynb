{
 "cells": [
  {
   "cell_type": "markdown",
   "metadata": {},
   "source": [
    "# Lösningsförslag till Övningsuppgift - Stopped Flow\n",
    "Författare: Björn Dahlgren, 2016-04-04\n",
    "\n",
    "Detta lösningsförslag är skrivet i Python, se laborationshandledning för liknande exempel skrivna för Matlab."
   ]
  },
  {
   "cell_type": "code",
   "execution_count": null,
   "metadata": {
    "collapsed": false
   },
   "outputs": [],
   "source": [
    "from __future__ import division, print_function\n",
    "import numpy as np\n",
    "from numpy.polynomial import polynomial as P\n",
    "import matplotlib.pyplot as plt\n",
    "from scipy.optimize import curve_fit\n",
    "import statsmodels.api as sm\n",
    "%matplotlib inline"
   ]
  },
  {
   "cell_type": "code",
   "execution_count": null,
   "metadata": {
    "collapsed": true
   },
   "outputs": [],
   "source": [
    "n_conc, n_rep, n_t = 5, 10, 42\n",
    "conc_B = np.linspace(1/10, n_conc/10, n_conc)  # molar\n",
    "data = np.empty((n_conc, n_rep, n_t, 2))\n",
    "for i in range(n_conc):\n",
    "    for j in range(n_rep):\n",
    "        data[i, j, :, :] = np.loadtxt('data/0.%d/%d.dat' % (i+1, j+1))"
   ]
  },
  {
   "cell_type": "code",
   "execution_count": null,
   "metadata": {
    "collapsed": true
   },
   "outputs": [],
   "source": [
    "def model(t, y0, k):\n",
    "    return (y0**-2 + 6*k*t)**-0.5"
   ]
  },
  {
   "cell_type": "code",
   "execution_count": null,
   "metadata": {
    "collapsed": false
   },
   "outputs": [],
   "source": [
    "popt = np.empty((n_conc, n_rep, 2))  # y0, k\n",
    "pcov = np.empty((n_conc, n_rep, 2, 2))\n",
    "all_k = np.empty((n_conc, n_rep))\n",
    "all_w = np.empty((n_conc, n_rep))\n",
    "plt.figure(figsize=(16, 4))\n",
    "for i in range(n_conc):\n",
    "    ax = plt.subplot(1, n_conc, i+1)\n",
    "    ax.set_yscale('log')\n",
    "    for j in range(n_rep):\n",
    "        t = data[i, j, :, 0]\n",
    "        y = data[i, j, :, 1]\n",
    "        popt[i, j, :], pcov[i, j, :, :] = curve_fit(model, t, y, [y[0], 1])\n",
    "        m = model(t, *popt[i, j, :])\n",
    "        plt.plot(t, y, 'k', alpha=0.4)\n",
    "        plt.plot(t, m, 'b')\n",
    "        all_k[i, j] = popt[i, j, 1]\n",
    "        #all_w[i, j] = 1/pcov[i, j, 1, 1]             # varians i k\n",
    "        #all_w[i, j] = 1/pcov[i, j, 0, 0]             # varians i y0\n",
    "        all_w[i, j] = 1/np.average(np.square(y-m))    # MSD\n",
    "        #all_w[i, j] = 1/(np.average(np.abs(y-m)))    # MAD"
   ]
  },
  {
   "cell_type": "code",
   "execution_count": null,
   "metadata": {
    "collapsed": false
   },
   "outputs": [],
   "source": [
    "k = np.empty(n_conc)\n",
    "for i in range(n_conc):\n",
    "    accum_k, accum_w = 0, 0\n",
    "    for j in range(n_rep):\n",
    "        w = all_w[i, j]\n",
    "        accum_k += all_k[i, j]*w\n",
    "        accum_w += w\n",
    "    k[i] = accum_k/accum_w"
   ]
  },
  {
   "cell_type": "code",
   "execution_count": null,
   "metadata": {
    "collapsed": true
   },
   "outputs": [],
   "source": [
    "dk = np.empty_like(k)\n",
    "for i in range(n_conc):\n",
    "    accum_D, accum_w = 0, 0\n",
    "    for j in range(n_rep):\n",
    "        w = all_w[i, j]\n",
    "        accum_D += w*(all_k[i, j] - k[i])**2\n",
    "        accum_w += w\n",
    "    dk[i] = accum_D/((n_rep - 1)*accum_w)"
   ]
  },
  {
   "cell_type": "code",
   "execution_count": null,
   "metadata": {
    "collapsed": false,
    "scrolled": true
   },
   "outputs": [],
   "source": [
    "plt.errorbar(conc_B, k, 3*dk**0.5, c='k', ls='None', marker='.')\n",
    "p, cov = P.polyfit(conc_B, k, 1, w=1/dk, full=True)\n",
    "plt.plot(conc_B, P.polyval(conc_B, p), 'b', label='$k_f$ = %.2f' % p[1])\n",
    "plt.gca().set_xlim((0, conc_B[-1]*1.05))\n",
    "plt.gca().set_ylim((0, k[-1]*1.1))\n",
    "plt.legend(loc='best')\n",
    "print(p)"
   ]
  },
  {
   "cell_type": "code",
   "execution_count": null,
   "metadata": {
    "collapsed": false
   },
   "outputs": [],
   "source": [
    "sm.WLS(k, sm.add_constant(conc_B), weights=1/dk).fit().summary()"
   ]
  }
 ],
 "metadata": {
  "kernelspec": {
   "display_name": "Python 2",
   "language": "python",
   "name": "python2"
  },
  "language_info": {
   "codemirror_mode": {
    "name": "ipython",
    "version": 2
   },
   "file_extension": ".py",
   "mimetype": "text/x-python",
   "name": "python",
   "nbconvert_exporter": "python",
   "pygments_lexer": "ipython2",
   "version": "2.7.6"
  }
 },
 "nbformat": 4,
 "nbformat_minor": 0
}
