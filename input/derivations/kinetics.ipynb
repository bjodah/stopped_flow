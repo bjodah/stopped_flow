{
 "metadata": {
  "name": ""
 },
 "nbformat": 3,
 "nbformat_minor": 0,
 "worksheets": [
  {
   "cells": [
    {
     "cell_type": "code",
     "collapsed": false,
     "input": [
      "%matplotlib inline\n",
      "from sympy import *\n",
      "from sympy import init_printing\n",
      "init_printing(use_latex=True)"
     ],
     "language": "python",
     "metadata": {},
     "outputs": [],
     "prompt_number": 16
    },
    {
     "cell_type": "code",
     "collapsed": false,
     "input": [
      "vars_ = t,A,B,kf,kb,x,xt,D,C0 = symbols('t A B k_f k_b x x_t D C_0', real=True, positive=True)\n",
      "vars_ = vars_[:-4]"
     ],
     "language": "python",
     "metadata": {},
     "outputs": [],
     "prompt_number": 282
    },
    {
     "cell_type": "code",
     "collapsed": false,
     "input": [
      "# Reaction:                     A    +   B     <=>    C\n",
      "# Concentration at time 0:      A        B            0\n",
      "# Concentration at time t:     A-x      B-x           x\n",
      "\n",
      "# Note: A >= B\n",
      "dxdt_ = kf*(A-x)*(B-x)-kb*x\n",
      "Eq(Derivative(x,t), dxdt_)"
     ],
     "language": "python",
     "metadata": {},
     "outputs": [
      {
       "latex": [
        "$$\\frac{d}{d t} x = - k_{b} x + k_{f} \\left(A - x\\right) \\left(B - x\\right)$$"
       ],
       "metadata": {},
       "output_type": "pyout",
       "png": "[encoded data removed]",
       "prompt_number": 253,
       "text": [
        "d                                   \n",
        "\u2500\u2500(x) = -k_b\u22c5x + k_f\u22c5(A - x)\u22c5(B - x)\n",
        "dt                                  "
       ]
      }
     ],
     "prompt_number": 253
    },
    {
     "cell_type": "code",
     "collapsed": false,
     "input": [
      "Eq(Integral(1/dxdt_,(x,0,xt)), t)"
     ],
     "language": "python",
     "metadata": {},
     "outputs": [
      {
       "latex": [
        "$$\\int_{0}^{x_{t}} \\frac{1}{- k_{b} x + k_{f} \\left(A - x\\right) \\left(B - x\\right)}\\, dx = t$$"
       ],
       "metadata": {},
       "output_type": "pyout",
       "png": "[encoded data removed]",
       "prompt_number": 263,
       "text": [
        "x_t                                    \n",
        " \u2320                                     \n",
        " \u23ae               1                     \n",
        " \u23ae  \u2500\u2500\u2500\u2500\u2500\u2500\u2500\u2500\u2500\u2500\u2500\u2500\u2500\u2500\u2500\u2500\u2500\u2500\u2500\u2500\u2500\u2500\u2500\u2500\u2500\u2500\u2500\u2500 dx = t\n",
        " \u23ae  -k_b\u22c5x + k_f\u22c5(A - x)\u22c5(B - x)       \n",
        " \u2321                                     \n",
        " 0                                     "
       ]
      }
     ],
     "prompt_number": 263
    },
    {
     "cell_type": "code",
     "collapsed": false,
     "input": [
      "Eq(Integral(1/(dxdt_/kf).expand(),(x,0,xt)), kf*t), Eq(D, kb/kf)"
     ],
     "language": "python",
     "metadata": {},
     "outputs": [
      {
       "latex": [
        "$$\\begin{pmatrix}\\int_{0}^{x_{t}} \\frac{1}{A B - A x - B x - \\frac{k_{b} x}{k_{f}} + x^{2}}\\, dx = k_{f} t, & D = \\frac{k_{b}}{k_{f}}\\end{pmatrix}$$"
       ],
       "metadata": {},
       "output_type": "pyout",
       "png": "[encoded data removed]",
       "prompt_number": 264,
       "text": [
        "\u239bx_t                                                 \u239e\n",
        "\u239c \u2320                                                  \u239f\n",
        "\u239c \u23ae               1                               k_b\u239f\n",
        "\u239c \u23ae  \u2500\u2500\u2500\u2500\u2500\u2500\u2500\u2500\u2500\u2500\u2500\u2500\u2500\u2500\u2500\u2500\u2500\u2500\u2500\u2500\u2500\u2500\u2500\u2500\u2500\u2500\u2500\u2500 dx = k_f\u22c5t, D = \u2500\u2500\u2500\u239f\n",
        "\u239c \u23ae                    k_b\u22c5x    2                 k_f\u239f\n",
        "\u239c \u23ae  A\u22c5B - A\u22c5x - B\u22c5x - \u2500\u2500\u2500\u2500\u2500 + x                     \u239f\n",
        "\u239c \u23ae                     k_f                          \u239f\n",
        "\u239c \u2321                                                  \u239f\n",
        "\u239d 0                                                  \u23a0"
       ]
      }
     ],
     "prompt_number": 264
    },
    {
     "cell_type": "code",
     "collapsed": false,
     "input": [
      "a,b,c,k=symbols('a b c k')\n",
      "# BETA page 164. eq 164.\n",
      "a_ = 1\n",
      "b_ = -A-B-D\n",
      "c_ = A*B\n",
      "kk = 4*a*c-b**2\n",
      "abck = {a: a_, b: b_, c: c_}\n",
      "k_ = kk.subs(abck)\n",
      "abck[k] = k_\n",
      "canonical = 1/(a*x**2+b*x+c)\n",
      "Integral(canonical,(x,)), Eq(k, 4*a*c-b**2), Eq(a,a_), Eq(b,b_), Eq(c,c_), Eq(4*a*c,4*a_*c_), Eq(b**2, b_**2), Eq(k, k_)"
     ],
     "language": "python",
     "metadata": {},
     "outputs": [
      {
       "latex": [
        "$$\\begin{pmatrix}\\int \\frac{1}{a x^{2} + b x + c}\\, dx, & k = 4 a c - b^{2}, & a = 1, & b = - A - B - D, & c = A B, & 4 a c = 4 A B, & b^{2} = \\left(- A - B - D\\right)^{2}, & k = 4 A B - \\left(- A - B - D\\right)^{2}\\end{pmatrix}$$"
       ],
       "metadata": {},
       "output_type": "pyout",
       "png": "[encoded data removed]",
       "prompt_number": 265,
       "text": [
        "\u239b\u2320                                                                            \n",
        "\u239c\u23ae       1                         2                                          \n",
        "\u239c\u23ae \u2500\u2500\u2500\u2500\u2500\u2500\u2500\u2500\u2500\u2500\u2500\u2500\u2500\u2500 dx, k = 4\u22c5a\u22c5c - b , a = 1, b = -A - B - D, c = A\u22c5B, 4\u22c5a\u22c5c = \n",
        "\u239c\u23ae    2                                                                       \n",
        "\u239c\u23ae a\u22c5x  + b\u22c5x + c                                                             \n",
        "\u239d\u2321                                                                            \n",
        "\n",
        "                                                    \u239e\n",
        "        2               2                          2\u239f\n",
        "4\u22c5A\u22c5B, b  = (-A - B - D) , k = 4\u22c5A\u22c5B - (-A - B - D) \u239f\n",
        "                                                    \u239f\n",
        "                                                    \u239f\n",
        "                                                    \u23a0"
       ]
      }
     ],
     "prompt_number": 265
    },
    {
     "cell_type": "code",
     "collapsed": false,
     "input": [
      "#lt = 1/sqrt(-k)*log(abs((2*a*x+b-sqrt(-k))/(2*a*x+b+sqrt(-k))))\n",
      "lt = 1/sqrt(-k)*log((2*a*x+b-sqrt(-k))/(2*a*x+b+sqrt(-k)))\n",
      "lt_ = lt.subs(abck)\n",
      "cond = 4*a*c < b**2\n",
      "(lt, cond, cond.subs(abck))"
     ],
     "language": "python",
     "metadata": {},
     "outputs": [
      {
       "latex": [
        "$$\\begin{pmatrix}\\frac{1}{\\sqrt{- k}} \\log{\\left (\\frac{2 a x + b - \\sqrt{- k}}{2 a x + b + \\sqrt{- k}} \\right )}, & 4 a c < b^{2}, & 4 A B < \\left(- A - B - D\\right)^{2}\\end{pmatrix}$$"
       ],
       "metadata": {},
       "output_type": "pyout",
       "png": "[encoded data removed]",
       "prompt_number": 266,
       "text": [
        "\u239b   \u239b              ____\u239e                                   \u239e\n",
        "\u239c   \u239c2\u22c5a\u22c5x + b - \u2572\u2571 -k \u239f                                   \u239f\n",
        "\u239clog\u239c\u2500\u2500\u2500\u2500\u2500\u2500\u2500\u2500\u2500\u2500\u2500\u2500\u2500\u2500\u2500\u2500\u2500\u2500\u239f                                   \u239f\n",
        "\u239c   \u239c              ____\u239f                                   \u239f\n",
        "\u239c   \u239d2\u22c5a\u22c5x + b + \u2572\u2571 -k \u23a0           2                      2\u239f\n",
        "\u239c\u2500\u2500\u2500\u2500\u2500\u2500\u2500\u2500\u2500\u2500\u2500\u2500\u2500\u2500\u2500\u2500\u2500\u2500\u2500\u2500\u2500\u2500\u2500, 4\u22c5a\u22c5c < b , 4\u22c5A\u22c5B < (-A - B - D) \u239f\n",
        "\u239c           ____                                           \u239f\n",
        "\u239d         \u2572\u2571 -k                                            \u23a0"
       ]
      }
     ],
     "prompt_number": 266
    },
    {
     "cell_type": "code",
     "collapsed": false,
     "input": [
      "eq = -2/(2*a*x+b)\n",
      "eq_ = eq.subs(abck)\n",
      "cond = Eq(4*a*c, b**2)\n",
      "(eq, cond, cond.subs(abck))"
     ],
     "language": "python",
     "metadata": {},
     "outputs": [
      {
       "latex": [
        "$$\\begin{pmatrix}- \\frac{2}{2 a x + b}, & 4 a c = b^{2}, & 4 A B = \\left(- A - B - D\\right)^{2}\\end{pmatrix}$$"
       ],
       "metadata": {},
       "output_type": "pyout",
       "png": "[encoded data removed]",
       "prompt_number": 267,
       "text": [
        "\u239b   -2               2                      2\u239e\n",
        "\u239c\u2500\u2500\u2500\u2500\u2500\u2500\u2500\u2500\u2500, 4\u22c5a\u22c5c = b , 4\u22c5A\u22c5B = (-A - B - D) \u239f\n",
        "\u239d2\u22c5a\u22c5x + b                                   \u23a0"
       ]
      }
     ],
     "prompt_number": 267
    },
    {
     "cell_type": "code",
     "collapsed": false,
     "input": [
      "# We can never have 4AB > (A+B+D)**2\n",
      "#gt = -2/sqrt(k)*atanh((2*a*x+b)/(sqrt(k)))\n",
      "gt = oo\n",
      "gt_ = gt.subs(abck)\n",
      "cond = 4*a*c > b**2\n",
      "(gt, cond, cond.subs(abck))"
     ],
     "language": "python",
     "metadata": {},
     "outputs": [
      {
       "latex": [
        "$$\\begin{pmatrix}\\infty, & 4 a c > b^{2}, & 4 A B > \\left(- A - B - D\\right)^{2}\\end{pmatrix}$$"
       ],
       "metadata": {},
       "output_type": "pyout",
       "png": "[encoded data removed]",
       "prompt_number": 268,
       "text": [
        "\u239b            2                      2\u239e\n",
        "\u239d\u221e, 4\u22c5a\u22c5c > b , 4\u22c5A\u22c5B > (-A - B - D) \u23a0"
       ]
      }
     ],
     "prompt_number": 268
    },
    {
     "cell_type": "code",
     "collapsed": false,
     "input": [
      "attempt = lt#_.subs({D:D_})\n",
      "lhs = attempt - attempt.subs({x:0})\n",
      "Eq(lhs, kf*t)\n",
      "# Note then atanh from this attempt: could be source of error"
     ],
     "language": "python",
     "metadata": {},
     "outputs": [
      {
       "latex": [
        "$$- \\frac{1}{\\sqrt{- k}} \\log{\\left (\\frac{b - \\sqrt{- k}}{b + \\sqrt{- k}} \\right )} + \\frac{1}{\\sqrt{- k}} \\log{\\left (\\frac{2 a x + b - \\sqrt{- k}}{2 a x + b + \\sqrt{- k}} \\right )} = k_{f} t$$"
       ],
       "metadata": {},
       "output_type": "pyout",
       "png": "[encoded data removed]",
       "prompt_number": 269,
       "text": [
        "     \u239b      ____\u239e      \u239b              ____\u239e        \n",
        "     \u239cb - \u2572\u2571 -k \u239f      \u239c2\u22c5a\u22c5x + b - \u2572\u2571 -k \u239f        \n",
        "  log\u239c\u2500\u2500\u2500\u2500\u2500\u2500\u2500\u2500\u2500\u2500\u239f   log\u239c\u2500\u2500\u2500\u2500\u2500\u2500\u2500\u2500\u2500\u2500\u2500\u2500\u2500\u2500\u2500\u2500\u2500\u2500\u239f        \n",
        "     \u239c      ____\u239f      \u239c              ____\u239f        \n",
        "     \u239db + \u2572\u2571 -k \u23a0      \u239d2\u22c5a\u22c5x + b + \u2572\u2571 -k \u23a0        \n",
        "- \u2500\u2500\u2500\u2500\u2500\u2500\u2500\u2500\u2500\u2500\u2500\u2500\u2500\u2500\u2500 + \u2500\u2500\u2500\u2500\u2500\u2500\u2500\u2500\u2500\u2500\u2500\u2500\u2500\u2500\u2500\u2500\u2500\u2500\u2500\u2500\u2500\u2500\u2500 = k_f\u22c5t\n",
        "         ____                  ____                \n",
        "       \u2572\u2571 -k                 \u2572\u2571 -k                 "
       ]
      }
     ],
     "prompt_number": 269
    },
    {
     "cell_type": "code",
     "collapsed": false,
     "input": [
      "lhs_expl = lhs.subs(abck).subs({D: D_}).simplify()\n",
      "Eq(lhs_expl, kf*t)"
     ],
     "language": "python",
     "metadata": {},
     "outputs": [
      {
       "latex": [
        "$$\\frac{k_{f}}{\\sqrt{- 4 A B k_{f}^{2} + \\left(k_{b} + k_{f} \\left(A + B\\right)\\right)^{2}}} \\left(\\log{\\left (\\frac{- k_{b} - k_{f} \\left(A + B - 2 x\\right) - \\sqrt{- 4 A B k_{f}^{2} + \\left(k_{b} + k_{f} \\left(A + B\\right)\\right)^{2}}}{- k_{b} + k_{f} \\left(- A - B + 2 x\\right) + \\sqrt{- 4 A B k_{f}^{2} + \\left(k_{b} + k_{f} \\left(A + B\\right)\\right)^{2}}} \\right )} - \\log{\\left (\\frac{k_{b} + k_{f} \\left(A + B\\right) + \\sqrt{- 4 A B k_{f}^{2} + \\left(k_{b} + k_{f} \\left(A + B\\right)\\right)^{2}}}{k_{b} + k_{f} \\left(A + B\\right) - \\sqrt{- 4 A B k_{f}^{2} + \\left(k_{b} + k_{f} \\left(A + B\\right)\\right)^{2}}} \\right )}\\right) = k_{f} t$$"
       ],
       "metadata": {},
       "output_type": "pyout",
       "png": "[encoded data removed]",
       "prompt_number": 270,
       "text": [
        "    \u239b   \u239b                              _____________________________________ \u239e\n",
        "    \u239c   \u239c                             \u2571            2                      2  \u239f\n",
        "    \u239c   \u239c-k_b - k_f\u22c5(A + B - 2\u22c5x) - \u2572\u2571  - 4\u22c5A\u22c5B\u22c5k_f  + (k_b + k_f\u22c5(A + B))   \u239f\n",
        "k_f\u22c5\u239c   \u239c\u2500\u2500\u2500\u2500\u2500\u2500\u2500\u2500\u2500\u2500\u2500\u2500\u2500\u2500\u2500\u2500\u2500\u2500\u2500\u2500\u2500\u2500\u2500\u2500\u2500\u2500\u2500\u2500\u2500\u2500\u2500\u2500\u2500\u2500\u2500\u2500\u2500\u2500\u2500\u2500\u2500\u2500\u2500\u2500\u2500\u2500\u2500\u2500\u2500\u2500\u2500\u2500\u2500\u2500\u2500\u2500\u2500\u2500\u2500\u2500\u2500\u2500\u2500\u2500\u2500\u2500\u2500\u2500\u239f\n",
        "    \u239c   \u239c                               _____________________________________\u239f\n",
        "    \u239clog\u239c                              \u2571            2                      2 \u239f\n",
        "    \u239d   \u239d-k_b + k_f\u22c5(-A - B + 2\u22c5x) + \u2572\u2571  - 4\u22c5A\u22c5B\u22c5k_f  + (k_b + k_f\u22c5(A + B))  \u23a0\n",
        "\u2500\u2500\u2500\u2500\u2500\u2500\u2500\u2500\u2500\u2500\u2500\u2500\u2500\u2500\u2500\u2500\u2500\u2500\u2500\u2500\u2500\u2500\u2500\u2500\u2500\u2500\u2500\u2500\u2500\u2500\u2500\u2500\u2500\u2500\u2500\u2500\u2500\u2500\u2500\u2500\u2500\u2500\u2500\u2500\u2500\u2500\u2500\u2500\u2500\u2500\u2500\u2500\u2500\u2500\u2500\u2500\u2500\u2500\u2500\u2500\u2500\u2500\u2500\u2500\u2500\u2500\u2500\u2500\u2500\u2500\u2500\u2500\u2500\u2500\u2500\u2500\u2500\u2500\n",
        "                                                         _____________________\n",
        "                                                        \u2571            2        \n",
        "                                                      \u2572\u2571  - 4\u22c5A\u22c5B\u22c5k_f  + (k_b \n",
        "\n",
        "      \u239b                       _____________________________________\u239e\u239e        \n",
        "      \u239c                      \u2571            2                      2 \u239f\u239f        \n",
        "      \u239ck_b + k_f\u22c5(A + B) + \u2572\u2571  - 4\u22c5A\u22c5B\u22c5k_f  + (k_b + k_f\u22c5(A + B))  \u239f\u239f        \n",
        " -    \u239c\u2500\u2500\u2500\u2500\u2500\u2500\u2500\u2500\u2500\u2500\u2500\u2500\u2500\u2500\u2500\u2500\u2500\u2500\u2500\u2500\u2500\u2500\u2500\u2500\u2500\u2500\u2500\u2500\u2500\u2500\u2500\u2500\u2500\u2500\u2500\u2500\u2500\u2500\u2500\u2500\u2500\u2500\u2500\u2500\u2500\u2500\u2500\u2500\u2500\u2500\u2500\u2500\u2500\u2500\u2500\u2500\u2500\u2500\u2500\u2500\u239f\u239f        \n",
        "      \u239c                       _____________________________________\u239f\u239f        \n",
        "   log\u239c                      \u2571            2                      2 \u239f\u239f        \n",
        "      \u239dk_b + k_f\u22c5(A + B) - \u2572\u2571  - 4\u22c5A\u22c5B\u22c5k_f  + (k_b + k_f\u22c5(A + B))  \u23a0\u23a0        \n",
        "\u2500\u2500\u2500\u2500\u2500\u2500\u2500\u2500\u2500\u2500\u2500\u2500\u2500\u2500\u2500\u2500\u2500\u2500\u2500\u2500\u2500\u2500\u2500\u2500\u2500\u2500\u2500\u2500\u2500\u2500\u2500\u2500\u2500\u2500\u2500\u2500\u2500\u2500\u2500\u2500\u2500\u2500\u2500\u2500\u2500\u2500\u2500\u2500\u2500\u2500\u2500\u2500\u2500\u2500\u2500\u2500\u2500\u2500\u2500\u2500\u2500\u2500\u2500\u2500\u2500\u2500\u2500\u2500\u2500 = k_f\u22c5t\n",
        "________________                                                             \n",
        "              2                                                              \n",
        "+ k_f\u22c5(A + B))                                                               "
       ]
      }
     ],
     "prompt_number": 270
    },
    {
     "cell_type": "code",
     "collapsed": false,
     "input": [
      "attempt.diff(x).subs({k:kk}).simplify()"
     ],
     "language": "python",
     "metadata": {},
     "outputs": [
      {
       "latex": [
        "$$\\frac{1}{a x^{2} + b x + c}$$"
       ],
       "metadata": {},
       "output_type": "pyout",
       "png": "[encoded data removed]",
       "prompt_number": 271,
       "text": [
        "      1       \n",
        "\u2500\u2500\u2500\u2500\u2500\u2500\u2500\u2500\u2500\u2500\u2500\u2500\u2500\u2500\n",
        "   2          \n",
        "a\u22c5x  + b\u22c5x + c"
       ]
      }
     ],
     "prompt_number": 271
    },
    {
     "cell_type": "code",
     "collapsed": false,
     "input": [
      "# If sympy's solve routine misses a solution we could go wrong..\n",
      "P, Q, R = symbols('P Q R') # Q is sq rewritten\n",
      "P_ = 4*A*B*kf**2\n",
      "Q_ = kb+kf*(A+B)\n",
      "R_ = sqrt(Q**2-P)\n",
      "\n",
      "_ = Eq(P, P_), Eq(Q, Q_), Eq(R, R_)\n",
      "mysub=[_]\n",
      "_"
     ],
     "language": "python",
     "metadata": {},
     "outputs": [
      {
       "latex": [
        "$$\\begin{pmatrix}P = 4 A B k_{f}^{2}, & Q = k_{b} + k_{f} \\left(A + B\\right), & R = \\sqrt{- P + Q^{2}}\\end{pmatrix}$$"
       ],
       "metadata": {},
       "output_type": "pyout",
       "png": "[encoded data removed]",
       "prompt_number": 285,
       "text": [
        "\u239b                                              _________\u239e\n",
        "\u239c             2                               \u2571       2 \u239f\n",
        "\u239dP = 4\u22c5A\u22c5B\u22c5k_f , Q = k_b + k_f\u22c5(A + B), R = \u2572\u2571  -P + Q  \u23a0"
       ]
      }
     ],
     "prompt_number": 285
    },
    {
     "cell_type": "code",
     "collapsed": false,
     "input": [
      "lhs2 = kf/R*log((-Q+2*x*kf-R)*(Q-R)/((-Q+2*x*kf+R)*(Q+R)))\n",
      "Eq(lhs2, kf*t)"
     ],
     "language": "python",
     "metadata": {},
     "outputs": [
      {
       "latex": [
        "$$\\frac{k_{f}}{R} \\log{\\left (\\frac{\\left(Q - R\\right) \\left(- Q - R + 2 k_{f} x\\right)}{\\left(Q + R\\right) \\left(- Q + R + 2 k_{f} x\\right)} \\right )} = k_{f} t$$"
       ],
       "metadata": {},
       "output_type": "pyout",
       "png": "[encoded data removed]",
       "prompt_number": 272,
       "text": [
        "       \u239b(Q - R)\u22c5(-Q - R + 2\u22c5k_f\u22c5x)\u239e        \n",
        "k_f\u22c5log\u239c\u2500\u2500\u2500\u2500\u2500\u2500\u2500\u2500\u2500\u2500\u2500\u2500\u2500\u2500\u2500\u2500\u2500\u2500\u2500\u2500\u2500\u2500\u2500\u2500\u2500\u2500\u239f        \n",
        "       \u239d(Q + R)\u22c5(-Q + R + 2\u22c5k_f\u22c5x)\u23a0        \n",
        "\u2500\u2500\u2500\u2500\u2500\u2500\u2500\u2500\u2500\u2500\u2500\u2500\u2500\u2500\u2500\u2500\u2500\u2500\u2500\u2500\u2500\u2500\u2500\u2500\u2500\u2500\u2500\u2500\u2500\u2500\u2500\u2500\u2500\u2500\u2500 = k_f\u22c5t\n",
        "                 R                         "
       ]
      }
     ],
     "prompt_number": 272
    },
    {
     "cell_type": "code",
     "collapsed": false,
     "input": [
      "sol = solve(lhs2-kf*t, x)[0].simplify()\n",
      "sol"
     ],
     "language": "python",
     "metadata": {},
     "outputs": [
      {
       "latex": [
        "$$\\frac{Q^{2} e^{R t} - Q^{2} - R^{2} e^{R t} + R^{2}}{2 k_{f} \\left(Q e^{R t} - Q + R e^{R t} + R\\right)}$$"
       ],
       "metadata": {},
       "output_type": "pyout",
       "png": "[encoded data removed]",
       "prompt_number": 275,
       "text": [
        "   2  R\u22c5t    2    2  R\u22c5t    2  \n",
        "  Q \u22c5\u212f    - Q  - R \u22c5\u212f    + R   \n",
        "\u2500\u2500\u2500\u2500\u2500\u2500\u2500\u2500\u2500\u2500\u2500\u2500\u2500\u2500\u2500\u2500\u2500\u2500\u2500\u2500\u2500\u2500\u2500\u2500\u2500\u2500\u2500\u2500\u2500\u2500\u2500\n",
        "      \u239b   R\u22c5t          R\u22c5t    \u239e\n",
        "2\u22c5k_f\u22c5\u239dQ\u22c5\u212f    - Q + R\u22c5\u212f    + R\u23a0"
       ]
      }
     ],
     "prompt_number": 275
    },
    {
     "cell_type": "code",
     "collapsed": false,
     "input": [
      "attempt = (exp(R*t)-1)*(Q-R)*(Q+R)/(2*kf*(exp(R*t)*(Q+R)+R-Q))\n",
      "assert (attempt - sol).simplify() == 0\n",
      "attempt"
     ],
     "language": "python",
     "metadata": {},
     "outputs": [
      {
       "latex": [
        "$$\\frac{\\left(Q - R\\right) \\left(Q + R\\right) \\left(e^{R t} - 1\\right)}{2 k_{f} \\left(- Q + R + \\left(Q + R\\right) e^{R t}\\right)}$$"
       ],
       "metadata": {},
       "output_type": "pyout",
       "png": "[encoded data removed]",
       "prompt_number": 277,
       "text": [
        "                  \u239b R\u22c5t    \u239e \n",
        "  (Q - R)\u22c5(Q + R)\u22c5\u239d\u212f    - 1\u23a0 \n",
        "\u2500\u2500\u2500\u2500\u2500\u2500\u2500\u2500\u2500\u2500\u2500\u2500\u2500\u2500\u2500\u2500\u2500\u2500\u2500\u2500\u2500\u2500\u2500\u2500\u2500\u2500\u2500\u2500\u2500\n",
        "      \u239b                  R\u22c5t\u239e\n",
        "2\u22c5k_f\u22c5\u239d-Q + R + (Q + R)\u22c5\u212f   \u23a0"
       ]
      }
     ],
     "prompt_number": 277
    },
    {
     "cell_type": "code",
     "collapsed": false,
     "input": [
      "alpha, beta = symbols('alpha beta')\n",
      "alpha_ = Q+R\n",
      "beta_ = Q-R\n",
      "attempt2 = beta*alpha*(exp(R*t)-1)/(2*kf*(alpha*exp(R*t) - beta))\n",
      "assert (attempt2.subs({alpha: alpha_, beta: beta_})-attempt).simplify() == 0\n",
      "_ = _1, _2, _3 = Eq(x,attempt2), Eq(alpha, alpha_), Eq(beta, beta_)\n",
      "mysub.extend([(_2,_3),_1])\n",
      "_\n",
      "#attempt2.diff(t)"
     ],
     "language": "python",
     "metadata": {},
     "outputs": [
      {
       "latex": [
        "$$\\begin{pmatrix}x = \\frac{\\alpha \\beta \\left(e^{R t} - 1\\right)}{2 k_{f} \\left(\\alpha e^{R t} - \\beta\\right)}, & \\alpha = Q + R, & \\beta = Q - R\\end{pmatrix}$$"
       ],
       "metadata": {},
       "output_type": "pyout",
       "png": "[encoded data removed]",
       "prompt_number": 298,
       "text": [
        "\u239b          \u239b R\u22c5t    \u239e                        \u239e\n",
        "\u239c      \u03b1\u22c5\u03b2\u22c5\u239d\u212f    - 1\u23a0                        \u239f\n",
        "\u239cx = \u2500\u2500\u2500\u2500\u2500\u2500\u2500\u2500\u2500\u2500\u2500\u2500\u2500\u2500\u2500\u2500\u2500\u2500, \u03b1 = Q + R, \u03b2 = Q - R\u239f\n",
        "\u239c          \u239b   R\u22c5t    \u239e                      \u239f\n",
        "\u239d    2\u22c5k_f\u22c5\u239d\u03b1\u22c5\u212f    - \u03b2\u23a0                      \u23a0"
       ]
      }
     ],
     "prompt_number": 298
    },
    {
     "cell_type": "code",
     "collapsed": false,
     "input": [
      "x_ = attempt2.subs({alpha: alpha_, beta: beta_}).subs({R: R_}).subs({P: P_, Q: Q_})\n",
      "x_"
     ],
     "language": "python",
     "metadata": {},
     "outputs": [
      {
       "latex": [
        "$$\\frac{\\left(e^{t \\sqrt{- 4 A B k_{f}^{2} + \\left(k_{b} + k_{f} \\left(A + B\\right)\\right)^{2}}} - 1\\right) \\left(k_{b} + k_{f} \\left(A + B\\right) - \\sqrt{- 4 A B k_{f}^{2} + \\left(k_{b} + k_{f} \\left(A + B\\right)\\right)^{2}}\\right) \\left(k_{b} + k_{f} \\left(A + B\\right) + \\sqrt{- 4 A B k_{f}^{2} + \\left(k_{b} + k_{f} \\left(A + B\\right)\\right)^{2}}\\right)}{2 k_{f} \\left(- k_{b} - k_{f} \\left(A + B\\right) + \\sqrt{- 4 A B k_{f}^{2} + \\left(k_{b} + k_{f} \\left(A + B\\right)\\right)^{2}} + \\left(k_{b} + k_{f} \\left(A + B\\right) + \\sqrt{- 4 A B k_{f}^{2} + \\left(k_{b} + k_{f} \\left(A + B\\right)\\right)^{2}}\\right) e^{t \\sqrt{- 4 A B k_{f}^{2} + \\left(k_{b} + k_{f} \\left(A + B\\right)\\right)^{2}}}\\right)}$$"
       ],
       "metadata": {},
       "output_type": "pyout",
       "png": "[encoded data removed]",
       "prompt_number": 279,
       "text": [
        " \u239b      _____________________________________    \u239e                            \n",
        " \u239c     \u2571            2                      2     \u239f \u239b                       ___\n",
        " \u239c t\u22c5\u2572\u2571  - 4\u22c5A\u22c5B\u22c5k_f  + (k_b + k_f\u22c5(A + B))      \u239f \u239c                      \u2571   \n",
        " \u239d\u212f                                           - 1\u23a0\u22c5\u239dk_b + k_f\u22c5(A + B) - \u2572\u2571  - \n",
        "\u2500\u2500\u2500\u2500\u2500\u2500\u2500\u2500\u2500\u2500\u2500\u2500\u2500\u2500\u2500\u2500\u2500\u2500\u2500\u2500\u2500\u2500\u2500\u2500\u2500\u2500\u2500\u2500\u2500\u2500\u2500\u2500\u2500\u2500\u2500\u2500\u2500\u2500\u2500\u2500\u2500\u2500\u2500\u2500\u2500\u2500\u2500\u2500\u2500\u2500\u2500\u2500\u2500\u2500\u2500\u2500\u2500\u2500\u2500\u2500\u2500\u2500\u2500\u2500\u2500\u2500\u2500\u2500\u2500\u2500\u2500\u2500\u2500\u2500\u2500\u2500\u2500\u2500\n",
        "      \u239b                                                                       \n",
        "      \u239c                        _____________________________________   \u239b      \n",
        "      \u239c                       \u2571            2                      2    \u239c      \n",
        "2\u22c5k_f\u22c5\u239d-k_b - k_f\u22c5(A + B) + \u2572\u2571  - 4\u22c5A\u22c5B\u22c5k_f  + (k_b + k_f\u22c5(A + B))   + \u239dk_b + \n",
        "\n",
        "                                                                              \n",
        "__________________________________\u239e \u239b                       __________________\n",
        "         2                      2 \u239f \u239c                      \u2571            2     \n",
        "4\u22c5A\u22c5B\u22c5k_f  + (k_b + k_f\u22c5(A + B))  \u23a0\u22c5\u239dk_b + k_f\u22c5(A + B) + \u2572\u2571  - 4\u22c5A\u22c5B\u22c5k_f  + (k\n",
        "\u2500\u2500\u2500\u2500\u2500\u2500\u2500\u2500\u2500\u2500\u2500\u2500\u2500\u2500\u2500\u2500\u2500\u2500\u2500\u2500\u2500\u2500\u2500\u2500\u2500\u2500\u2500\u2500\u2500\u2500\u2500\u2500\u2500\u2500\u2500\u2500\u2500\u2500\u2500\u2500\u2500\u2500\u2500\u2500\u2500\u2500\u2500\u2500\u2500\u2500\u2500\u2500\u2500\u2500\u2500\u2500\u2500\u2500\u2500\u2500\u2500\u2500\u2500\u2500\u2500\u2500\u2500\u2500\u2500\u2500\u2500\u2500\u2500\u2500\u2500\u2500\u2500\u2500\n",
        "                                                              ________________\n",
        "                 _____________________________________\u239e      \u2571            2   \n",
        "                \u2571            2                      2 \u239f  t\u22c5\u2572\u2571  - 4\u22c5A\u22c5B\u22c5k_f  + \n",
        "k_f\u22c5(A + B) + \u2572\u2571  - 4\u22c5A\u22c5B\u22c5k_f  + (k_b + k_f\u22c5(A + B))  \u23a0\u22c5\u212f                     \n",
        "\n",
        "                      \n",
        "___________________\u239e  \n",
        "                 2 \u239f  \n",
        "_b + k_f\u22c5(A + B))  \u23a0  \n",
        "\u2500\u2500\u2500\u2500\u2500\u2500\u2500\u2500\u2500\u2500\u2500\u2500\u2500\u2500\u2500\u2500\u2500\u2500\u2500\u2500\u2500\u2500\n",
        "_____________________\u239e\n",
        "                   2 \u239f\n",
        "(k_b + k_f\u22c5(A + B))  \u239f\n",
        "                     \u23a0"
       ]
      }
     ],
     "prompt_number": 279
    },
    {
     "cell_type": "code",
     "collapsed": false,
     "input": [
      "vA, vB, vkf, vkb, vt = 13, 7, 19, 29, 0\n",
      "assert (vA*vB*vkf-x_.diff(t).subs({A: vA, B: vB, kf:vkf, kb:vkb, t: vt})).simplify() == 0\n",
      "vars_"
     ],
     "language": "python",
     "metadata": {},
     "outputs": [
      {
       "latex": [
        "$$\\begin{pmatrix}t, & A, & B, & k_{f}, & k_{b}\\end{pmatrix}$$"
       ],
       "metadata": {},
       "output_type": "pyout",
       "png": "[encoded data removed]",
       "prompt_number": 283,
       "text": [
        "(t, A, B, k_f, k_b)"
       ]
      }
     ],
     "prompt_number": 283
    },
    {
     "cell_type": "code",
     "collapsed": false,
     "input": [
      "#from symvarsub import lambdify\n",
      "from sympy.utilities.lambdify import lambdify\n",
      "#cb = lambdify(vars_, shifted_sols[1][1], modules='numpy')\n",
      "cb = lambdify(vars_, x_, modules='numpy')\n",
      "\n",
      "import numpy as np\n",
      "import matplotlib.pyplot as plt\n",
      "tplot=np.linspace(0,0.2,100)\n",
      "plt.plot(tplot, cb(tplot, 5, 3, 11, 3))\n",
      "#print(cb(1.0, 1.2, 1.1, 13, 1.4))"
     ],
     "language": "python",
     "metadata": {},
     "outputs": [
      {
       "metadata": {},
       "output_type": "pyout",
       "prompt_number": 284,
       "text": [
        "[<matplotlib.lines.Line2D at 0xead3350>]"
       ]
      },
      {
       "metadata": {},
       "output_type": "display_data",
       "png": "[encoded data removed]",
       "text": [
        "<matplotlib.figure.Figure at 0xd1eda50>"
       ]
      }
     ],
     "prompt_number": 284
    },
    {
     "cell_type": "code",
     "collapsed": false,
     "input": [
      "from IPython.display import display\n",
      "map(display, mysub)"
     ],
     "language": "python",
     "metadata": {},
     "outputs": [
      {
       "latex": [
        "$$\\begin{pmatrix}P = 4 A B k_{f}^{2}, & Q = k_{b} + k_{f} \\left(A + B\\right), & R = \\sqrt{- P + Q^{2}}\\end{pmatrix}$$"
       ],
       "metadata": {},
       "output_type": "display_data",
       "png": "[encoded data removed]",
       "text": [
        "\u239b                                              _________\u239e\n",
        "\u239c             2                               \u2571       2 \u239f\n",
        "\u239dP = 4\u22c5A\u22c5B\u22c5k_f , Q = k_b + k_f\u22c5(A + B), R = \u2572\u2571  -P + Q  \u23a0"
       ]
      },
      {
       "latex": [
        "$$\\begin{pmatrix}x = \\frac{\\alpha \\beta \\left(e^{R t} - 1\\right)}{2 k_{f} \\left(\\alpha e^{R t} - \\beta\\right)}, & \\alpha = Q + R, & \\beta = Q - R\\end{pmatrix}$$"
       ],
       "metadata": {},
       "output_type": "display_data",
       "png": "[encoded data removed]",
       "text": [
        "\u239b          \u239b R\u22c5t    \u239e                        \u239e\n",
        "\u239c      \u03b1\u22c5\u03b2\u22c5\u239d\u212f    - 1\u23a0                        \u239f\n",
        "\u239cx = \u2500\u2500\u2500\u2500\u2500\u2500\u2500\u2500\u2500\u2500\u2500\u2500\u2500\u2500\u2500\u2500\u2500\u2500, \u03b1 = Q + R, \u03b2 = Q - R\u239f\n",
        "\u239c          \u239b   R\u22c5t    \u239e                      \u239f\n",
        "\u239d    2\u22c5k_f\u22c5\u239d\u03b1\u22c5\u212f    - \u03b2\u23a0                      \u23a0"
       ]
      },
      {
       "latex": [
        "$$\\begin{pmatrix}\\alpha = Q + R, & \\beta = Q - R\\end{pmatrix}$$"
       ],
       "metadata": {},
       "output_type": "display_data",
       "png": "[encoded data removed]",
       "text": [
        "(\u03b1 = Q + R, \u03b2 = Q - R)"
       ]
      },
      {
       "latex": [
        "$$\\begin{pmatrix}x = \\frac{\\alpha \\beta \\left(e^{R t} - 1\\right)}{2 k_{f} \\left(\\alpha e^{R t} - \\beta\\right)}\\end{pmatrix}$$"
       ],
       "metadata": {},
       "output_type": "display_data",
       "png": "[encoded data removed]",
       "text": [
        "\u239b          \u239b R\u22c5t    \u239e   \u239e\n",
        "\u239c      \u03b1\u22c5\u03b2\u22c5\u239d\u212f    - 1\u23a0   \u239f\n",
        "\u239cx = \u2500\u2500\u2500\u2500\u2500\u2500\u2500\u2500\u2500\u2500\u2500\u2500\u2500\u2500\u2500\u2500\u2500\u2500,\u239f\n",
        "\u239c          \u239b   R\u22c5t    \u239e \u239f\n",
        "\u239d    2\u22c5k_f\u22c5\u239d\u03b1\u22c5\u212f    - \u03b2\u23a0 \u23a0"
       ]
      },
      {
       "latex": [
        "$$\\begin{pmatrix}\\alpha = Q + R, & \\beta = Q - R\\end{pmatrix}$$"
       ],
       "metadata": {},
       "output_type": "display_data",
       "png": "[encoded data removed]",
       "text": [
        "(\u03b1 = Q + R, \u03b2 = Q - R)"
       ]
      },
      {
       "latex": [
        "$$x = \\frac{\\alpha \\beta \\left(e^{R t} - 1\\right)}{2 k_{f} \\left(\\alpha e^{R t} - \\beta\\right)}$$"
       ],
       "metadata": {},
       "output_type": "display_data",
       "png": "[encoded data removed]",
       "text": [
        "          \u239b R\u22c5t    \u239e  \n",
        "      \u03b1\u22c5\u03b2\u22c5\u239d\u212f    - 1\u23a0  \n",
        "x = \u2500\u2500\u2500\u2500\u2500\u2500\u2500\u2500\u2500\u2500\u2500\u2500\u2500\u2500\u2500\u2500\u2500\u2500\n",
        "          \u239b   R\u22c5t    \u239e\n",
        "    2\u22c5k_f\u22c5\u239d\u03b1\u22c5\u212f    - \u03b2\u23a0"
       ]
      },
      {
       "metadata": {},
       "output_type": "pyout",
       "prompt_number": 299,
       "text": [
        "[None, None, None, None, None, None]"
       ]
      }
     ],
     "prompt_number": 299
    },
    {
     "cell_type": "code",
     "collapsed": false,
     "input": [],
     "language": "python",
     "metadata": {},
     "outputs": []
    }
   ],
   "metadata": {}
  }
 ]
}