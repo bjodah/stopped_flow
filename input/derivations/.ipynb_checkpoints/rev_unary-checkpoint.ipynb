{
 "metadata": {
  "name": ""
 },
 "nbformat": 3,
 "nbformat_minor": 0,
 "worksheets": [
  {
   "cells": [
    {
     "cell_type": "code",
     "collapsed": false,
     "input": [
      "from sympy import *\n",
      "from sympy import init_printing\n",
      "from IPython.display import display\n",
      "init_printing(use_latex=True)\n",
      "from rev_unary import eqs, Z\n",
      "_ = map(display, eqs)"
     ],
     "language": "python",
     "metadata": {},
     "outputs": [
      {
       "latex": [
        "$$\\frac{d}{d t} x = k'_{f} \\left(Z - x\\right) - k_{b} x$$"
       ],
       "metadata": {},
       "output_type": "display_data",
       "png": "[encoded data removed]",
       "text": [
        "d                           \n",
        "\u2500\u2500(x) = k'_f\u22c5(Z - x) - k_b\u22c5x\n",
        "dt                          "
       ]
      },
      {
       "latex": [
        "$$\\int_{0}^{x} \\frac{1}{- \\chi k_{b} + k'_{f} \\left(Z - \\chi\\right)}\\, d\\chi = \\int_{0}^{t} 1\\, d\\tau$$"
       ],
       "metadata": {},
       "output_type": "display_data",
       "png": "[encoded data removed]",
       "text": [
        "x                                  \n",
        "\u2320                            t     \n",
        "\u23ae           1                \u2320     \n",
        "\u23ae \u2500\u2500\u2500\u2500\u2500\u2500\u2500\u2500\u2500\u2500\u2500\u2500\u2500\u2500\u2500\u2500\u2500\u2500\u2500\u2500\u2500 d\u03c7 = \u23ae 1 d\u03c4\n",
        "\u23ae -\u03c7\u22c5k_b + k'_f\u22c5(Z - \u03c7)      \u2321     \n",
        "\u2321                            0     \n",
        "0                                  "
       ]
      },
      {
       "latex": [
        "$$\\frac{1}{k'_{f} + k_{b}} \\left(\\log{\\left (- Z k'_{f} \\right )} - \\log{\\left (- Z k'_{f} + x \\left(k'_{f} + k_{b}\\right) \\right )}\\right) = t$$"
       ],
       "metadata": {},
       "output_type": "display_data",
       "png": "[encoded data removed]",
       "text": [
        "log(-Z\u22c5k'_f) - log(-Z\u22c5k'_f + x\u22c5(k'_f + k_b))    \n",
        "\u2500\u2500\u2500\u2500\u2500\u2500\u2500\u2500\u2500\u2500\u2500\u2500\u2500\u2500\u2500\u2500\u2500\u2500\u2500\u2500\u2500\u2500\u2500\u2500\u2500\u2500\u2500\u2500\u2500\u2500\u2500\u2500\u2500\u2500\u2500\u2500\u2500\u2500\u2500\u2500\u2500\u2500\u2500\u2500 = t\n",
        "                 k'_f + k_b                     "
       ]
      },
      {
       "latex": [
        "$$x = \\frac{Z k'_{f} \\left(e^{t \\left(k'_{f} + k_{b}\\right)} - 1\\right)}{\\left(k'_{f} + k_{b}\\right) e^{t \\left(k'_{f} + k_{b}\\right)}}$$"
       ],
       "metadata": {},
       "output_type": "display_data",
       "png": "[encoded data removed]",
       "text": [
        "           \u239b t\u22c5(k'_f + k_b)    \u239e  -t\u22c5(k'_f + k_b)\n",
        "    Z\u22c5k'_f\u22c5\u239d\u212f               - 1\u23a0\u22c5\u212f               \n",
        "x = \u2500\u2500\u2500\u2500\u2500\u2500\u2500\u2500\u2500\u2500\u2500\u2500\u2500\u2500\u2500\u2500\u2500\u2500\u2500\u2500\u2500\u2500\u2500\u2500\u2500\u2500\u2500\u2500\u2500\u2500\u2500\u2500\u2500\u2500\u2500\u2500\u2500\u2500\u2500\u2500\u2500\u2500\u2500\u2500\u2500\n",
        "                      k'_f + k_b                 "
       ]
      },
      {
       "latex": [
        "$$x = \\frac{Z k'_{f}}{k'_{f} + k_{b}} \\left(1 - e^{- t \\left(k'_{f} + k_{b}\\right)}\\right)$$"
       ],
       "metadata": {},
       "output_type": "display_data",
       "png": "[encoded data removed]",
       "text": [
        "           \u239b     -t\u22c5(k'_f + k_b)\u239e\n",
        "    Z\u22c5k'_f\u22c5\u239d1 - \u212f               \u23a0\n",
        "x = \u2500\u2500\u2500\u2500\u2500\u2500\u2500\u2500\u2500\u2500\u2500\u2500\u2500\u2500\u2500\u2500\u2500\u2500\u2500\u2500\u2500\u2500\u2500\u2500\u2500\u2500\u2500\u2500\u2500\n",
        "              k'_f + k_b         "
       ]
      }
     ],
     "prompt_number": 14
    },
    {
     "cell_type": "code",
     "collapsed": false,
     "input": [
      "s = Symbol('k\\'_f')\n",
      "print str(s)\n",
      "s"
     ],
     "language": "python",
     "metadata": {},
     "outputs": [
      {
       "output_type": "stream",
       "stream": "stdout",
       "text": [
        "k'_f\n"
       ]
      },
      {
       "latex": [
        "$$k'_{f}$$"
       ],
       "metadata": {},
       "output_type": "pyout",
       "png": "[encoded data removed]",
       "prompt_number": 5,
       "text": [
        "k'_f"
       ]
      }
     ],
     "prompt_number": 5
    },
    {
     "cell_type": "code",
     "collapsed": false,
     "input": [
      "Symbol('k_1f')"
     ],
     "language": "python",
     "metadata": {},
     "outputs": [
      {
       "latex": [
        "$$k_{1f}$$"
       ],
       "metadata": {},
       "output_type": "pyout",
       "png": "[encoded data removed]",
       "prompt_number": 6,
       "text": [
        "k_1f"
       ]
      }
     ],
     "prompt_number": 6
    },
    {
     "cell_type": "code",
     "collapsed": false,
     "input": [
      "le =eqs[-1].rhs\n",
      "(Z*(1-(le/Z)))"
     ],
     "language": "python",
     "metadata": {},
     "outputs": [
      {
       "latex": [
        "$$Z \\left(- \\frac{k'_{f}}{k'_{f} + k_{b}} \\left(1 - e^{- t \\left(k'_{f} + k_{b}\\right)}\\right) + 1\\right)$$"
       ],
       "metadata": {},
       "output_type": "pyout",
       "png": "[encoded data removed]",
       "prompt_number": 13,
       "text": [
        "  \u239b       \u239b     -t\u22c5(k'_f + k_b)\u239e    \u239e\n",
        "  \u239c  k'_f\u22c5\u239d1 - \u212f               \u23a0    \u239f\n",
        "Z\u22c5\u239c- \u2500\u2500\u2500\u2500\u2500\u2500\u2500\u2500\u2500\u2500\u2500\u2500\u2500\u2500\u2500\u2500\u2500\u2500\u2500\u2500\u2500\u2500\u2500\u2500\u2500\u2500\u2500 + 1\u239f\n",
        "  \u239d           k'_f + k_b            \u23a0"
       ]
      }
     ],
     "prompt_number": 13
    },
    {
     "cell_type": "code",
     "collapsed": false,
     "input": [],
     "language": "python",
     "metadata": {},
     "outputs": []
    }
   ],
   "metadata": {}
  }
 ]
}