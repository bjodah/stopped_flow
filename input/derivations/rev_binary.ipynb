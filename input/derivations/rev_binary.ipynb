{
 "metadata": {
  "name": ""
 },
 "nbformat": 3,
 "nbformat_minor": 0,
 "worksheets": [
  {
   "cells": [
    {
     "cell_type": "code",
     "collapsed": false,
     "input": [
      "%matplotlib inline\n",
      "from sympy import *\n",
      "from sympy import init_printing\n",
      "from IPython.display import display\n",
      "init_printing(use_latex=True)\n"
     ],
     "language": "python",
     "outputs": [],
     "prompt_number": 1
    },
    {
     "cell_type": "code",
     "collapsed": false,
     "input": [
      "from rev_binary import eqs, PQR_subs, subs, symbs, gen_integrand, primitives, conds, gen_integral_eq, P, expl_in_x_eq, x, a, b, c"
     ],
     "language": "python",
     "outputs": [],
     "prompt_number": 23
    },
    {
     "cell_type": "code",
     "collapsed": false,
     "input": [
      "_ = map(display, eqs[:2])"
     ],
     "language": "python",
     "outputs": [
      {
       "latex": [
        "$$\\frac{d}{d t} x = - k_{b} x + k_{f} \\left(Y - x\\right) \\left(Z - x\\right)$$"
       ],
       "output_type": "display_data",
       "png": "[encoded data removed]",
       "text": [
        "d                                   \n",
        "\u2500\u2500(x) = -k_b\u22c5x + k_f\u22c5(Y - x)\u22c5(Z - x)\n",
        "dt                                  "
       ]
      },
      {
       "latex": [
        "$$\\int_{0}^{x} \\frac{1}{- \\chi k_{b} + k_{f} \\left(Y - \\chi\\right) \\left(Z - \\chi\\right)}\\, d\\chi = \\int_{0}^{t} 1\\, d\\tau$$"
       ],
       "output_type": "display_data",
       "png": "[encoded data removed]",
       "text": [
        "x                                         \n",
        "\u2320                                   t     \n",
        "\u23ae              1                    \u2320     \n",
        "\u23ae \u2500\u2500\u2500\u2500\u2500\u2500\u2500\u2500\u2500\u2500\u2500\u2500\u2500\u2500\u2500\u2500\u2500\u2500\u2500\u2500\u2500\u2500\u2500\u2500\u2500\u2500\u2500\u2500 d\u03c7 = \u23ae 1 d\u03c4\n",
        "\u23ae -\u03c7\u22c5k_b + k_f\u22c5(Y - \u03c7)\u22c5(Z - \u03c7)      \u2321     \n",
        "\u2321                                   0     \n",
        "0                                         "
       ]
      }
     ],
     "prompt_number": 3
    },
    {
     "cell_type": "code",
     "collapsed": false,
     "input": [
      "gen_integral_eq"
     ],
     "language": "python",
     "outputs": [
      {
       "latex": [
        "$$\\int \\frac{1}{a x^{2} + b x + c}\\, dx = \\begin{cases} C + \\frac{1}{\\sqrt{- 4 a c + b^{2}}} \\log{\\left (\\frac{2 a x + b - \\sqrt{- 4 a c + b^{2}}}{2 a x + b + \\sqrt{- 4 a c + b^{2}}} \\right )} & \\text{for}\\: 4 a c < b^{2} \\\\C - \\frac{2}{2 a x + b} & \\text{for}\\: 4 a c = b^{2} \\\\C + \\frac{2}{\\sqrt{4 a c - b^{2}}} \\operatorname{atan}{\\left (\\frac{2 a x + b}{\\sqrt{4 a c - b^{2}}} \\right )} & \\text{for}\\: 4 a c > b^{2} \\end{cases}$$"
       ],
       "output_type": "pyout",
       "png": "[encoded data removed]",
       "prompt_number": 4,
       "text": [
        "                      \u23a7       \u239b               _____________\u239e                \n",
        "                      \u23aa       \u239c              \u2571           2 \u239f                \n",
        "                      \u23aa       \u239c2\u22c5a\u22c5x + b - \u2572\u2571  -4\u22c5a\u22c5c + b  \u239f                \n",
        "                      \u23aa       \u239c\u2500\u2500\u2500\u2500\u2500\u2500\u2500\u2500\u2500\u2500\u2500\u2500\u2500\u2500\u2500\u2500\u2500\u2500\u2500\u2500\u2500\u2500\u2500\u2500\u2500\u2500\u2500\u2500\u239f                \n",
        "                      \u23aa       \u239c               _____________\u239f                \n",
        "                      \u23aa    log\u239c              \u2571           2 \u239f                \n",
        "                      \u23aa       \u239d2\u22c5a\u22c5x + b + \u2572\u2571  -4\u22c5a\u22c5c + b  \u23a0               2\n",
        "                      \u23aaC + \u2500\u2500\u2500\u2500\u2500\u2500\u2500\u2500\u2500\u2500\u2500\u2500\u2500\u2500\u2500\u2500\u2500\u2500\u2500\u2500\u2500\u2500\u2500\u2500\u2500\u2500\u2500\u2500\u2500\u2500\u2500\u2500\u2500  for 4\u22c5a\u22c5c < b \n",
        "                      \u23aa                _____________                        \n",
        "                      \u23aa               \u2571           2                         \n",
        "\u2320                     \u23aa             \u2572\u2571  -4\u22c5a\u22c5c + b                          \n",
        "\u23ae       1             \u23aa                                                     \n",
        "\u23ae \u2500\u2500\u2500\u2500\u2500\u2500\u2500\u2500\u2500\u2500\u2500\u2500\u2500\u2500 dx = \u23a8                    2                               2\n",
        "\u23ae    2                \u23aa            C - \u2500\u2500\u2500\u2500\u2500\u2500\u2500\u2500\u2500              for 4\u22c5a\u22c5c = b \n",
        "\u23ae a\u22c5x  + b\u22c5x + c      \u23aa                2\u22c5a\u22c5x + b                            \n",
        "\u2321                     \u23aa                                                     \n",
        "                      \u23aa               \u239b   2\u22c5a\u22c5x + b   \u239e                     \n",
        "                      \u23aa         2\u22c5atan\u239c\u2500\u2500\u2500\u2500\u2500\u2500\u2500\u2500\u2500\u2500\u2500\u2500\u2500\u2500\u2500\u239f                     \n",
        "                      \u23aa               \u239c   ____________\u239f                     \n",
        "                      \u23aa               \u239c  \u2571          2 \u239f                     \n",
        "                      \u23aa               \u239d\u2572\u2571  4\u22c5a\u22c5c - b  \u23a0                    2\n",
        "                      \u23aa     C + \u2500\u2500\u2500\u2500\u2500\u2500\u2500\u2500\u2500\u2500\u2500\u2500\u2500\u2500\u2500\u2500\u2500\u2500\u2500\u2500\u2500\u2500\u2500       for 4\u22c5a\u22c5c > b \n",
        "                      \u23aa                ____________                         \n",
        "                      \u23aa               \u2571          2                          \n",
        "                      \u23a9             \u2572\u2571  4\u22c5a\u22c5c - b                           "
       ]
      }
     ],
     "prompt_number": 4
    },
    {
     "cell_type": "code",
     "collapsed": false,
     "input": [
      "_ = map(display, eqs[2:])"
     ],
     "language": "python",
     "outputs": [
      {
       "latex": [
        "$$\\begin{Bmatrix}a : k_{f}, & b : - Y k_{f} - Z k_{f} - k_{b}, & c : Y Z k_{f}\\end{Bmatrix}$$"
       ],
       "output_type": "display_data",
       "png": "[encoded data removed]",
       "text": [
        "{a: k_f, b: -Y\u22c5k_f - Z\u22c5k_f - k_b, c: Y\u22c5Z\u22c5k_f}"
       ]
      },
      {
       "latex": [
        "$$P = \\sqrt{- 4 a c + b^{2}}$$"
       ],
       "output_type": "display_data",
       "png": "[encoded data removed]",
       "text": [
        "       _____________\n",
        "      \u2571           2 \n",
        "P = \u2572\u2571  -4\u22c5a\u22c5c + b  "
       ]
      },
      {
       "latex": [
        "$$\\frac{1}{P} \\left(- \\log{\\left (\\frac{- P + b}{P + b} \\right )} + \\log{\\left (\\frac{- P + 2 a x + b}{P + 2 a x + b} \\right )}\\right) = t$$"
       ],
       "output_type": "display_data",
       "png": "[encoded data removed]",
       "text": [
        "     \u239b-P + b\u239e      \u239b-P + 2\u22c5a\u22c5x + b\u239e    \n",
        "- log\u239c\u2500\u2500\u2500\u2500\u2500\u2500\u239f + log\u239c\u2500\u2500\u2500\u2500\u2500\u2500\u2500\u2500\u2500\u2500\u2500\u2500\u2500\u2500\u239f    \n",
        "     \u239dP + b \u23a0      \u239dP + 2\u22c5a\u22c5x + b \u23a0    \n",
        "\u2500\u2500\u2500\u2500\u2500\u2500\u2500\u2500\u2500\u2500\u2500\u2500\u2500\u2500\u2500\u2500\u2500\u2500\u2500\u2500\u2500\u2500\u2500\u2500\u2500\u2500\u2500\u2500\u2500\u2500\u2500\u2500\u2500\u2500\u2500 = t\n",
        "                 P                     "
       ]
      },
      {
       "latex": [
        "$$x = \\frac{\\left(P - b\\right) \\left(- P e^{P t} + P - b e^{P t} + b\\right)}{2 a \\left(P + b + \\left(P - b\\right) e^{P t}\\right)}$$"
       ],
       "output_type": "display_data",
       "png": "[encoded data removed]",
       "text": [
        "            \u239b     P\u22c5t          P\u22c5t    \u239e\n",
        "    (P - b)\u22c5\u239d- P\u22c5\u212f    + P - b\u22c5\u212f    + b\u23a0\n",
        "x = \u2500\u2500\u2500\u2500\u2500\u2500\u2500\u2500\u2500\u2500\u2500\u2500\u2500\u2500\u2500\u2500\u2500\u2500\u2500\u2500\u2500\u2500\u2500\u2500\u2500\u2500\u2500\u2500\u2500\u2500\u2500\u2500\u2500\u2500\u2500\n",
        "             \u239b                 P\u22c5t\u239e    \n",
        "         2\u22c5a\u22c5\u239dP + b + (P - b)\u22c5\u212f   \u23a0    "
       ]
      },
      {
       "latex": [
        "$$Q = P + b$$"
       ],
       "output_type": "display_data",
       "png": "[encoded data removed]",
       "text": [
        "Q = P + b"
       ]
      },
      {
       "latex": [
        "$$R = P - b$$"
       ],
       "output_type": "display_data",
       "png": "[encoded data removed]",
       "text": [
        "R = P - b"
       ]
      },
      {
       "latex": [
        "$$x = - \\frac{Q \\left(e^{P t} - 1\\right)}{2 a \\left(\\frac{Q}{R} + e^{P t}\\right)}$$"
       ],
       "output_type": "display_data",
       "png": "[encoded data removed]",
       "text": [
        "       \u239b P\u22c5t    \u239e \n",
        "    -Q\u22c5\u239d\u212f    - 1\u23a0 \n",
        "x = \u2500\u2500\u2500\u2500\u2500\u2500\u2500\u2500\u2500\u2500\u2500\u2500\u2500\u2500\n",
        "        \u239bQ    P\u22c5t\u239e\n",
        "    2\u22c5a\u22c5\u239c\u2500 + \u212f   \u239f\n",
        "        \u239dR       \u23a0"
       ]
      }
     ],
     "prompt_number": 5
    },
    {
     "cell_type": "code",
     "collapsed": false,
     "input": [
      "PQR_subs"
     ],
     "language": "python",
     "outputs": [
      {
       "latex": [
        "$$\\begin{Bmatrix}P : \\sqrt{- 4 Y Z k_{f}^{2} + \\left(Y k_{f} + Z k_{f} + k_{b}\\right)^{2}}, & Q : - Y k_{f} - Z k_{f} - k_{b} + \\sqrt{- 4 Y Z k_{f}^{2} + \\left(Y k_{f} + Z k_{f} + k_{b}\\right)^{2}}, & R : Y k_{f} + Z k_{f} + k_{b} + \\sqrt{- 4 Y Z k_{f}^{2} + \\left(Y k_{f} + Z k_{f} + k_{b}\\right)^{2}}\\end{Bmatrix}$$"
       ],
       "output_type": "pyout",
       "png": "[encoded data removed]",
       "prompt_number": 6,
       "text": [
        "\u23a7      _______________________________________                               _\n",
        "\u23a8     \u2571            2                        2                               \u2571 \n",
        "\u23a9P: \u2572\u2571  - 4\u22c5Y\u22c5Z\u22c5k_f  + (Y\u22c5k_f + Z\u22c5k_f + k_b)  , Q: -Y\u22c5k_f - Z\u22c5k_f - k_b + \u2572\u2571  \n",
        "\n",
        "______________________________________                              __________\n",
        "           2                        2                              \u2571          \n",
        "- 4\u22c5Y\u22c5Z\u22c5k_f  + (Y\u22c5k_f + Z\u22c5k_f + k_b)  , R: Y\u22c5k_f + Z\u22c5k_f + k_b + \u2572\u2571  - 4\u22c5Y\u22c5Z\u22c5k\n",
        "\n",
        "_____________________________\u23ab\n",
        "  2                        2 \u23ac\n",
        "_f  + (Y\u22c5k_f + Z\u22c5k_f + k_b)  \u23ad"
       ]
      }
     ],
     "prompt_number": 6
    },
    {
     "cell_type": "code",
     "collapsed": false,
     "input": [
      "sol = solve(expl_in_x_eq, x)[0]\n",
      "sol"
     ],
     "language": "python",
     "outputs": [
      {
       "latex": [
        "$$- \\frac{P \\left(P - b\\right) e^{P t} + b \\left(P - b\\right) e^{P t} - \\left(P - b\\right) \\left(P + b\\right)}{2 a \\left(P + b + \\left(P - b\\right) e^{P t}\\right)}$$"
       ],
       "output_type": "pyout",
       "png": "[encoded data removed]",
       "prompt_number": 21,
       "text": [
        " \u239b           P\u22c5t              P\u22c5t                  \u239e \n",
        "-\u239dP\u22c5(P - b)\u22c5\u212f    + b\u22c5(P - b)\u22c5\u212f    - (P - b)\u22c5(P + b)\u23a0 \n",
        "\u2500\u2500\u2500\u2500\u2500\u2500\u2500\u2500\u2500\u2500\u2500\u2500\u2500\u2500\u2500\u2500\u2500\u2500\u2500\u2500\u2500\u2500\u2500\u2500\u2500\u2500\u2500\u2500\u2500\u2500\u2500\u2500\u2500\u2500\u2500\u2500\u2500\u2500\u2500\u2500\u2500\u2500\u2500\u2500\u2500\u2500\u2500\u2500\u2500\u2500\u2500\u2500\u2500\n",
        "                  \u239b                 P\u22c5t\u239e             \n",
        "              2\u22c5a\u22c5\u239dP + b + (P - b)\u22c5\u212f   \u23a0             "
       ]
      }
     ],
     "prompt_number": 21
    },
    {
     "cell_type": "code",
     "collapsed": false,
     "input": [
      "sol.simplify()"
     ],
     "language": "python",
     "outputs": [
      {
       "latex": [
        "$$\\frac{\\left(P - b\\right) \\left(- P e^{P t} + P - b e^{P t} + b\\right)}{2 a \\left(P + b + \\left(P - b\\right) e^{P t}\\right)}$$"
       ],
       "output_type": "pyout",
       "png": "[encoded data removed]",
       "prompt_number": 28,
       "text": [
        "        \u239b     P\u22c5t          P\u22c5t    \u239e\n",
        "(P - b)\u22c5\u239d- P\u22c5\u212f    + P - b\u22c5\u212f    + b\u23a0\n",
        "\u2500\u2500\u2500\u2500\u2500\u2500\u2500\u2500\u2500\u2500\u2500\u2500\u2500\u2500\u2500\u2500\u2500\u2500\u2500\u2500\u2500\u2500\u2500\u2500\u2500\u2500\u2500\u2500\u2500\u2500\u2500\u2500\u2500\u2500\u2500\n",
        "         \u239b                 P\u22c5t\u239e    \n",
        "     2\u22c5a\u22c5\u239dP + b + (P - b)\u22c5\u212f   \u23a0    "
       ]
      }
     ],
     "prompt_number": 28
    },
    {
     "cell_type": "code",
     "collapsed": false,
     "input": [
      "x_ = eqs[-1].rhs\n",
      "x_"
     ],
     "language": "python",
     "outputs": [
      {
       "latex": [
        "$$- \\frac{Q \\left(e^{P t} - 1\\right)}{2 a \\left(\\frac{Q}{R} + e^{P t}\\right)}$$"
       ],
       "output_type": "pyout",
       "png": "[encoded data removed]",
       "prompt_number": 7,
       "text": [
        "   \u239b P\u22c5t    \u239e \n",
        "-Q\u22c5\u239d\u212f    - 1\u23a0 \n",
        "\u2500\u2500\u2500\u2500\u2500\u2500\u2500\u2500\u2500\u2500\u2500\u2500\u2500\u2500\n",
        "    \u239bQ    P\u22c5t\u239e\n",
        "2\u22c5a\u22c5\u239c\u2500 + \u212f   \u239f\n",
        "    \u239dR       \u23a0"
       ]
      }
     ],
     "prompt_number": 7
    },
    {
     "cell_type": "code",
     "collapsed": false,
     "input": [
      "subs"
     ],
     "language": "python",
     "outputs": [
      {
       "latex": [
        "$$\\begin{Bmatrix}P : \\sqrt{- 4 a c + b^{2}}, & Q : P + b, & R : P - b, & a : k_{f}, & b : - Y k_{f} - Z k_{f} - k_{b}, & c : Y Z k_{f}\\end{Bmatrix}$$"
       ],
       "output_type": "pyout",
       "png": "[encoded data removed]",
       "prompt_number": 8,
       "text": [
        "\u23a7      _____________                                                          \n",
        "\u23a8     \u2571           2                                                           \n",
        "\u23a9P: \u2572\u2571  -4\u22c5a\u22c5c + b  , Q: P + b, R: P - b, a: k_f, b: -Y\u22c5k_f - Z\u22c5k_f - k_b, c: \n",
        "\n",
        "       \u23ab\n",
        "       \u23ac\n",
        "Y\u22c5Z\u22c5k_f\u23ad"
       ]
      }
     ],
     "prompt_number": 8
    },
    {
     "cell_type": "code",
     "collapsed": false,
     "input": [
      "cse(x_.subs(PQR_subs).simplify())"
     ],
     "language": "python",
     "outputs": [
      {
       "latex": [
        "$$\\begin{pmatrix}\\begin{bmatrix}\\begin{pmatrix}x_{0}, & Y k_{f}\\end{pmatrix}, & \\begin{pmatrix}x_{1}, & Z k_{f}\\end{pmatrix}, & \\begin{pmatrix}x_{2}, & k_{b} + x_{0} + x_{1}\\end{pmatrix}, & \\begin{pmatrix}x_{3}, & \\sqrt{- 4 Y Z k_{f}^{2} + x_{2}^{2}}\\end{pmatrix}, & \\begin{pmatrix}x_{4}, & e^{t x_{3}}\\end{pmatrix}, & \\begin{pmatrix}x_{5}, & x_{2} + x_{3}\\end{pmatrix}\\end{bmatrix}, & \\begin{bmatrix}\\frac{x_{5} \\left(x_{2} - x_{3}\\right) \\left(x_{4} - 1\\right)}{2 k_{f} \\left(- k_{b} - x_{0} - x_{1} + x_{3} + x_{4} x_{5}\\right)}\\end{bmatrix}\\end{pmatrix}$$"
       ],
       "output_type": "pyout",
       "png": "[encoded data removed]",
       "prompt_number": 11,
       "text": [
        "\u239b\u23a1                                               \u239b       ____________________\u239e\n",
        "\u239c\u23a2                                               \u239c      \u2571            2     2 \u239f\n",
        "\u239c\u23a3(x\u2080, Y\u22c5k_f), (x\u2081, Z\u22c5k_f), (x\u2082, k_b + x\u2080 + x\u2081), \u239dx\u2083, \u2572\u2571  - 4\u22c5Y\u22c5Z\u22c5k_f  + x\u2082  \u23a0\n",
        "\u239d                                                                             \n",
        "\n",
        "                            \u23a4                                       \u239e\n",
        "  \u239b     t\u22c5x\u2083\u239e               \u23a5  \u23a1       x\u2085\u22c5(x\u2082 - x\u2083)\u22c5(x\u2084 - 1)       \u23a4\u239f\n",
        ", \u239dx\u2084, \u212f    \u23a0, (x\u2085, x\u2082 + x\u2083)\u23a6, \u23a2\u2500\u2500\u2500\u2500\u2500\u2500\u2500\u2500\u2500\u2500\u2500\u2500\u2500\u2500\u2500\u2500\u2500\u2500\u2500\u2500\u2500\u2500\u2500\u2500\u2500\u2500\u2500\u2500\u2500\u2500\u2500\u2500\u2500\u2500\u2500\u23a5\u239f\n",
        "                               \u23a32\u22c5k_f\u22c5(-k_b - x\u2080 - x\u2081 + x\u2083 + x\u2084\u22c5x\u2085)\u23a6\u23a0"
       ]
      }
     ],
     "prompt_number": 11
    },
    {
     "cell_type": "code",
     "collapsed": false,
     "input": [
      "_vars = [symbs[k] for k in 't Y Z k_f k_b'.split()]\n",
      "from sympy.utilities.lambdify import lambdify\n",
      "cb = lambdify(_vars, x_.subs(PQR_subs), modules='numpy')\n",
      "import numpy as np\n",
      "import matplotlib.pyplot as plt\n",
      "tplot = np.linspace(0,0.2,100)\n",
      "plt.plot(tplot, cb(tplot, 5, 3, 11, 3))\n"
     ],
     "language": "python",
     "outputs": [
      {
       "output_type": "pyout",
       "prompt_number": 12,
       "text": [
        "[<matplotlib.lines.Line2D at 0x57b9c50>]"
       ]
      },
      {
       "output_type": "display_data",
       "png": "[encoded data removed]",
       "text": [
        "<matplotlib.figure.Figure at 0x2b8a031542d0>"
       ]
      }
     ],
     "prompt_number": 12
    },
    {
     "cell_type": "code",
     "collapsed": false,
     "input": [
      "from IPython.display import display\n",
      "map(display, eqs)"
     ],
     "language": "python",
     "outputs": [
      {
       "latex": [
        "$$\\frac{d}{d t} x = - k_{b} x + k_{f} \\left(Y - x\\right) \\left(Z - x\\right)$$"
       ],
       "output_type": "display_data",
       "png": "[encoded data removed]",
       "text": [
        "d                                   \n",
        "\u2500\u2500(x) = -k_b\u22c5x + k_f\u22c5(Y - x)\u22c5(Z - x)\n",
        "dt                                  "
       ]
      },
      {
       "latex": [
        "$$\\int_{0}^{x} \\frac{1}{a \\chi^{2} + b \\chi + c}\\, d\\chi = \\int_{0}^{t} 1\\, d\\tau$$"
       ],
       "output_type": "display_data",
       "png": "[encoded data removed]",
       "text": [
        "x                           \n",
        "\u2320                     t     \n",
        "\u23ae       1             \u2320     \n",
        "\u23ae \u2500\u2500\u2500\u2500\u2500\u2500\u2500\u2500\u2500\u2500\u2500\u2500\u2500\u2500 d\u03c7 = \u23ae 1 d\u03c4\n",
        "\u23ae    2                \u2321     \n",
        "\u23ae a\u22c5\u03c7  + b\u22c5\u03c7 + c      0     \n",
        "\u2321                           \n",
        "0                           "
       ]
      },
      {
       "latex": [
        "$$P = \\sqrt{- 4 a c + b^{2}}$$"
       ],
       "output_type": "display_data",
       "png": "[encoded data removed]",
       "text": [
        "       _____________\n",
        "      \u2571           2 \n",
        "P = \u2572\u2571  -4\u22c5a\u22c5c + b  "
       ]
      },
      {
       "latex": [
        "$$\\frac{1}{P} \\left(- \\log{\\left (\\frac{- P + b}{P + b} \\right )} + \\log{\\left (\\frac{- P + 2 a x + b}{P + 2 a x + b} \\right )}\\right) = t$$"
       ],
       "output_type": "display_data",
       "png": "[encoded data removed]",
       "text": [
        "     \u239b-P + b\u239e      \u239b-P + 2\u22c5a\u22c5x + b\u239e    \n",
        "- log\u239c\u2500\u2500\u2500\u2500\u2500\u2500\u239f + log\u239c\u2500\u2500\u2500\u2500\u2500\u2500\u2500\u2500\u2500\u2500\u2500\u2500\u2500\u2500\u239f    \n",
        "     \u239dP + b \u23a0      \u239dP + 2\u22c5a\u22c5x + b \u23a0    \n",
        "\u2500\u2500\u2500\u2500\u2500\u2500\u2500\u2500\u2500\u2500\u2500\u2500\u2500\u2500\u2500\u2500\u2500\u2500\u2500\u2500\u2500\u2500\u2500\u2500\u2500\u2500\u2500\u2500\u2500\u2500\u2500\u2500\u2500\u2500\u2500 = t\n",
        "                 P                     "
       ]
      },
      {
       "latex": [
        "$$x = - \\frac{P \\left(P - b\\right) e^{P t} + b \\left(P - b\\right) e^{P t} - \\left(P - b\\right) \\left(P + b\\right)}{2 a \\left(P + b + \\left(P - b\\right) e^{P t}\\right)}$$"
       ],
       "output_type": "display_data",
       "png": "[encoded data removed]",
       "text": [
        "     \u239b           P\u22c5t              P\u22c5t                  \u239e \n",
        "    -\u239dP\u22c5(P - b)\u22c5\u212f    + b\u22c5(P - b)\u22c5\u212f    - (P - b)\u22c5(P + b)\u23a0 \n",
        "x = \u2500\u2500\u2500\u2500\u2500\u2500\u2500\u2500\u2500\u2500\u2500\u2500\u2500\u2500\u2500\u2500\u2500\u2500\u2500\u2500\u2500\u2500\u2500\u2500\u2500\u2500\u2500\u2500\u2500\u2500\u2500\u2500\u2500\u2500\u2500\u2500\u2500\u2500\u2500\u2500\u2500\u2500\u2500\u2500\u2500\u2500\u2500\u2500\u2500\u2500\u2500\u2500\u2500\n",
        "                      \u239b                 P\u22c5t\u239e             \n",
        "                  2\u22c5a\u22c5\u239dP + b + (P - b)\u22c5\u212f   \u23a0             "
       ]
      },
      {
       "latex": [
        "$$Q = P + b$$"
       ],
       "output_type": "display_data",
       "png": "[encoded data removed]",
       "text": [
        "Q = P + b"
       ]
      },
      {
       "latex": [
        "$$R = P - b$$"
       ],
       "output_type": "display_data",
       "png": "[encoded data removed]",
       "text": [
        "R = P - b"
       ]
      },
      {
       "latex": [
        "$$x = - \\frac{Q R \\left(e^{P t} - 1\\right)}{2 k_{f} \\left(Q + R e^{P t}\\right)}$$"
       ],
       "output_type": "display_data",
       "png": "[encoded data removed]",
       "text": [
        "          \u239b P\u22c5t    \u239e  \n",
        "     -Q\u22c5R\u22c5\u239d\u212f    - 1\u23a0  \n",
        "x = \u2500\u2500\u2500\u2500\u2500\u2500\u2500\u2500\u2500\u2500\u2500\u2500\u2500\u2500\u2500\u2500\u2500\u2500\n",
        "          \u239b       P\u22c5t\u239e\n",
        "    2\u22c5k_f\u22c5\u239dQ + R\u22c5\u212f   \u23a0"
       ]
      },
      {
       "output_type": "pyout",
       "prompt_number": 13,
       "text": [
        "[None, None, None, None, None, None, None, None]"
       ]
      }
     ],
     "prompt_number": 13
    }
   ]
  },
  {
   "cells": [
    {
     "cell_type": "code",
     "collapsed": false,
     "input": [],
     "language": "python",
     "outputs": []
    }
   ]
  }
 ]
}