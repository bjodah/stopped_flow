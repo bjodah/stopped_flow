{
 "metadata": {
  "name": ""
 },
 "nbformat": 3,
 "nbformat_minor": 0,
 "worksheets": [
  {
   "cells": [
    {
     "cell_type": "code",
     "collapsed": false,
     "input": [
      "from sympy import *\n",
      "from sympy import init_printing\n",
      "from IPython.display import display\n",
      "init_printing(use_latex=True)\n",
      "from irrev_unary import eqs\n"
     ],
     "language": "python",
     "metadata": {},
     "outputs": [],
     "prompt_number": 1
    },
    {
     "cell_type": "code",
     "collapsed": false,
     "input": [
      "_ = map(display, eqs)"
     ],
     "language": "python",
     "metadata": {},
     "outputs": [
      {
       "latex": [
        "$$\\frac{d}{d t} x = Y k_{f} \\left(Z - x\\right)$$"
       ],
       "metadata": {},
       "output_type": "display_data",
       "png": "[encoded data removed]",
       "text": [
        "d                    \n",
        "\u2500\u2500(x) = Y\u22c5k_f\u22c5(Z - x)\n",
        "dt                   "
       ]
      },
      {
       "latex": [
        "$$\\int_{0}^{x} \\frac{1}{Y k_{f} \\left(Z - \\chi\\right)}\\, d\\chi = \\int_{0}^{t} 1\\, d\\tau$$"
       ],
       "metadata": {},
       "output_type": "display_data",
       "png": "[encoded data removed]",
       "text": [
        "x                          \n",
        "\u2320                    t     \n",
        "\u23ae       1            \u2320     \n",
        "\u23ae \u2500\u2500\u2500\u2500\u2500\u2500\u2500\u2500\u2500\u2500\u2500\u2500\u2500 d\u03c7 = \u23ae 1 d\u03c4\n",
        "\u23ae Y\u22c5k_f\u22c5(Z - \u03c7)      \u2321     \n",
        "\u2321                    0     \n",
        "0                          "
       ]
      },
      {
       "latex": [
        "$$\\frac{1}{Y k_{f}} \\left(\\log{\\left (Z \\right )} - \\log{\\left (Z - x \\right )}\\right) = t$$"
       ],
       "metadata": {},
       "output_type": "display_data",
       "png": "[encoded data removed]",
       "text": [
        "log(Z) - log(Z - x)    \n",
        "\u2500\u2500\u2500\u2500\u2500\u2500\u2500\u2500\u2500\u2500\u2500\u2500\u2500\u2500\u2500\u2500\u2500\u2500\u2500 = t\n",
        "       Y\u22c5k_f           "
       ]
      },
      {
       "latex": [
        "$$x = Z \\left(1 - e^{- Y k_{f} t}\\right)$$"
       ],
       "metadata": {},
       "output_type": "display_data",
       "png": "[encoded data removed]",
       "text": [
        "      \u239b     -Y\u22c5k_f\u22c5t\u239e\n",
        "x = Z\u22c5\u239d1 - \u212f        \u23a0"
       ]
      }
     ],
     "prompt_number": 2
    },
    {
     "cell_type": "code",
     "collapsed": false,
     "input": [],
     "language": "python",
     "metadata": {},
     "outputs": []
    }
   ],
   "metadata": {}
  }
 ]
}