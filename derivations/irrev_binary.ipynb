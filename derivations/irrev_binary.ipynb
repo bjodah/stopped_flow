{
 "metadata": {
  "name": ""
 },
 "nbformat": 3,
 "nbformat_minor": 0,
 "worksheets": [
  {
   "cells": [
    {
     "cell_type": "code",
     "collapsed": false,
     "input": [
      "%matplotlib inline\n",
      "from sympy import *\n",
      "from sympy import init_printing\n",
      "init_printing(use_latex=True)"
     ],
     "language": "python",
     "outputs": [],
     "prompt_number": 1
    },
    {
     "cell_type": "code",
     "collapsed": false,
     "input": [
      "from irrev_binary import eqs, expl_in_t_eq, symbs, Y, Z, t"
     ],
     "language": "python",
     "outputs": [],
     "prompt_number": 6
    },
    {
     "cell_type": "code",
     "collapsed": false,
     "input": [
      "from IPython.display import display\n",
      "_ = map(display, eqs)"
     ],
     "language": "python",
     "outputs": [
      {
       "latex": [
        "$$\\frac{d}{d t} x = k_{f} \\left(Y - x\\right) \\left(Z - x\\right)$$"
       ],
       "output_type": "display_data",
       "png": "[encoded data removed]",
       "text": [
        "d                          \n",
        "\u2500\u2500(x) = k_f\u22c5(Y - x)\u22c5(Z - x)\n",
        "dt                         "
       ]
      },
      {
       "latex": [
        "$$\\int_{0}^{x} \\frac{1}{\\left(Y - \\chi\\right) \\left(Z - \\chi\\right)}\\, d\\chi = \\int_{0}^{t} k_{f}\\, d\\tau$$"
       ],
       "output_type": "display_data",
       "png": "[encoded data removed]",
       "text": [
        "x                              \n",
        "\u2320                      t       \n",
        "\u23ae        1             \u2320       \n",
        "\u23ae \u2500\u2500\u2500\u2500\u2500\u2500\u2500\u2500\u2500\u2500\u2500\u2500\u2500\u2500\u2500 d\u03c7 = \u23ae k_f d\u03c4\n",
        "\u23ae (Y - \u03c7)\u22c5(Z - \u03c7)      \u2321       \n",
        "\u2321                      0       \n",
        "0                              "
       ]
      },
      {
       "latex": [
        "$$\\frac{1}{Y - Z} \\left(\\log{\\left (\\frac{Z}{Y} \\right )} + \\log{\\left (Y - x \\right )} - \\log{\\left (Z - x \\right )}\\right) = k_{f} t$$"
       ],
       "output_type": "display_data",
       "png": "[encoded data removed]",
       "text": [
        "   \u239bZ\u239e                                  \n",
        "log\u239c\u2500\u239f + log(Y - x) - log(Z - x)        \n",
        "   \u239dY\u23a0                                  \n",
        "\u2500\u2500\u2500\u2500\u2500\u2500\u2500\u2500\u2500\u2500\u2500\u2500\u2500\u2500\u2500\u2500\u2500\u2500\u2500\u2500\u2500\u2500\u2500\u2500\u2500\u2500\u2500\u2500\u2500\u2500\u2500\u2500 = k_f\u22c5t\n",
        "             Y - Z                      "
       ]
      },
      {
       "latex": [
        "$$x = \\frac{Y \\left(- e^{k_{f} t \\left(- Y + Z\\right)} + 1\\right)}{\\frac{Y}{Z} - e^{k_{f} t \\left(- Y + Z\\right)}}$$"
       ],
       "output_type": "display_data",
       "png": "[encoded data removed]",
       "text": [
        "      \u239b   k_f\u22c5t\u22c5(-Y + Z)    \u239e\n",
        "    Y\u22c5\u239d- \u212f               + 1\u23a0\n",
        "x = \u2500\u2500\u2500\u2500\u2500\u2500\u2500\u2500\u2500\u2500\u2500\u2500\u2500\u2500\u2500\u2500\u2500\u2500\u2500\u2500\u2500\u2500\u2500\u2500\u2500\n",
        "       Y    k_f\u22c5t\u22c5(-Y + Z)   \n",
        "       \u2500 - \u212f                 \n",
        "       Z                     "
       ]
      }
     ],
     "prompt_number": 8
    },
    {
     "cell_type": "code",
     "collapsed": false,
     "input": [
      "expl_in_t_eq.rhs.diff(symbs['t']).subs({symbs['t']:0}).simplify()"
     ],
     "language": "python",
     "outputs": [
      {
       "latex": [
        "$$Y Z k_{f}$$"
       ],
       "output_type": "pyout",
       "png": "[encoded data removed]",
       "prompt_number": 16,
       "text": [
        "Y\u22c5Z\u22c5k_f"
       ]
      }
     ],
     "prompt_number": 16
    },
    {
     "cell_type": "code",
     "collapsed": false,
     "input": [
      "t, Y, Z, k_f = [symbs[k] for k in 't Y Z k_f'.split()]\n",
      "cb = lambdify([t, Y, Z, k_f], expl_in_t_eq.rhs, modules=['numpy'])"
     ],
     "language": "python",
     "outputs": [],
     "prompt_number": 13
    },
    {
     "cell_type": "code",
     "collapsed": false,
     "input": [
      "import numpy as np\n",
      "cb(np.array([0.0, 0.5, 1.0]), 3.0, 2.0, 4.0)"
     ],
     "language": "python",
     "outputs": [
      {
       "output_type": "pyout",
       "prompt_number": 14,
       "text": [
        "array([ 0.        ,  1.90082891,  1.98763864])"
       ]
      }
     ],
     "prompt_number": 14
    },
    {
     "cell_type": "code",
     "collapsed": false,
     "input": [
      "import matplotlib.pyplot as plt\n",
      "t_plot = np.linspace(0,2)\n",
      "plt.plot(t_plot, cb(t_plot, 3.0, 2.0, 4.0))"
     ],
     "language": "python",
     "outputs": [
      {
       "output_type": "pyout",
       "prompt_number": 15,
       "text": [
        "[<matplotlib.lines.Line2D at 0x541e490>]"
       ]
      },
      {
       "output_type": "display_data",
       "png": "[encoded data removed]",
       "text": [
        "<matplotlib.figure.Figure at 0x532aad0>"
       ]
      }
     ],
     "prompt_number": 15
    }
   ]
  }
 ]
}