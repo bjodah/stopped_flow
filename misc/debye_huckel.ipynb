{
 "metadata": {
  "name": ""
 },
 "nbformat": 3,
 "nbformat_minor": 0,
 "worksheets": [
  {
   "cells": [
    {
     "cell_type": "code",
     "collapsed": false,
     "input": [
      "from __future__ import division"
     ],
     "language": "python",
     "metadata": {},
     "outputs": [],
     "prompt_number": 3
    },
    {
     "cell_type": "code",
     "collapsed": false,
     "input": [
      "def rho_water(T=298.15, T0=None, units=None, a=None, just_return_a=False):\n",
      "    \"\"\"\n",
      "    Density of water (kg/m3) as function of temperature (K)\n",
      "    according to VSMOW model between 0 and 40 degree Celsius.\n",
      "    Fitted using Thiesen's equation.\n",
      "    \n",
      "    Parameters\n",
      "    ----------\n",
      "    T: float\n",
      "        Temperature (default: in Kelvin)\n",
      "    T0: float\n",
      "        Value of T for freezing point of water (default: 273.15)\n",
      "    units: object (optional)\n",
      "        object with attributes: Kelvin, meter, kilogram\n",
      "    a: array_like (optional)\n",
      "        5 parameters to the equation.\n",
      "    just_return_a: bool (optional, default: False)\n",
      "        Do not compute rho, just return the parameters ``a``.\n",
      "        \n",
      "    Returns\n",
      "    -------\n",
      "    Density of water (float if T is float and units is None)\n",
      "    \n",
      "    References\n",
      "    ----------\n",
      "    TANAKA M., GIRARD G., DAVIS R., PEUTO A. and BIGNELL N.,\n",
      "        \"Recommanded table for the density of water between 0 \u00b0C and 40 \u00b0C based on recent experimental reports\",\n",
      "        Metrologia, 2001, 38, 301-309. doi:10.1088/0026-1394/38/4/3\n",
      "    \"\"\"\n",
      "    if units is None:\n",
      "        K = 1\n",
      "        m = 1\n",
      "        kg = 1\n",
      "    else:\n",
      "        K = units.Kelvin\n",
      "        m = units.meter\n",
      "        kg = units.kilogram\n",
      "    m3 = m**3\n",
      "    if a is None:\n",
      "        a = (-3.983035*K,  # C\n",
      "            301.797*K, # C\n",
      "            522528.9*K*K, # C**2\n",
      "            69.34881*K, # C\n",
      "            999.974950*kg/m3) # kg / m**3\n",
      "    if just_return_a:\n",
      "        return a\n",
      "    if T0 is None:\n",
      "        T0 = 273.15*K # K\n",
      "    t = T - T0\n",
      "    return a[4]*(1-((t + a[0])**2*(t + a[1]))/(a[2]*(t + a[3])))"
     ],
     "language": "python",
     "metadata": {},
     "outputs": [],
     "prompt_number": 4
    },
    {
     "cell_type": "code",
     "collapsed": false,
     "input": [
      "# No dependencies outside standard library, sane defaults.\n",
      "rho_water()"
     ],
     "language": "python",
     "metadata": {},
     "outputs": [
      {
       "metadata": {},
       "output_type": "pyout",
       "prompt_number": 5,
       "text": [
        "997.047021671824"
       ]
      }
     ],
     "prompt_number": 5
    },
    {
     "cell_type": "code",
     "collapsed": false,
     "input": [
      "# It plays nice with SymPy\n",
      "import sympy\n",
      "a = sympy.symbols('a:5')\n",
      "T, T0 = sympy.symbols('T T0')\n",
      "rho_water(T, a=a, T0=T0)"
     ],
     "language": "python",
     "metadata": {},
     "outputs": [
      {
       "metadata": {},
       "output_type": "pyout",
       "prompt_number": 6,
       "text": [
        "a4*(1 - (T - T0 + a0)**2*(T - T0 + a1)/(a2*(T - T0 + a3)))"
       ]
      }
     ],
     "prompt_number": 6
    },
    {
     "cell_type": "code",
     "collapsed": false,
     "input": [
      "# ...which is useful if you want the equation in another language than Python\n",
      "print(\"C\")\n",
      "print(sympy.ccode(rho_water(T, a=rho_water(just_return_a=True), T0=T0)))\n",
      "print(\"\\nFortran\")\n",
      "print(sympy.fcode(rho_water(T, a=rho_water(just_return_a=True), T0=T0), source_format='free'))"
     ],
     "language": "python",
     "metadata": {},
     "outputs": [
      {
       "output_type": "stream",
       "stream": "stdout",
       "text": [
        "C\n",
        "-999.97495*pow(T - T0 - 3.983035, 2)*(T - T0 + 301.797)/(522528.9*T - 522528.9*T0 + 36236757.405609) + 999.97495\n",
        "\n",
        "Fortran\n",
        "-999.97495d0*(T - T0 - 3.983035d0)**2*(T - T0 + 301.797d0)/(522528.9d0*T &\n",
        "      - 522528.9d0*T0 + 36236757.405609d0) + 999.97495d0\n"
       ]
      }
     ],
     "prompt_number": 7
    },
    {
     "cell_type": "code",
     "collapsed": false,
     "input": [
      "# It plays nice with quantities\n",
      "import quantities as pq\n",
      "rho_water(298.15*pq.K, units=pq), rho_water(just_return_a=True, units=pq)"
     ],
     "language": "python",
     "metadata": {},
     "outputs": [
      {
       "metadata": {},
       "output_type": "pyout",
       "prompt_number": 8,
       "text": [
        "(array(997.047021671824) * kg/m**3,\n",
        " (array(-3.983035) * K,\n",
        "  array(301.797) * K,\n",
        "  array(522528.9) * K**2,\n",
        "  array(69.34881) * K,\n",
        "  array(999.97495) * kg/m**3))"
       ]
      }
     ],
     "prompt_number": 8
    },
    {
     "cell_type": "code",
     "collapsed": false,
     "input": [
      "# It plays nice with NumPy\n",
      "import matplotlib.pyplot as plt\n",
      "import numpy as np\n",
      "C_plot = np.linspace(0, 40)\n",
      "plt.plot(C_plot, rho_water(C_plot+273.15))\n",
      "plt.xlabel('Temperature / $^\\circ C$')\n",
      "plt.ylabel('Density / $kg m^{-3}$')\n",
      "_ = plt.title(\"Density of water vs. temperature\")"
     ],
     "language": "python",
     "metadata": {},
     "outputs": [
      {
       "metadata": {},
       "output_type": "display_data",
       "png": "[encoded data removed]",
       "text": [
        "<matplotlib.figure.Figure at 0x7fba1c264ed0>"
       ]
      }
     ],
     "prompt_number": 9
    },
    {
     "cell_type": "code",
     "collapsed": false,
     "input": [
      "from math import log\n",
      "import quantities as pq"
     ],
     "language": "python",
     "metadata": {},
     "outputs": [],
     "prompt_number": 10
    },
    {
     "cell_type": "code",
     "collapsed": false,
     "input": [
      "def eps_water(T=298.15, P=1.0):\n",
      "    \"\"\"\n",
      "    Permitivity of water according to the parametrization by Bradley and Pitzer\n",
      "    (empirical parametrization)\n",
      "    \n",
      "    Parameters\n",
      "    ----------\n",
      "    T: float\n",
      "        Temperature in Kelvin\n",
      "    P: float\n",
      "        Pressure in bar\n",
      "        \n",
      "    References\n",
      "    ----------\n",
      "    - Bradley, D.J.; Pitzer, K.S. `Thermodynamics of electrolytes. 12. Dielectric\n",
      "        properties of water and Debye--Hueckel parameters to 350/sup 0/C and 1 kbar`,\n",
      "        J. Phys. Chem.; Journal Volume 83 (12) (1979), pp. 1599-1603\n",
      "        http://pubs.acs.org/doi/abs/10.1021/j100475a009\n",
      "        DOI: 10.1021/j100475a009\n",
      "    \"\"\"\n",
      "    from math import exp\n",
      "    from math import log as ln\n",
      "    U = [0,  3.4279e2, -5.0866e-3, 9.4690e-7, -2.0525, 3.1159e3, \n",
      "        -1.8289e2, -8.0325e3, 4.2142e6, 2.1417]\n",
      "    B  = U[7] + U[8]/T + U[9]*T\n",
      "    C  = U[4] + U[5]/(U[6]+T)\n",
      "    eps1000 = U[1]*exp(U[2]*T+U[3]*T**2)\n",
      "    return eps1000 + C*ln((B+P)/(B+1000.0))"
     ],
     "language": "python",
     "metadata": {},
     "outputs": [],
     "prompt_number": 11
    },
    {
     "cell_type": "code",
     "collapsed": false,
     "input": [
      "def debye_huckel_A(eps_r, T, rho, b0, constants=None, one=1):\n",
      "    \"\"\"\n",
      "    from Atkins\n",
      "    \n",
      "    Parameters\n",
      "    ----------\n",
      "    eps_r: float\n",
      "        relative permittivity\n",
      "    T: float with unit\n",
      "        temperature\n",
      "    rho: float with unit\n",
      "        density\n",
      "    b0: float with unit\n",
      "        reference molality\n",
      "    constants: object (optional)\n",
      "        \n",
      "    \"\"\"\n",
      "    if constants is None:\n",
      "        import quantities\n",
      "        constants = quantities.constants\n",
      "    F = constants.Faraday_constant\n",
      "    NA = constants.Avogadro_constant\n",
      "    eps0 = constants.vacuum_permittivity\n",
      "    kB = constants.Boltzmann_constant\n",
      "    pi = constants.pi\n",
      "    A = F**3/(4*pi*NA)*(rho*b0/(2*(eps0*eps_r*kB*NA*T)**3))**(one/2)\n",
      "    return A"
     ],
     "language": "python",
     "metadata": {},
     "outputs": [],
     "prompt_number": 12
    },
    {
     "cell_type": "code",
     "collapsed": false,
     "input": [
      "from sympy import init_printing; init_printing()\n",
      "from sympy import Symbol, symbols, S\n",
      "class Dummy:\n",
      "    pass\n",
      "consts = Dummy()\n",
      "consts.Faraday_constant = Symbol('F')\n",
      "consts.Avogadro_constant = Symbol('N_A')\n",
      "consts.vacuum_permittivity = Symbol('\\epsilon_0')\n",
      "consts.Boltzmann_constant = Symbol('k_B')\n",
      "consts.pi = Symbol('pi')\n",
      "debye_huckel_A(*symbols('epsilon_r T rho b^0'), constants=consts, one=S(1))"
     ],
     "language": "python",
     "metadata": {},
     "outputs": [
      {
       "latex": [
        "$$\\frac{\\sqrt{2} F^{3}}{8 N_{A} \\pi} \\sqrt{\\frac{b^{0} \\rho}{N_{A}^{3} T^{3} \\epsilon_{0}^{3} \\epsilon_{r}^{3} k_{B}^{3}}}$$"
       ],
       "metadata": {},
       "output_type": "pyout",
       "png": "[encoded data removed]",
       "prompt_number": 13,
       "text": [
        "              _____________________________\n",
        "  ___  3     \u2571             b\u2070\u22c5\u03c1            \n",
        "\u2572\u2571 2 \u22c5F \u22c5   \u2571  \u2500\u2500\u2500\u2500\u2500\u2500\u2500\u2500\u2500\u2500\u2500\u2500\u2500\u2500\u2500\u2500\u2500\u2500\u2500\u2500\u2500\u2500\u2500\u2500\u2500\u2500\u2500 \n",
        "           \u2571      3  3          3   3    3 \n",
        "         \u2572\u2571    N_A \u22c5T \u22c5\\epsilon\u2080 \u22c5\u03b5\u1d63 \u22c5k_B  \n",
        "\u2500\u2500\u2500\u2500\u2500\u2500\u2500\u2500\u2500\u2500\u2500\u2500\u2500\u2500\u2500\u2500\u2500\u2500\u2500\u2500\u2500\u2500\u2500\u2500\u2500\u2500\u2500\u2500\u2500\u2500\u2500\u2500\u2500\u2500\u2500\u2500\u2500\u2500\u2500\u2500\u2500\u2500\u2500\n",
        "                  8\u22c5N_A\u22c5\u03c0                  "
       ]
      }
     ],
     "prompt_number": 13
    },
    {
     "cell_type": "code",
     "collapsed": false,
     "input": [
      "debye_huckel_A(1, 1, 1, 1, constants=pq.constants).simplified"
     ],
     "language": "python",
     "metadata": {},
     "outputs": [
      {
       "metadata": {},
       "output_type": "pyout",
       "prompt_number": 14,
       "text": [
        "array(132871.85866393594) * m**1.5*K**1.5/mol**0.5"
       ]
      }
     ],
     "prompt_number": 14
    },
    {
     "cell_type": "code",
     "collapsed": false,
     "input": [
      "T = 297 # 24 deg C\n",
      "res = debye_huckel_A(eps_water(T), T*pq.K, rho_water(T)*pq.kg/pq.metre**3, 1*pq.mole/pq.kg)\n",
      "res"
     ],
     "language": "python",
     "metadata": {},
     "outputs": [
      {
       "metadata": {},
       "output_type": "pyout",
       "prompt_number": 15,
       "text": [
        "array(1.5593131971666435e-06) * F**3*mol**0.5/(epsilon_0**1.5*pi*N_A**2.5*k**1.5*m**1.5*K**1.5)"
       ]
      }
     ],
     "prompt_number": 15
    },
    {
     "cell_type": "code",
     "collapsed": false,
     "input": [
      "res.simplified"
     ],
     "language": "python",
     "metadata": {},
     "outputs": [
      {
       "metadata": {},
       "output_type": "pyout",
       "prompt_number": 16,
       "text": [
        "array(1.172037085539284) * dimensionless"
       ]
      }
     ],
     "prompt_number": 16
    },
    {
     "cell_type": "code",
     "collapsed": false,
     "input": [
      "res.simplified/log(10)"
     ],
     "language": "python",
     "metadata": {},
     "outputs": [
      {
       "metadata": {},
       "output_type": "pyout",
       "prompt_number": 17,
       "text": [
        "array(0.5090092388356806) * dimensionless"
       ]
      }
     ],
     "prompt_number": 17
    },
    {
     "cell_type": "code",
     "collapsed": false,
     "input": [
      "import matplotlib.pyplot as plt\n",
      "%matplotlib inline\n",
      "import numpy as np\n",
      "C_plot = np.linspace(0, 40)\n",
      "plt.plot(C_plot, np.array([\n",
      "    debye_huckel_A(eps_water(T), T*pq.K, rho_water(T)*pq.kg/pq.metre**3,\n",
      "                   1*pq.mole/pq.kg).simplified for T in 273.15+C_plot])/log(10))\n",
      "plt.xlabel('Temperature / degC')\n",
      "plt.ylabel('A')\n",
      "_ = plt.title('Temperature dependence of the Debye-Huckel constant A')"
     ],
     "language": "python",
     "metadata": {},
     "outputs": [
      {
       "metadata": {},
       "output_type": "display_data",
       "png": "[encoded data removed]",
       "text": [
        "<matplotlib.figure.Figure at 0x7fba1c070b90>"
       ]
      }
     ],
     "prompt_number": 43
    },
    {
     "cell_type": "code",
     "collapsed": false,
     "input": [
      "def debye_huckel_B(eps_r, T, rho, b0, constants=None, one=1):\n",
      "    \"\"\"\n",
      "    from Atkins\n",
      "    \n",
      "    Parameters\n",
      "    ----------\n",
      "    eps_r: float\n",
      "        relative permittivity\n",
      "    T: float with unit\n",
      "        temperature\n",
      "    rho: float with unit\n",
      "        density\n",
      "    b0: float with unit\n",
      "        reference molality\n",
      "    constants: object (optional)\n",
      "        attributes accessed: molar_gas_constant, Faraday_constant\n",
      "    \"\"\"\n",
      "    if constants is None:\n",
      "        import quantities\n",
      "        constants = quantities.constants\n",
      "    F = constants.Faraday_constant\n",
      "    eps0 = constants.vacuum_permittivity\n",
      "    R = constants.molar_gas_constant\n",
      "    B = F*(2*rho*b0/(eps_r*eps0*R*T))**(one/2)\n",
      "    return B"
     ],
     "language": "python",
     "metadata": {},
     "outputs": [],
     "prompt_number": 28
    },
    {
     "cell_type": "code",
     "collapsed": false,
     "input": [
      "consts.molar_gas_constant = Symbol('R')\n",
      "debye_huckel_B(*symbols('epsilon_r T rho b0'), constants=consts, one=S(1))"
     ],
     "language": "python",
     "metadata": {},
     "outputs": [
      {
       "latex": [
        "$$\\sqrt{2} F \\sqrt{\\frac{b_{0} \\rho}{R T \\epsilon_{0} \\epsilon_{r}}}$$"
       ],
       "metadata": {},
       "output_type": "pyout",
       "png": "[encoded data removed]",
       "prompt_number": 29,
       "text": [
        "            __________________\n",
        "  ___      \u2571       b\u2080\u22c5\u03c1       \n",
        "\u2572\u2571 2 \u22c5F\u22c5  \u2571  \u2500\u2500\u2500\u2500\u2500\u2500\u2500\u2500\u2500\u2500\u2500\u2500\u2500\u2500\u2500\u2500 \n",
        "        \u2572\u2571   R\u22c5T\u22c5\\epsilon\u2080\u22c5\u03b5\u1d63 "
       ]
      }
     ],
     "prompt_number": 29
    },
    {
     "cell_type": "code",
     "collapsed": false,
     "input": [
      "debye_huckel_B(1, 1, 1, 1, constants=pq.constants).simplified"
     ],
     "language": "python",
     "metadata": {},
     "outputs": [
      {
       "metadata": {},
       "output_type": "pyout",
       "prompt_number": 71,
       "text": [
        "array(15903203868.740334) * m**0.5*K**0.5/mol**0.5"
       ]
      }
     ],
     "prompt_number": 71
    },
    {
     "cell_type": "code",
     "collapsed": false,
     "input": [
      "T = 297 # 24 deg C\n",
      "res = debye_huckel_B(eps_water(T), T*pq.K, rho_water(T)*pq.kg/pq.metre**3, 1*pq.mol/pq.kg)\n",
      "res.rescale(1/pq.angstrom)"
     ],
     "language": "python",
     "metadata": {},
     "outputs": [
      {
       "metadata": {},
       "output_type": "pyout",
       "prompt_number": 40,
       "text": [
        "array(0.32829771828257964) * 1/angstrom"
       ]
      }
     ],
     "prompt_number": 40
    },
    {
     "cell_type": "code",
     "collapsed": false,
     "input": [
      "float(res.rescale(1/pq.angstrom))*T**0.5*eps_water(T)**0.5"
     ],
     "language": "python",
     "metadata": {},
     "outputs": [
      {
       "latex": [
        "$$50.2233076511$$"
       ],
       "metadata": {},
       "output_type": "pyout",
       "png": "[encoded data removed]",
       "prompt_number": 42,
       "text": [
        "50.2233076511"
       ]
      }
     ],
     "prompt_number": 42
    },
    {
     "cell_type": "code",
     "collapsed": false,
     "input": [
      "x, y = C_plot, np.array([\n",
      "    debye_huckel_B(eps_water(T), T*pq.K, rho_water(T)*pq.kg/pq.metre**3,\n",
      "                   1*pq.mole/pq.kg).rescale(1/pq.nm) for T in 273.15+C_plot])\n",
      "plt.plot(x, y)\n",
      "p = np.polyfit(x, y, 1)\n",
      "fmtstr = r'$B / nm^{{-1}} = {0:.2f} + T \\cdot {1:.2f} nm^{{-1}} ^{{\\circ}}C^{{-1}}$'\n",
      "fmtstr = r'$B / nm^-1 = {0:.2f} + T \\cdot {1:.2f} nm^-1 ^\\circC^-1$'\n",
      "fmtstr = r'$B / nm^{{-1}} = {0:.2f} + {1:.4f} \\cdot T /(^{{\\circ}}C)^{{-1}}$'\n",
      "plt.plot(x, np.polyval(p, x), '--', label=fmtstr.format(p[1], p[0]))\n",
      "plt.xlabel(r'$T$ / $^{\\circ}C$')\n",
      "plt.ylabel('$B / nm^{-1}$')\n",
      "plt.legend(loc='best')\n",
      "_ = plt.title('Temperature dependence of the Debye-Huckel constant B')"
     ],
     "language": "python",
     "metadata": {},
     "outputs": [
      {
       "metadata": {},
       "output_type": "display_data",
       "png": "[encoded data removed]",
       "text": [
        "<matplotlib.figure.Figure at 0x7fba13d0fa50>"
       ]
      }
     ],
     "prompt_number": 70
    },
    {
     "cell_type": "code",
     "collapsed": false,
     "input": [],
     "language": "python",
     "metadata": {},
     "outputs": [],
     "prompt_number": 20
    },
    {
     "cell_type": "code",
     "collapsed": false,
     "input": [],
     "language": "python",
     "metadata": {},
     "outputs": [],
     "prompt_number": 20
    },
    {
     "cell_type": "code",
     "collapsed": false,
     "input": [],
     "language": "python",
     "metadata": {},
     "outputs": [],
     "prompt_number": 20
    },
    {
     "cell_type": "code",
     "collapsed": false,
     "input": [],
     "language": "python",
     "metadata": {},
     "outputs": [],
     "prompt_number": 20
    },
    {
     "cell_type": "code",
     "collapsed": false,
     "input": [],
     "language": "python",
     "metadata": {},
     "outputs": [],
     "prompt_number": 20
    }
   ],
   "metadata": {}
  }
 ]
}