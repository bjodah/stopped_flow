{
 "cells": [
  {
   "cell_type": "code",
   "execution_count": null,
   "metadata": {
    "collapsed": false
   },
   "outputs": [],
   "source": [
    "from __future__ import division"
   ]
  },
  {
   "cell_type": "code",
   "execution_count": null,
   "metadata": {
    "collapsed": false
   },
   "outputs": [],
   "source": [
    "def rho_water(T=298.15, T0=None, units=None, a=None, just_return_a=False):\n",
    "    \"\"\"\n",
    "    Density of water (kg/m3) as function of temperature (K)\n",
    "    according to VSMOW model between 0 and 40 degree Celsius.\n",
    "    Fitted using Thiesen's equation.\n",
    "    \n",
    "    Parameters\n",
    "    ----------\n",
    "    T: float\n",
    "        Temperature (default: in Kelvin)\n",
    "    T0: float\n",
    "        Value of T for freezing point of water (default: 273.15)\n",
    "    units: object (optional)\n",
    "        object with attributes: Kelvin, meter, kilogram\n",
    "    a: array_like (optional)\n",
    "        5 parameters to the equation.\n",
    "    just_return_a: bool (optional, default: False)\n",
    "        Do not compute rho, just return the parameters ``a``.\n",
    "        \n",
    "    Returns\n",
    "    -------\n",
    "    Density of water (float if T is float and units is None)\n",
    "    \n",
    "    References\n",
    "    ----------\n",
    "    TANAKA M., GIRARD G., DAVIS R., PEUTO A. and BIGNELL N.,\n",
    "        \"Recommanded table for the density of water between 0 °C and 40 °C based on recent experimental reports\",\n",
    "        Metrologia, 2001, 38, 301-309. doi:10.1088/0026-1394/38/4/3\n",
    "    \"\"\"\n",
    "    if units is None:\n",
    "        K = 1\n",
    "        m = 1\n",
    "        kg = 1\n",
    "    else:\n",
    "        K = units.Kelvin\n",
    "        m = units.meter\n",
    "        kg = units.kilogram\n",
    "    m3 = m**3\n",
    "    if a is None:\n",
    "        a = (-3.983035*K,  # C\n",
    "            301.797*K, # C\n",
    "            522528.9*K*K, # C**2\n",
    "            69.34881*K, # C\n",
    "            999.974950*kg/m3) # kg / m**3\n",
    "    if just_return_a:\n",
    "        return a\n",
    "    if T0 is None:\n",
    "        T0 = 273.15*K # K\n",
    "    t = T - T0\n",
    "    return a[4]*(1-((t + a[0])**2*(t + a[1]))/(a[2]*(t + a[3])))"
   ]
  },
  {
   "cell_type": "code",
   "execution_count": null,
   "metadata": {
    "collapsed": false
   },
   "outputs": [],
   "source": [
    "# No dependencies outside standard library, sane defaults.\n",
    "rho_water()"
   ]
  },
  {
   "cell_type": "code",
   "execution_count": null,
   "metadata": {
    "collapsed": false
   },
   "outputs": [],
   "source": [
    "# It plays nice with SymPy\n",
    "import sympy\n",
    "a = sympy.symbols('a:5')\n",
    "T, T0 = sympy.symbols('T T0')\n",
    "rho_water(T, a=a, T0=T0)"
   ]
  },
  {
   "cell_type": "code",
   "execution_count": null,
   "metadata": {
    "collapsed": false
   },
   "outputs": [],
   "source": [
    "# ...which is useful if you want the equation in another language than Python\n",
    "print(\"C\")\n",
    "print(sympy.ccode(rho_water(T, a=rho_water(just_return_a=True), T0=T0)))\n",
    "print(\"\\nFortran\")\n",
    "print(sympy.fcode(rho_water(T, a=rho_water(just_return_a=True), T0=T0), source_format='free'))"
   ]
  },
  {
   "cell_type": "code",
   "execution_count": null,
   "metadata": {
    "collapsed": false
   },
   "outputs": [],
   "source": [
    "# It plays nice with quantities\n",
    "import quantities as pq\n",
    "rho_water(298.15*pq.K, units=pq), rho_water(just_return_a=True, units=pq)"
   ]
  },
  {
   "cell_type": "code",
   "execution_count": null,
   "metadata": {
    "collapsed": false
   },
   "outputs": [],
   "source": [
    "# It plays nice with NumPy\n",
    "import matplotlib.pyplot as plt\n",
    "import numpy as np\n",
    "C_plot = np.linspace(0, 40)\n",
    "plt.plot(C_plot, rho_water(C_plot+273.15))\n",
    "plt.xlabel('Temperature / $^\\circ C$')\n",
    "plt.ylabel('Density / $kg m^{-3}$')\n",
    "_ = plt.title(\"Density of water vs. temperature\")"
   ]
  },
  {
   "cell_type": "code",
   "execution_count": null,
   "metadata": {
    "collapsed": false
   },
   "outputs": [],
   "source": [
    "from math import log\n",
    "import quantities as pq"
   ]
  },
  {
   "cell_type": "code",
   "execution_count": null,
   "metadata": {
    "collapsed": false
   },
   "outputs": [],
   "source": [
    "def eps_water(T=298.15, P=1.0):\n",
    "    \"\"\"\n",
    "    Permitivity of water according to the parametrization by Bradley and Pitzer\n",
    "    (empirical parametrization)\n",
    "    \n",
    "    Parameters\n",
    "    ----------\n",
    "    T: float\n",
    "        Temperature in Kelvin\n",
    "    P: float\n",
    "        Pressure in bar\n",
    "        \n",
    "    References\n",
    "    ----------\n",
    "    - Bradley, D.J.; Pitzer, K.S. `Thermodynamics of electrolytes. 12. Dielectric\n",
    "        properties of water and Debye--Hueckel parameters to 350/sup 0/C and 1 kbar`,\n",
    "        J. Phys. Chem.; Journal Volume 83 (12) (1979), pp. 1599-1603\n",
    "        http://pubs.acs.org/doi/abs/10.1021/j100475a009\n",
    "        DOI: 10.1021/j100475a009\n",
    "    \"\"\"\n",
    "    from math import exp\n",
    "    from math import log as ln\n",
    "    U = [0,  3.4279e2, -5.0866e-3, 9.4690e-7, -2.0525, 3.1159e3, \n",
    "        -1.8289e2, -8.0325e3, 4.2142e6, 2.1417]\n",
    "    B  = U[7] + U[8]/T + U[9]*T\n",
    "    C  = U[4] + U[5]/(U[6]+T)\n",
    "    eps1000 = U[1]*exp(U[2]*T+U[3]*T**2)\n",
    "    return eps1000 + C*ln((B+P)/(B+1000.0))"
   ]
  },
  {
   "cell_type": "code",
   "execution_count": null,
   "metadata": {
    "collapsed": false
   },
   "outputs": [],
   "source": [
    "def debye_huckel_A(eps_r, T, rho, b0, constants=None, one=1):\n",
    "    \"\"\"\n",
    "    from Atkins\n",
    "    \n",
    "    Parameters\n",
    "    ----------\n",
    "    eps_r: float\n",
    "        relative permittivity\n",
    "    T: float with unit\n",
    "        temperature\n",
    "    rho: float with unit\n",
    "        density\n",
    "    b0: float with unit\n",
    "        reference molality\n",
    "    constants: object (optional)\n",
    "        \n",
    "    \"\"\"\n",
    "    if constants is None:\n",
    "        import quantities\n",
    "        constants = quantities.constants\n",
    "    F = constants.Faraday_constant\n",
    "    NA = constants.Avogadro_constant\n",
    "    eps0 = constants.vacuum_permittivity\n",
    "    kB = constants.Boltzmann_constant\n",
    "    pi = constants.pi\n",
    "    A = F**3/(4*pi*NA)*(rho*b0/(2*(eps0*eps_r*kB*NA*T)**3))**(one/2)\n",
    "    return A"
   ]
  },
  {
   "cell_type": "code",
   "execution_count": null,
   "metadata": {
    "collapsed": false
   },
   "outputs": [],
   "source": [
    "from sympy import init_printing; init_printing()\n",
    "from sympy import Symbol, symbols, S\n",
    "class Dummy:\n",
    "    pass\n",
    "consts = Dummy()\n",
    "consts.Faraday_constant = Symbol('F')\n",
    "consts.Avogadro_constant = Symbol('N_A')\n",
    "consts.vacuum_permittivity = Symbol('\\epsilon_0')\n",
    "consts.Boltzmann_constant = Symbol('k_B')\n",
    "consts.pi = Symbol('pi')\n",
    "debye_huckel_A(*symbols('epsilon_r T rho b^0'), constants=consts, one=S(1))"
   ]
  },
  {
   "cell_type": "code",
   "execution_count": null,
   "metadata": {
    "collapsed": false
   },
   "outputs": [],
   "source": [
    "debye_huckel_A(1, 1, 1, 1, constants=pq.constants).simplified"
   ]
  },
  {
   "cell_type": "code",
   "execution_count": null,
   "metadata": {
    "collapsed": false
   },
   "outputs": [],
   "source": [
    "T = 297 # 24 deg C\n",
    "res = debye_huckel_A(eps_water(T), T*pq.K, rho_water(T)*pq.kg/pq.metre**3, 1*pq.mole/pq.kg)\n",
    "res"
   ]
  },
  {
   "cell_type": "code",
   "execution_count": null,
   "metadata": {
    "collapsed": false
   },
   "outputs": [],
   "source": [
    "res.simplified"
   ]
  },
  {
   "cell_type": "code",
   "execution_count": null,
   "metadata": {
    "collapsed": false
   },
   "outputs": [],
   "source": [
    "res.simplified/log(10)"
   ]
  },
  {
   "cell_type": "code",
   "execution_count": null,
   "metadata": {
    "collapsed": false
   },
   "outputs": [],
   "source": [
    "import matplotlib.pyplot as plt\n",
    "%matplotlib inline\n",
    "import numpy as np\n",
    "C_plot = np.linspace(0, 40)\n",
    "plt.plot(C_plot, np.array([\n",
    "    debye_huckel_A(eps_water(T), T*pq.K, rho_water(T)*pq.kg/pq.metre**3,\n",
    "                   1*pq.mole/pq.kg).simplified for T in 273.15+C_plot])/log(10))\n",
    "plt.xlabel('Temperature / degC')\n",
    "plt.ylabel('A')\n",
    "_ = plt.title('Temperature dependence of the Debye-Huckel constant A')"
   ]
  },
  {
   "cell_type": "code",
   "execution_count": null,
   "metadata": {
    "collapsed": false
   },
   "outputs": [],
   "source": [
    "def debye_huckel_B(eps_r, T, rho, b0, constants=None, one=1):\n",
    "    \"\"\"\n",
    "    from Atkins\n",
    "    \n",
    "    Parameters\n",
    "    ----------\n",
    "    eps_r: float\n",
    "        relative permittivity\n",
    "    T: float with unit\n",
    "        temperature\n",
    "    rho: float with unit\n",
    "        density\n",
    "    b0: float with unit\n",
    "        reference molality\n",
    "    constants: object (optional)\n",
    "        attributes accessed: molar_gas_constant, Faraday_constant\n",
    "    \"\"\"\n",
    "    if constants is None:\n",
    "        import quantities\n",
    "        constants = quantities.constants\n",
    "    F = constants.Faraday_constant\n",
    "    eps0 = constants.vacuum_permittivity\n",
    "    R = constants.molar_gas_constant\n",
    "    B = F*(2*rho*b0/(eps_r*eps0*R*T))**(one/2)\n",
    "    return B"
   ]
  },
  {
   "cell_type": "code",
   "execution_count": null,
   "metadata": {
    "collapsed": false
   },
   "outputs": [],
   "source": [
    "consts.molar_gas_constant = Symbol('R')\n",
    "debye_huckel_B(*symbols('epsilon_r T rho b0'), constants=consts, one=S(1))"
   ]
  },
  {
   "cell_type": "code",
   "execution_count": null,
   "metadata": {
    "collapsed": false
   },
   "outputs": [],
   "source": [
    "debye_huckel_B(1, 1, 1, 1, constants=pq.constants).simplified"
   ]
  },
  {
   "cell_type": "code",
   "execution_count": null,
   "metadata": {
    "collapsed": false
   },
   "outputs": [],
   "source": [
    "T = 297 # 24 deg C\n",
    "res = debye_huckel_B(eps_water(T), T*pq.K, rho_water(T)*pq.kg/pq.metre**3, 1*pq.mol/pq.kg)\n",
    "res.rescale(1/pq.angstrom)"
   ]
  },
  {
   "cell_type": "code",
   "execution_count": null,
   "metadata": {
    "collapsed": false
   },
   "outputs": [],
   "source": [
    "float(res.rescale(1/pq.angstrom))*T**0.5*eps_water(T)**0.5"
   ]
  },
  {
   "cell_type": "code",
   "execution_count": null,
   "metadata": {
    "collapsed": false
   },
   "outputs": [],
   "source": [
    "x, y = C_plot, np.array([\n",
    "    debye_huckel_B(eps_water(T), T*pq.K, rho_water(T)*pq.kg/pq.metre**3,\n",
    "                   1*pq.mole/pq.kg).rescale(1/pq.nm) for T in 273.15+C_plot])\n",
    "plt.plot(x, y)\n",
    "p = np.polyfit(x, y, 1)\n",
    "fmtstr = r'$B / nm^{{-1}} = {0:.2f} + T \\cdot {1:.2f} nm^{{-1}} ^{{\\circ}}C^{{-1}}$'\n",
    "fmtstr = r'$B / nm^-1 = {0:.2f} + T \\cdot {1:.2f} nm^-1 ^\\circC^-1$'\n",
    "fmtstr = r'$B / nm^{{-1}} = {0:.2f} + {1:.4f} \\cdot T /(^{{\\circ}}C)^{{-1}}$'\n",
    "plt.plot(x, np.polyval(p, x), '--', label=fmtstr.format(p[1], p[0]))\n",
    "plt.xlabel(r'$T$ / $^{\\circ}C$')\n",
    "plt.ylabel('$B / nm^{-1}$')\n",
    "plt.legend(loc='best')\n",
    "_ = plt.title('Temperature dependence of the Debye-Huckel constant B')"
   ]
  }
 ],
 "metadata": {
  "kernelspec": {
   "display_name": "Python 2",
   "language": "python",
   "name": "python2"
  },
  "language_info": {
   "codemirror_mode": {
    "name": "ipython",
    "version": 2
   },
   "file_extension": ".py",
   "mimetype": "text/x-python",
   "name": "python",
   "nbconvert_exporter": "python",
   "pygments_lexer": "ipython2",
   "version": "2.7.6"
  }
 },
 "nbformat": 4,
 "nbformat_minor": 0
}
