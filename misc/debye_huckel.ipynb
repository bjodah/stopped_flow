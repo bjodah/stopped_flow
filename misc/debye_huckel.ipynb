{
 "metadata": {
  "name": ""
 },
 "nbformat": 3,
 "nbformat_minor": 0,
 "worksheets": [
  {
   "cells": [
    {
     "cell_type": "code",
     "collapsed": false,
     "input": [
      "from math import log\n",
      "import quantities as pq"
     ],
     "language": "python",
     "metadata": {},
     "outputs": [],
     "prompt_number": 24
    },
    {
     "cell_type": "code",
     "collapsed": false,
     "input": [
      "\n",
      "\n",
      "def debye_huckel_A(eps_r, T):\n",
      "    \"\"\"\n",
      "    from wikipedia, which messed up units when taking from Hamann and Hamnett\n",
      "    \n",
      "    Parameters\n",
      "    ----------\n",
      "    eps_r: float\n",
      "        relative permittivity\n",
      "    T: float with unit\n",
      "        temperature\n",
      "    \"\"\"\n",
      "    q = pq.constants.elementary_charge\n",
      "    NA = pq.constants.Avogadro_constant\n",
      "    eps0 = pq.constants.vacuum_permittivity\n",
      "    kB = pq.constants.Boltzmann_constant\n",
      "    A = q**3*NA**0.5/(4*2**0.5*(eps_r*eps0*kB*T)**(3./2))\n",
      "    return A\n",
      "\n",
      "def debye_huckel_A(eps_r, T, rho, b0):\n",
      "    \"\"\"\n",
      "    from Atkins\n",
      "    \n",
      "    Parameters\n",
      "    ----------\n",
      "    eps_r: float\n",
      "        relative permittivity\n",
      "    T: float with unit\n",
      "        temperature\n",
      "    rho: float with unit\n",
      "        density\n",
      "    b0: float with unit\n",
      "        reference molality\n",
      "    \"\"\"\n",
      "    F = pq.constants.Faraday_constant\n",
      "    NA = pq.constants.Avogadro_constant\n",
      "    eps0 = pq.constants.vacuum_permittivity\n",
      "    kB = pq.constants.Boltzmann_constant\n",
      "    pi = pq.pi\n",
      "    A = F**3/(4*pi*NA)*(rho*b0/(2*(eps0*eps_r*kB*NA*T)**3))**0.5\n",
      "    return A"
     ],
     "language": "python",
     "metadata": {},
     "outputs": [],
     "prompt_number": 25
    },
    {
     "cell_type": "code",
     "collapsed": false,
     "input": [
      "res = debye_huckel_A(80, 298.15*pq.K, 997.04*pq.kg/pq.metre**3, 1*pq.mole/pq.kg)\n",
      "res"
     ],
     "language": "python",
     "metadata": {},
     "outputs": [
      {
       "metadata": {},
       "output_type": "pyout",
       "prompt_number": 38,
       "text": [
        "array(4.8232994790945e-07) * F**3*mol**0.5/(epsilon_0**1.5*N_A**2.5*k**1.5*m**1.5*K**1.5)"
       ]
      }
     ],
     "prompt_number": 38
    },
    {
     "cell_type": "code",
     "collapsed": false,
     "input": [
      "res.simplified"
     ],
     "language": "python",
     "metadata": {},
     "outputs": [
      {
       "metadata": {},
       "output_type": "pyout",
       "prompt_number": 39,
       "text": [
        "array(1.1389432894707123) * dimensionless"
       ]
      }
     ],
     "prompt_number": 39
    },
    {
     "cell_type": "code",
     "collapsed": false,
     "input": [
      "res.simplified/log(10)"
     ],
     "language": "python",
     "metadata": {},
     "outputs": [
      {
       "metadata": {},
       "output_type": "pyout",
       "prompt_number": 40,
       "text": [
        "array(0.49463678581786835) * dimensionless"
       ]
      }
     ],
     "prompt_number": 40
    },
    {
     "cell_type": "code",
     "collapsed": false,
     "input": [],
     "language": "python",
     "metadata": {},
     "outputs": [],
     "prompt_number": 28
    },
    {
     "cell_type": "code",
     "collapsed": false,
     "input": [],
     "language": "python",
     "metadata": {},
     "outputs": []
    }
   ],
   "metadata": {}
  }
 ]
}