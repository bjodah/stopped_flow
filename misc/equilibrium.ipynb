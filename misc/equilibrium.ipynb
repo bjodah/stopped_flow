{
 "cells": [
  {
   "cell_type": "code",
   "execution_count": null,
   "metadata": {
    "collapsed": false
   },
   "outputs": [],
   "source": [
    "from __future__ import division\n",
    "import numpy as np\n",
    "import matplotlib.pyplot as plt\n",
    "%matplotlib inline"
   ]
  },
  {
   "cell_type": "code",
   "execution_count": null,
   "metadata": {
    "collapsed": false
   },
   "outputs": [],
   "source": [
    "def c_FeSCN2p(Y, Z, B1, I=None, z_rhs=(2,), z_lhs=(3,-1)):\n",
    "    if I is None:\n",
    "        I = Z + 6*Y\n",
    "    if I is not 0:\n",
    "        A = 0.509\n",
    "        z_factor = sum([z**2 for z in z_rhs] + [-z**2 for z in z_lhs])\n",
    "        B1 = B1 * 10**(A*z_factor*I**0.5)\n",
    "    c0 = (Y+Z+1.0/B1)\n",
    "    return c0/2 - (c0**2/4 - Y*Z)**0.5"
   ]
  },
  {
   "cell_type": "code",
   "execution_count": null,
   "metadata": {
    "collapsed": false
   },
   "outputs": [],
   "source": [
    "def plot(Z, I=None, excess=None):\n",
    "    if excess is None:\n",
    "        excess = np.linspace(1, 20)\n",
    "    Y = Z*excess\n",
    "    plt.plot(Y/Z, c_FeSCN2p(Y, Z, 10**2.016, I)/Z, label='Z = {} mM'.format(Z*1000))\n",
    "plot(1e-3, I=0)\n",
    "plot(2e-3, I=0)\n",
    "plot(4e-3, I=0)\n",
    "plt.title('Neglecting ionic strength')\n",
    "plt.xlabel('Y / Z')\n",
    "plt.ylabel('x / Z')\n",
    "_ = plt.legend(loc='best')"
   ]
  },
  {
   "cell_type": "code",
   "execution_count": null,
   "metadata": {
    "collapsed": false
   },
   "outputs": [],
   "source": [
    "plot(1e-3)\n",
    "plot(2e-3)\n",
    "plot(4e-3)\n",
    "plt.title('Debye-Huckel limiting law')\n",
    "plt.xlabel('Y / Z')\n",
    "plt.ylabel('x / Z')\n",
    "_ = plt.legend(loc='best')"
   ]
  },
  {
   "cell_type": "code",
   "execution_count": null,
   "metadata": {
    "collapsed": false
   },
   "outputs": [],
   "source": [
    "def rho_water(T=298.15):\n",
    "    \"\"\" VSMOW \"\"\"\n",
    "    T0 = 273.15 # K\n",
    "    a = (-3.983035,  # K\n",
    "        301.797, \n",
    "        522528.9, # K**2\n",
    "        69.34881, # K\n",
    "        999.974950) # kg / m**3\n",
    "    t = T - T0\n",
    "    return a[4]*(1-((t + a[0])**2*(t + a[1]))/(a[2]*(t + a[3])))"
   ]
  },
  {
   "cell_type": "code",
   "execution_count": null,
   "metadata": {
    "collapsed": false
   },
   "outputs": [],
   "source": [
    "abs(rho_water(273.15 + 0) - 999.8395) < 0.004\n",
    "abs(rho_water(273.15 + 4) - 999.9720) < 0.003\n",
    "abs(rho_water(273.15 + 10) - 999.7026) < 0.0003\n",
    "abs(rho_water(273.15 + 15) - 999.1026) < 0.0001\n",
    "abs(rho_water(273.15 + 20) - 998.2071) < 0.0005\n",
    "abs(rho_water(273.15 + 22) - 997.7735) < 0.0007\n",
    "abs(rho_water(273.15 + 25) - 997.0479) < 0.0009\n",
    "abs(rho_water(273.15 + 30) - 995.6502) < 0.0016\n",
    "abs(rho_water(273.15 + 40) - 992.2) < 0.02"
   ]
  },
  {
   "cell_type": "code",
   "execution_count": null,
   "metadata": {
    "collapsed": false
   },
   "outputs": [],
   "source": [
    "def eps_water(T=298.15, P=1.0):\n",
    "    \"\"\"\n",
    "    Permitivity of water according to the parametrization by Bradley and Pitzer\n",
    "    (empirical parametrization)\n",
    "    \n",
    "    Parameters\n",
    "    ----------\n",
    "    T: float\n",
    "        Temperature in Kelvin\n",
    "    P: float\n",
    "        Pressure in bar\n",
    "        \n",
    "    References\n",
    "    ----------\n",
    "    - Bradley, D.J.; Pitzer, K.S. `Thermodynamics of electrolytes. 12. Dielectric\n",
    "        properties of water and Debye--Hueckel parameters to 350/sup 0/C and 1 kbar`,\n",
    "        J. Phys. Chem.; Journal Volume 83 (12) (1979), pp. 1599-1603\n",
    "        http://pubs.acs.org/doi/abs/10.1021/j100475a009\n",
    "        DOI: 10.1021/j100475a009\n",
    "    \"\"\"\n",
    "    from math import exp\n",
    "    from math import log as ln\n",
    "    U = [0,  3.4279e2, -5.0866e-3, 9.4690e-7, -2.0525, 3.1159e3, \n",
    "        -1.8289e2, -8.0325e3, 4.2142e6, 2.1417]\n",
    "    B  = U[7] + U[8]/T + U[9]*T\n",
    "    C  = U[4] + U[5]/(U[6]+T)\n",
    "    eps1000 = U[1]*exp(U[2]*T+U[3]*T**2)\n",
    "    return eps1000 + C*ln((B+P)/(B+1000.0))"
   ]
  },
  {
   "cell_type": "code",
   "execution_count": null,
   "metadata": {
    "collapsed": false
   },
   "outputs": [],
   "source": [
    "eps_water(298.15)"
   ]
  },
  {
   "cell_type": "code",
   "execution_count": null,
   "metadata": {
    "collapsed": false
   },
   "outputs": [],
   "source": [
    "def dh_A(T, eps):\n",
    "    return 1.82e6*(eps*T)**(-3./2)\n",
    "\n",
    "def dhe_B(T, eps):\n",
    "    return 50.3*(eps*T)**(-1./2)\n",
    "\n",
    "def dhl_log10_gamma(I, z, A):\n",
    "    \"\"\" log10 of activity coefficient according to limiting law in Debye-Hückel theory \"\"\"\n",
    "    return -A*z**2*I**0.5\n",
    "\n",
    "def dhe_log10_gamma(I, z, a, A, B):\n",
    "    \"\"\" log10 of activity coefficient according to extended Debye-Hückel theory \"\"\"\n",
    "    return -A*z**2*I**0.5/(1+B*a*I**0.5)"
   ]
  },
  {
   "cell_type": "code",
   "execution_count": null,
   "metadata": {
    "collapsed": false
   },
   "outputs": [],
   "source": [
    "def dhl_activity_product(I, z_lhs, z_rhs, T, eps):\n",
    "    \"\"\" Debye-Huckel limiting law \"\"\"\n",
    "    A = dh_A(T, eps)\n",
    "    tot = 0\n",
    "    for z in z_lhs:\n",
    "        tot -= dhl_log10_gamma(I, z, A)\n",
    "    for z in z_rhs:\n",
    "        tot += dhl_log10_gamma(I, z, A)    \n",
    "    return 10**tot\n",
    "\n",
    "def dhe_activity_product(I, z_lhs, z_rhs, T, eps, a_lhs, a_rhs):\n",
    "    \"\"\" Debye-Huckel extended law \"\"\"\n",
    "    A = dh_A(T, eps)\n",
    "    B = dhe_B(T, eps)\n",
    "    tot = 0\n",
    "    for z, a in zip(z_lhs, a_lhs):\n",
    "        tot -= dhe_log10_gamma(I, z, a, A, B)\n",
    "    for z, a in zip(z_rhs, a_rhs):\n",
    "        tot += dhe_log10_gamma(I, z, a, A, B)    \n",
    "    return 10**tot"
   ]
  },
  {
   "cell_type": "code",
   "execution_count": null,
   "metadata": {
    "collapsed": false
   },
   "outputs": [],
   "source": [
    "a_Fe3p = 0.9  # nm\n",
    "a_SCNm = 0.35  # nm\n",
    "a_FeSCN2p = 0.6  # nm  - assumed same as Fe2+"
   ]
  },
  {
   "cell_type": "code",
   "execution_count": null,
   "metadata": {
    "collapsed": false
   },
   "outputs": [],
   "source": [
    "I = np.linspace(0, .05, 1000)\n",
    "plt.plot(I, dhl_activity_product(I, (3, -1), (2,), 298.15, eps=eps_water(298.15)), label='Limiting law')\n",
    "plt.plot(I, dhe_activity_product(I, (3, -1), (2,), 298.15, eps_water(298.15), \n",
    "         (a_Fe3p, a_SCNm), (a_FeSCN2p,)), label='Extended law')\n",
    "plt.title('Product of activity coefficients')\n",
    "plt.xlabel('I / $mol \\cdot kg^{-1}$')\n",
    "plt.ylabel(r'$\\frac{\\gamma_{FeSCN^{2+}}}{\\gamma_{Fe^{3+}}\\gamma_{SCN^-}}$', fontsize=30)\n",
    "#plt.ylabel('$\\frac{\\gamma}{\\gamma\\gamma}$')\n",
    "_ = plt.legend(loc='best')"
   ]
  },
  {
   "cell_type": "code",
   "execution_count": null,
   "metadata": {
    "collapsed": false
   },
   "outputs": [],
   "source": []
  },
  {
   "cell_type": "code",
   "execution_count": null,
   "metadata": {
    "collapsed": false
   },
   "outputs": [],
   "source": [
    "(a_Fe3p, a_SCNm), (a_FeSCN2p,)"
   ]
  },
  {
   "cell_type": "code",
   "execution_count": null,
   "metadata": {
    "collapsed": false
   },
   "outputs": [],
   "source": [
    "def ionic_strength(molalities, charges):\n",
    "    tot = 0\n",
    "    for b, z in zip(molalities, charges):\n",
    "        tot += b*z**2\n",
    "    return 0.5*tot"
   ]
  },
  {
   "cell_type": "code",
   "execution_count": null,
   "metadata": {
    "collapsed": false
   },
   "outputs": [],
   "source": [
    "def equilibrium_quotient(c_lhs, c_rhs):\n",
    "    tot = 1\n",
    "    for c in c_lhs:\n",
    "        tot /= c\n",
    "    for c in c_rhs:\n",
    "        tot *= c\n",
    "    return tot"
   ]
  },
  {
   "cell_type": "code",
   "execution_count": null,
   "metadata": {
    "collapsed": false
   },
   "outputs": [],
   "source": [
    "def equilibrium_residual(chi, K, stoich, c0, T, z=None, a=None, I0=0.0, rho=1.0,\n",
    "                         activity_product=None):\n",
    "    c = c0 + chi*stoich\n",
    "    c_lhs, c_rhs = [], []\n",
    "    if z is not None:\n",
    "        z_lhs, z_rhs = [], []\n",
    "    if a is not None:\n",
    "        a_lhs, a_rhs = [], []\n",
    "    for i, coeff in enumerate(stoich):\n",
    "        if coeff > 0:\n",
    "            c_rhs.append(c[i])\n",
    "            if z is not None:\n",
    "                z_rhs.append(z[i])\n",
    "            if a is not None:\n",
    "                a_rhs.append(a[i])\n",
    "        elif coeff < 0:\n",
    "            c_lhs.append(c[i])\n",
    "            if z is not None:\n",
    "                z_lhs.append(z[i])\n",
    "            if a is not None:\n",
    "                a_lhs.append(a[i])\n",
    "    Q = equilibrium_quotient(c_lhs, c_rhs)\n",
    "    if z is not None:\n",
    "        if activity_product is None:\n",
    "            args = ()\n",
    "            if a is None:\n",
    "                activity_product = dhl_activity_product\n",
    "            else:\n",
    "                activity_product = dhe_activity_product\n",
    "                args =  a_lhs, a_rhs\n",
    "        ap = activity_product(I0 + ionic_strength(c/rho, z),\n",
    "                     z_lhs, z_rhs, T, eps_water(T), *args)\n",
    "        Q *= ap\n",
    "    return K - Q"
   ]
  },
  {
   "cell_type": "code",
   "execution_count": null,
   "metadata": {
    "collapsed": false
   },
   "outputs": [],
   "source": [
    "K = 10**2.016\n",
    "stoich = (1, -1, -1)  # FeSCN2+, Fe3+, SCN-\n",
    "z = (2, 3, -1)\n",
    "a = (a_FeSCN2p, a_Fe3p, a_SCNm)\n",
    "c0 = (0.0, 4e-3, 2e-3)\n",
    "T = 298.15"
   ]
  },
  {
   "cell_type": "code",
   "execution_count": null,
   "metadata": {
    "collapsed": false
   },
   "outputs": [],
   "source": [
    "chi = np.linspace(0, 1.5e-3, 20)\n",
    "plt.plot(chi, [equilibrium_residual(x, K, np.array(stoich), np.array(c0), T, z, a) for x in chi], label='DHE')\n",
    "plt.plot(chi, [equilibrium_residual(x, K, np.array(stoich), np.array(c0), T, z, None) for x in chi], label='DHL')\n",
    "plt.plot(chi, [equilibrium_residual(x, K, np.array(stoich), np.array(c0), T, None, None) for x in chi], label='None')\n",
    "_ = plt.legend(loc='best')"
   ]
  },
  {
   "cell_type": "code",
   "execution_count": null,
   "metadata": {
    "collapsed": false
   },
   "outputs": [],
   "source": [
    "def get_chi_interval(stoich, c0):\n",
    "    limits = c0/stoich\n",
    "    if np.any(limits < 0):\n",
    "        upper = -np.max(limits[np.argwhere(limits < 0)])\n",
    "    else:\n",
    "        upper = 0\n",
    "        \n",
    "    if np.any(limits > 0):\n",
    "        lower = -np.min(limits[np.argwhere(limits > 0)])\n",
    "    else:\n",
    "        lower = 0\n",
    "        \n",
    "    if lower is 0 and upper is 0:\n",
    "        raise ValueError(\"0-interval\")\n",
    "    else:\n",
    "        return lower, upper"
   ]
  },
  {
   "cell_type": "code",
   "execution_count": null,
   "metadata": {
    "collapsed": false
   },
   "outputs": [],
   "source": [
    "get_chi_interval(np.array(stoich), np.array(c0))"
   ]
  },
  {
   "cell_type": "code",
   "execution_count": null,
   "metadata": {
    "collapsed": false
   },
   "outputs": [],
   "source": [
    "from scipy.optimize import brentq\n",
    "\n",
    "def solve_equilibrium(K, stoich, c0, T, z=None, a=None, I0=0.0, delta=1e-16):\n",
    "    lower, upper = get_chi_interval(np.array(stoich), np.array(c0))\n",
    "    chi = brentq(equilibrium_residual, lower+delta, upper-delta, (K, np.array(stoich), np.array(c0), T, z, a, I0))\n",
    "    return np.array(c0) + chi*np.array(stoich)"
   ]
  },
  {
   "cell_type": "code",
   "execution_count": null,
   "metadata": {
    "collapsed": false
   },
   "outputs": [],
   "source": [
    "c0 = (0, 4e-3, 2e-3)\n",
    "c0"
   ]
  },
  {
   "cell_type": "code",
   "execution_count": null,
   "metadata": {
    "collapsed": false
   },
   "outputs": [],
   "source": [
    "solve_equilibrium(K, np.array(stoich), np.array(c0), T, z, a)"
   ]
  },
  {
   "cell_type": "code",
   "execution_count": null,
   "metadata": {
    "collapsed": false
   },
   "outputs": [],
   "source": [
    "def yield_vs_excess(excess, scn0, T, z=None, a=None, I0=0.0):\n",
    "    c = []\n",
    "    for e in excess:\n",
    "        c0 = (0, e*scn0, scn0)\n",
    "        c.append(solve_equilibrium(K, stoich, c0, T, z, a, I0=I0))\n",
    "    c = np.array(c)\n",
    "    return c[:, 0]/scn0\n",
    "\n",
    "excess = np.linspace(1, 20)\n",
    "scn0 = 2e-3\n",
    "I0 = 10e-3\n",
    "\n",
    "plt.plot(excess, yield_vs_excess(excess, scn0, T, z, a, I0), label='Extended Debye-Huckel')\n",
    "plt.plot(excess, yield_vs_excess(excess, scn0, T, z, None, I0), label='Debye-Huckel liminting law')\n",
    "plt.plot(excess, yield_vs_excess(excess, scn0, T, None, None, I0), label='None')\n",
    "plt.legend(loc='best')\n",
    "plt.xlabel('$\\\\frac{[Fe^{3+}]_0}{[SCN^-]_0}$', fontsize=25)\n",
    "plt.ylabel('$\\\\frac{[FeSCN^{2+}]}{[SCN^-]_0}$', fontsize=25)\n",
    "_ = plt.title('Ionic strength treatments ($[SCN^-]_0$ = {} mM)'.format(scn0*1000))"
   ]
  },
  {
   "cell_type": "markdown",
   "metadata": {},
   "source": [
    "We need $\\Delta H$ and $\\Delta S$ (or just $\\Delta G$) for our complex formation\n",
    "reaction. There is some data available from:\n",
    "    [M. W. Lister and D. E. Rivington: SOME MEASUREMENTS ON THE IRON (111)–THIOCYANATE SYSTEM IN AQUEOUS SOLUTION\n",
    "    *Canadian Journal of Chemistry*, 1955, 33(10): 1572-1590](dx.doi.org/10.1139/v55-192)"
   ]
  },
  {
   "cell_type": "code",
   "execution_count": null,
   "metadata": {
    "collapsed": false
   },
   "outputs": [],
   "source": [
    "# Lister & Rivington 1955 p. 1587\n",
    "T_lister = 273.15 + np.array([5, 25, 45])\n",
    "K_lister = np.array([1090, 1070, 1100])  # Corrected for ionic strength\n",
    "plt.plot(1/T_lister, np.log(K_lister), label='Lister & Rivington 1955')"
   ]
  },
  {
   "cell_type": "markdown",
   "metadata": {},
   "source": [
    "The details of the ionic strength correction is a bit vague in the article. Let's see if we can apply the extended Debye Huckel equation:"
   ]
  },
  {
   "cell_type": "code",
   "execution_count": null,
   "metadata": {
    "collapsed": false
   },
   "outputs": [],
   "source": [
    "# Lister & Rivington p. 1586\n",
    "R = 8.314511\n",
    "Tdata = 273.15 + np.array([5, 10, 15, 20, 25, 30, 35, 40, 45])\n",
    "Kobs = np.array([155.0, 147, 139, 134, 130, 126, 122, 119, 118])  # not corrected for ionic strength\n",
    "I_lister = 1.2\n",
    "Ktrue = []\n",
    "\n",
    "for idx, temp in enumerate(Tdata):\n",
    "    Ktrue.append(Kobs[idx] / dhe_activity_product(I_lister, (3, -1), (2,), temp, eps_water(temp), (a_Fe3p, a_SCNm), (a_FeSCN2p,)))\n",
    "\n",
    "plt.figure(figsize=(18,5))\n",
    "for idx, (title, Kvals) in enumerate(zip(['Uncorrected', 'Corrected'], [Kobs, Ktrue])):\n",
    "    plt.subplot(1, 2, idx+1)\n",
    "    p, cov = np.polyfit(1/Tdata, np.log(Kvals), 1, cov=True)\n",
    "    deltaH, deltaS = p[0]*-R, p[1]*R\n",
    "    deltaHs = cov[0, 0]**0.5 * R\n",
    "    deltaSs = cov[1, 1]**0.5 * R\n",
    "    plt.plot(1/Tdata, np.log(Kvals), 'o')\n",
    "    fmtstr = ('$\\Delta H$ = {0:.1f} $\\pm$ {1:.1f} kJ/mol, '\n",
    "              '$\\Delta S$ = {2:.1f} $\\pm$ {3:.1f} J/(K mol)')\n",
    "    lbl = fmtstr.format(1e-3*deltaH, 1e-3*deltaHs, deltaS, deltaSs)\n",
    "    plt.plot(1/Tdata, np.polyval(p, 1/Tdata), label=lbl)\n",
    "    plt.ylabel('ln(K / $M^{-1}$)', fontsize=14)\n",
    "    plt.xlabel('$T^{-1}$ / $K^{-1}$', fontsize=14)\n",
    "    plt.legend(loc='best')\n",
    "    plt.title(title)\n",
    "print('DeltaG = {} +/- {} kJ/mol'.format(1e-3*(deltaH - 298.15*deltaS), \n",
    "                                         1e-3*(deltaHs**2 + (298.15*deltaSs)**2)**0.5))"
   ]
  },
  {
   "cell_type": "markdown",
   "metadata": {},
   "source": [
    "The obtained value agrees reasonalby well with $\\Delta H = -4.42 \\pm 0.52$ kJ/mol reported by [J.O. Hill and S. Korce, A thermometric titrimetry study of Fe3+/SCN− and Ag+/SCN− systems, Thermochimica Acta, 154 (1989) 49-55.](http://dx.doi.org/10.1016/0040-6031%2889%2987117-5)"
   ]
  },
  {
   "cell_type": "code",
   "execution_count": null,
   "metadata": {
    "collapsed": false
   },
   "outputs": [],
   "source": [
    "from math import exp\n",
    "def yield_vs_T(temperatures, c0, deltaH, deltaS, z=None, a=None, I0=0.0):\n",
    "    c = []\n",
    "    R = 8.314511\n",
    "    for T in temperatures:\n",
    "        K = exp(deltaS/R - deltaH/(R*T))\n",
    "        c.append(solve_equilibrium(K, stoich, c0, T, z, a, I0=I0))\n",
    "    c = np.array(c)\n",
    "    return c[:, 0]/c0[2]\n",
    "\n",
    "Tplot = 273.15 + np.linspace(15, 30)\n",
    "cplot = (0.0, 20e-3, 2e-3)\n",
    "Iplot = 50e-3\n",
    "\n",
    "plt.plot(Tplot, yield_vs_T(Tplot, cplot, deltaH, deltaS, z, a, Iplot), label='Extended Debye-Huckel')\n",
    "plt.plot(Tplot, yield_vs_T(Tplot, cplot, deltaH, deltaS, z, None, Iplot), label='Debye-Huckel liminting law')\n",
    "plt.plot(Tplot, yield_vs_T(Tplot, cplot, deltaH, deltaS, None, None, Iplot), label='None')\n",
    "plt.legend(loc='best')\n",
    "plt.xlabel('T / K', fontsize=14)\n",
    "plt.ylabel('$\\\\frac{[FeSCN^{2+}]}{[SCN^-]_0}$', fontsize=25)\n",
    "fmtstr = '$[SCN^-]_0$ = {} mM, $[Fe^{{3+}}]_0$ = {} mM'\n",
    "_ = plt.title(fmtstr.format(c0[2]*1000, c0[1]*1000))\n"
   ]
  }
 ],
 "metadata": {
  "kernelspec": {
   "display_name": "Python 2",
   "language": "python",
   "name": "python2"
  },
  "language_info": {
   "codemirror_mode": {
    "name": "ipython",
    "version": 2
   },
   "file_extension": ".py",
   "mimetype": "text/x-python",
   "name": "python",
   "nbconvert_exporter": "python",
   "pygments_lexer": "ipython2",
   "version": "2.7.6"
  }
 },
 "nbformat": 4,
 "nbformat_minor": 0
}
