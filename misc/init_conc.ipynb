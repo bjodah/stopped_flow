{
 "cells": [
  {
   "cell_type": "code",
   "execution_count": null,
   "metadata": {},
   "outputs": [],
   "source": [
    "from collections import defaultdict\n",
    "import numpy as np\n",
    "from chempy import Equilibrium, Species\n",
    "from chempy.equilibria import EqSystem, NumSysLin\n",
    "from pyneqsys.symbolic import SymbolicSys\n",
    "import matplotlib.pyplot as plt\n",
    "%matplotlib inline"
   ]
  },
  {
   "cell_type": "code",
   "execution_count": null,
   "metadata": {},
   "outputs": [],
   "source": [
    "eqw = Equilibrium({'H2O': 1}, {'OH-': 1, 'H+': 1}, 1e-14)\n",
    "eq_FeOH = Equilibrium({'Fe+3': 1, 'H2O': 1}, {'FeOH+2': 1, 'H+': 1}, 10**-2.4) #10**-2.774)\n",
    "eq_Fe2OH2 = Equilibrium({'Fe+3': 2, 'H2O': 2}, {'Fe2(OH)2+4': 1, 'H+': 2}, 10**-2.9) #10**-2.81)\n",
    "eq_FeSCN1 = Equilibrium({'Fe+3': 1, 'SCN-': 1}, {'FeSCN+2': 1}, 10**2.065)\n",
    "eq_FeSCN2 = Equilibrium({'Fe+3': 1, 'SCN-': 2}, {'Fe(SCN)2+': 1}, 10**3.34)\n",
    "eq_FeSCN3 = Equilibrium({'Fe+3': 1, 'SCN-': 3}, {'Fe(SCN)3': 1}, 10**3.82)\n",
    "\n",
    "eqsys = EqSystem([eqw, eq_FeOH, eq_Fe2OH2, eq_FeSCN1, eq_FeSCN2, eq_FeSCN3],\n",
    "                 'Fe+3 H2O FeOH+2 H+ Fe2(OH)2+4 OH- SCN- FeSCN+2 Fe(SCN)2+ Fe(SCN)3',\n",
    "                 substance_factory=Species.from_formula)\n",
    "c0 = defaultdict(float, {'H+': 0.05, 'Fe+3': 1e-3, 'H2O': 1, 'SCN-': .5e-3})"
   ]
  },
  {
   "cell_type": "code",
   "execution_count": null,
   "metadata": {},
   "outputs": [],
   "source": [
    "numsys = NumSysLin(eqsys)\n",
    "neqsys = SymbolicSys.from_callback(numsys.f, eqsys.ns, nparams=eqsys.ns + eqsys.nr)\n",
    "neqsys.exprs"
   ]
  },
  {
   "cell_type": "code",
   "execution_count": null,
   "metadata": {},
   "outputs": [],
   "source": [
    "x, info, sane = eqsys.root(c0)\n",
    "assert sane\n",
    "eqsys.as_per_substance_dict(x)"
   ]
  },
  {
   "cell_type": "code",
   "execution_count": null,
   "metadata": {},
   "outputs": [],
   "source": [
    "plt.figure(figsize=(16, 8))\n",
    "Cout, info, sanity = eqsys.roots(c0, np.logspace(-4, -1), 'SCN-', plot_kwargs={\n",
    "        'substances': 'Fe+3 FeOH+2 H+ Fe2(OH)2+4 FeSCN+2 Fe(SCN)2+ Fe(SCN)3 SCN-'.split()})\n",
    "#plt.gca().set_xscale('linear')"
   ]
  },
  {
   "cell_type": "code",
   "execution_count": null,
   "metadata": {},
   "outputs": [],
   "source": [
    "SCNtot = (Cout[:, eqsys.as_substance_index('SCN-')] + Cout[:, eqsys.as_substance_index('FeSCN+2')] +\n",
    "          2*Cout[:, eqsys.as_substance_index('Fe(SCN)2+')] + 3*Cout[:, eqsys.as_substance_index('Fe(SCN)3')])"
   ]
  },
  {
   "cell_type": "code",
   "execution_count": null,
   "metadata": {},
   "outputs": [],
   "source": [
    "sol_prod = Cout[:, eqsys.as_substance_index('Fe+3')]*Cout[:, eqsys.as_substance_index('H+')]**-3\n",
    "plt.loglog(SCNtot, sol_prod)\n",
    "gamma_prod = 10\n",
    "plt.loglog(SCNtot[[0, -1]], [gamma_prod*0.4]*2)"
   ]
  },
  {
   "cell_type": "code",
   "execution_count": null,
   "metadata": {},
   "outputs": [],
   "source": [
    "FeSCN_2_and_3 = Cout[:, eqsys.as_substance_index('Fe(SCN)2+')] + Cout[:, eqsys.as_substance_index('Fe(SCN)3')]\n",
    "plt.figure(figsize=(16, 6))\n",
    "plt.subplot(1, 2, 1)\n",
    "plt.plot(SCNtot, Cout[:, 7]*5148)\n",
    "plt.xlabel('[SCN^-]_tot')\n",
    "plt.ylabel('Absorbance')\n",
    "plt.subplot(1, 2, 2)\n",
    "plt.plot(SCNtot, FeSCN_2_and_3/(Cout[:, 7]+FeSCN_2_and_3))"
   ]
  }
 ],
 "metadata": {
  "kernelspec": {
   "display_name": "Python 3",
   "language": "python",
   "name": "python3"
  },
  "language_info": {
   "codemirror_mode": {
    "name": "ipython",
    "version": 3
   },
   "file_extension": ".py",
   "mimetype": "text/x-python",
   "name": "python",
   "nbconvert_exporter": "python",
   "pygments_lexer": "ipython3",
   "version": "3.5.2"
  }
 },
 "nbformat": 4,
 "nbformat_minor": 0
}
