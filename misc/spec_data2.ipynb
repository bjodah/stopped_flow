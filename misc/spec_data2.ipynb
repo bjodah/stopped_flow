{
 "cells": [
  {
   "cell_type": "markdown",
   "metadata": {
    "deletable": true,
    "editable": true
   },
   "source": [
    "# Exempel på analys av data från laboration\n",
    "Notera att detta exempel är mer omfattande än vad som begärs i laborationen.\n",
    "\n",
    "Reaktantlösningar:\n",
    "\n",
    "I)\n",
    "3 mM KSCN\n",
    "33 mM NaClO4\n",
    "50 mM HClO4\n",
    "\n",
    "II)\n",
    "6 mM Fe(ClO4)3\n",
    "50 mM HClO4\n",
    "\n",
    "a, b, c, d:\n",
    "+0, +20, +40, +60 mM NaClO4 till båda lösningarna"
   ]
  },
  {
   "cell_type": "code",
   "execution_count": null,
   "metadata": {},
   "outputs": [],
   "source": [
    "from __future__ import division\n",
    "import os\n",
    "import collections\n",
    "\n",
    "import matplotlib.pyplot as plt\n",
    "import numpy as np\n",
    "from scipy.optimize import curve_fit\n",
    "import sympy\n",
    "from IPython.display import display\n",
    "\n",
    "from aqchem.kinetics.integrated import pseudo_irrev, pseudo_rev, binary_irrev, binary_rev\n",
    "\n",
    "sympy.init_printing()\n",
    "%matplotlib inline"
   ]
  },
  {
   "cell_type": "markdown",
   "metadata": {
    "deletable": true,
    "editable": true
   },
   "source": [
    "Följande information är från labbpek och våra uppmäta data från labb:"
   ]
  },
  {
   "cell_type": "code",
   "execution_count": null,
   "metadata": {},
   "outputs": [],
   "source": [
    "deciCs = 165, 185, 205, 225, 245  #  * degC/10\n",
    "ntemps = len(deciCs)\n",
    "tempKs = 0.1*np.array(deciCs) + 273.15  # * K\n",
    "Itoks = b'abcd'\n",
    "ntoks = len(Itoks)\n",
    "limiting_C = 3e-3/2  # * M, faktor 2 spädning vid blanding\n",
    "excess_C = 6e-3/2    # *M , faktor 2 spädning vid blanding\n",
    "Ibase = 86e-3        # *M,  jonstyrka\n",
    "beta = 10**2.065     # stabilitetskonstant\n",
    "eps_l = 5148         # extinktionskoefficient * kyvettlängd\n",
    "nreplicates = 7      # antal replikat\n",
    "nfuncs = 4           # antal funktionsuttryck\n",
    "nparams = 3          # antal parameterar: kf, P0, t0\n",
    "ionic_strengths = Ibase + 1e-3*np.array([0, 20, 40, 60])"
   ]
  },
  {
   "cell_type": "markdown",
   "metadata": {
    "deletable": true,
    "editable": true
   },
   "source": [
    "Analytiska uttryck är redan fördefinierade:"
   ]
  },
  {
   "cell_type": "code",
   "execution_count": null,
   "metadata": {},
   "outputs": [],
   "source": [
    "def partial(fun, *args, **kwargs):\n",
    "    \"\"\" functools.partial does not seem to preserve name attribute \"\"\"\n",
    "    from functools import partial as _partial\n",
    "    f = _partial(fun, *args, **kwargs)\n",
    "    f.name = fun.name\n",
    "    return f\n",
    "\n",
    "funcs = collections.OrderedDict([\n",
    "    ('pseudo_irrev', partial(pseudo_irrev, excess_C=excess_C, limiting_C=limiting_C, eps_l=eps_l)),\n",
    "    ('pseudo_rev', partial(pseudo_rev, excess_C=excess_C, limiting_C=limiting_C, eps_l=eps_l, beta=beta)),\n",
    "    ('binary_irrev', partial(binary_irrev, excess_C=excess_C, limiting_C=limiting_C, eps_l=eps_l)),\n",
    "    ('binary_rev', partial(binary_rev, excess_C=excess_C, limiting_C=limiting_C, eps_l=eps_l, beta=beta))\n",
    "])\n",
    "t, kf, P0, t0, excess_C, limiting_C, eps_l, beta = sympy.symbols(\n",
    "    't k_f P0 t0 Y Z epsilon beta', positive=True)\n",
    "for func in (pseudo_irrev, pseudo_rev, binary_irrev, binary_rev):\n",
    "    args = t, kf, P0, t0, excess_C, limiting_C, eps_l\n",
    "    kwargs = {'exp': sympy.exp}\n",
    "    if func in (pseudo_rev, binary_rev):\n",
    "        args += (beta,)\n",
    "    if func is binary_rev:\n",
    "        kwargs['one'] = sympy.S(1)\n",
    "    print(func.name)\n",
    "    display(sympy.Eq(sympy.Function('x')(t), func(*args, **kwargs)))"
   ]
  },
  {
   "cell_type": "code",
   "execution_count": null,
   "metadata": {},
   "outputs": [],
   "source": [
    "help(pseudo_irrev)  # notera ordningen: kf, P0, t0  => popt[0], popt[1], popt[2]"
   ]
  },
  {
   "cell_type": "markdown",
   "metadata": {
    "deletable": true,
    "editable": true
   },
   "source": [
    "Rådata från experimenten ligger som textfiler"
   ]
  },
  {
   "cell_type": "code",
   "execution_count": null,
   "metadata": {},
   "outputs": [],
   "source": [
    "!echo \"$ ls spec_data2/*\"\n",
    "!ls spec_data2/*\n",
    "!echo \"\\n\\n$ ls spec_data2/a/16.5\"\n",
    "!ls spec_data2/a/16.5\n",
    "!echo \"\\n\\n$ head -n 2 spec_data2/a/16.5/1.txt\"\n",
    "!head -n 2 spec_data2/a/16.5/1.txt"
   ]
  },
  {
   "cell_type": "markdown",
   "metadata": {
    "deletable": true,
    "editable": true
   },
   "source": [
    "Kommatecken behöver konverteras till punkter (svensk vs. engelsk notation)"
   ]
  },
  {
   "cell_type": "code",
   "execution_count": null,
   "metadata": {},
   "outputs": [],
   "source": [
    "data = {}  # data files are of different lenght, hence not possible to put in one array\n",
    "def commadecimal2float(s):\n",
    "    return float(s.replace(',', '.'))\n",
    "for Itok in Itoks:\n",
    "    for deciC in deciCs:\n",
    "        for idx in range(nreplicates):\n",
    "            arr = np.loadtxt(\n",
    "                os.path.join('spec_data2', Itok, str(deciC//10) + '.' + str(deciC % 10) + '/' + str(idx+1) + '.txt'),\n",
    "                converters=dict(zip(range(2), [commadecimal2float]*2)))\n",
    "            arr[:, 0] *= 1e-3  # ms -> s\n",
    "            data[Itok, deciC, idx] = arr\n",
    "len(data.keys())\n",
    "data['a', 165, 0].shape, data['a', 165, 0].dtype, data['a', 165, 0][-1, :]"
   ]
  },
  {
   "cell_type": "markdown",
   "metadata": {
    "deletable": true,
    "editable": true
   },
   "source": [
    "Vi genomför ni ickelinjär kurvanpassning på var och en av data filerna med de 4 funktions uttrycken\n",
    "Opimerade parametrar hamnar i ``all_popt`` och uppskattade kovariansmatriser i ``all_pcov``."
   ]
  },
  {
   "cell_type": "code",
   "execution_count": null,
   "metadata": {},
   "outputs": [],
   "source": [
    "all_popt = np.empty((ntoks, ntemps, nfuncs, nreplicates, nparams))\n",
    "all_pcov = np.empty((ntoks, ntemps, nfuncs, nreplicates, nparams, nparams))\n",
    "fitparams = collections.defaultdict(dict)\n",
    "for idxI, Itok in enumerate(Itoks):\n",
    "    for idxT, deciC in enumerate(deciCs):\n",
    "        for idxR in range(nreplicates):\n",
    "            arr = data[Itok, deciC, idxR]\n",
    "            for idxF, func in enumerate(funcs.values()):\n",
    "                popt, pcov = curve_fit(func, arr[:, 0], arr[:, 1], [250, 0.1, -0.05])\n",
    "                all_popt[idxI, idxT, idxF, idxR, :] = popt\n",
    "                all_pcov[idxI, idxT, idxF, idxR, :, :] = pcov"
   ]
  },
  {
   "cell_type": "code",
   "execution_count": null,
   "metadata": {},
   "outputs": [],
   "source": [
    "def plot_conditions(idxT, idxI, funckey, colors='k'):\n",
    "    deciC = deciCs[idxT]\n",
    "    Itok = Itoks[idxI]\n",
    "    plt.title(\"{} {}\".format(deciC, Itok))\n",
    "    for idxR in range(nreplicates):\n",
    "        c = colors[idxR % len(colors)]\n",
    "        tpl = Itok, deciC, idxR\n",
    "        arr = data[tpl]\n",
    "        plt.plot(arr[:, 0], arr[:, 1], alpha=0.3, c=c)\n",
    "        \n",
    "        popt = all_popt[idxI, idxT, funcs.keys().index(funckey), idxR, :]\n",
    "        pcov = all_pcov[idxI, idxT, funcs.keys().index(funckey), idxR, :, :]\n",
    "        fmtstr = '$k_f = {0:.1f} \\pm {1:.1f}$ $M^{{-1}} s^{{-1}}$'\n",
    "        lbl = fmtstr.format(popt[0], pcov[0, 0]**0.5)\n",
    "        plt.plot(arr[:, 0], funcs[funckey](arr[:, 0], *popt), alpha=0.6, label=lbl, c=c)\n",
    "        \n",
    "    plt.legend(loc='best')\n",
    "    plt.ylim((0, 0.40))\n",
    "    \n",
    "def plot_fits(funckey):\n",
    "    plt.figure(figsize=(20,25))\n",
    "    for idxT, deciC in enumerate(deciCs):\n",
    "        for idxI, Itok in enumerate(Itoks):\n",
    "            plt.subplot(5, 4, 4*idxT + idxI + 1)\n",
    "            plot_conditions(idxT, idxI, funckey)"
   ]
  },
  {
   "cell_type": "markdown",
   "metadata": {
    "deletable": true,
    "editable": true
   },
   "source": [
    "För lägst temperatur och lägst jonstyrka ser våra passningar ut enligt nedan:"
   ]
  },
  {
   "cell_type": "code",
   "execution_count": null,
   "metadata": {},
   "outputs": [],
   "source": [
    "plt.figure(figsize=(18,18))\n",
    "for idx in range(nfuncs):\n",
    "    plt.subplot(2, 2, idx+1)\n",
    "    funckey = funcs.keys()[idx]\n",
    "    plot_conditions(0, 0, funckey, 'rgbcmyk')\n",
    "    plt.title(funckey)"
   ]
  },
  {
   "cell_type": "markdown",
   "metadata": {
    "deletable": true,
    "editable": true
   },
   "source": [
    "Nu plottar vi alla data för de pseudo första och andra ordningens reaktion (irreversibelt fall, reversibilitet ändrar inte funktionsformen, endast tolkningen av parametrarna)"
   ]
  },
  {
   "cell_type": "code",
   "execution_count": null,
   "metadata": {},
   "outputs": [],
   "source": [
    "plot_fits('pseudo_irrev')"
   ]
  },
  {
   "cell_type": "code",
   "execution_count": null,
   "metadata": {},
   "outputs": [],
   "source": [
    "#plot_fits('pseudo_rev')"
   ]
  },
  {
   "cell_type": "code",
   "execution_count": null,
   "metadata": {},
   "outputs": [],
   "source": [
    "plot_fits('binary_irrev')"
   ]
  },
  {
   "cell_type": "code",
   "execution_count": null,
   "metadata": {},
   "outputs": [],
   "source": [
    "#plot_fits('binary_rev')"
   ]
  },
  {
   "cell_type": "markdown",
   "metadata": {
    "deletable": true,
    "editable": true
   },
   "source": [
    "Vi har nu optimerade parametrar (med respektive kovariansmatriser) för alla enskila försök. Nu pool:ar vi dessa och analyserar dem statistiskt."
   ]
  },
  {
   "cell_type": "code",
   "execution_count": null,
   "metadata": {},
   "outputs": [],
   "source": [
    "# jonstyrka, temperatur, uttryck, parameter, [medel/varians]\n",
    "pooled_fits = np.empty((ntoks, ntemps, nfuncs, nparams, 2))\n",
    "rel_err_k = collections.defaultdict(float)\n",
    "for idxT, deciC in enumerate(deciCs):\n",
    "    for idxI, Itok in enumerate(Itoks):\n",
    "        for idxF, funckey in enumerate(funcs):\n",
    "            weighted_sum = np.zeros(nparams)\n",
    "            sum_of_weights = np.zeros(nparams)\n",
    "            for idxR in range(nreplicates):\n",
    "                popt = all_popt[idxI, idxT, idxF, idxR, :]\n",
    "                pcov = all_pcov[idxI, idxT, idxF, idxR, :, :]\n",
    "                for idxP in range(nparams):\n",
    "                    weighted_sum[idxP] += popt[idxP]/pcov[idxP, idxP]\n",
    "                    sum_of_weights[idxP] += 1/pcov[idxP, idxP]\n",
    "            mean = weighted_sum/sum_of_weights\n",
    "            var = np.zeros(nparams)\n",
    "            for idx in range(nreplicates):\n",
    "                popt = all_popt[idxI, idxT, idxF, idxR, :]\n",
    "                pcov = all_pcov[idxI, idxT, idxF, idxR, :, :]\n",
    "                for idxP in range(nparams):\n",
    "                    var += (mean[idxP] - popt[idxP])**2/pcov[idxP, idxP]\n",
    "            var /= (nreplicates-1)*sum_of_weights\n",
    "            pooled_fits[idxI, idxT, idxF, :, 0] = mean\n",
    "            pooled_fits[idxI, idxT, idxF, :, 1] = var\n",
    "            #pooled_fits[Itok, deciC, funckey] = (kmean, kvar**0.5)\n",
    "            rel_err_k[funckey] += var[0]**0.5/mean[0]\n",
    "pooled_fits\n",
    "rel_err_k.items()"
   ]
  },
  {
   "cell_type": "code",
   "execution_count": null,
   "metadata": {},
   "outputs": [],
   "source": [
    "pooled_fits[0, 0, 0, 0, 0], pooled_fits[0, 0, 0, 0, 1]**0.5, all_popt[0, 0, 0, 0, 0]"
   ]
  },
  {
   "cell_type": "code",
   "execution_count": null,
   "metadata": {},
   "outputs": [],
   "source": [
    "def kf_val(funckey):\n",
    "    return pooled_fits[:, :, funcs.keys().index(funckey), 0, :]\n",
    "kf_val('binary_rev')"
   ]
  },
  {
   "cell_type": "code",
   "execution_count": null,
   "metadata": {},
   "outputs": [],
   "source": [
    "plt.figure(figsize=(18,5))\n",
    "arrhenius_params = np.empty((ntoks, 2, 2))\n",
    "logkf, delta_logkf = np.empty((ntoks, ntemps)), np.empty((ntoks, ntemps))\n",
    "for Iidx, Itok in enumerate(Itoks):\n",
    "    logkf[Iidx, :] = np.log(kf_val('binary_rev')[Iidx, :, 0])\n",
    "    kf_u = kf_val('binary_rev')[Iidx, :, 0] + kf_val('binary_rev')[Iidx, :, 1]**0.5\n",
    "    kf_l = kf_val('binary_rev')[Iidx, :, 0] - kf_val('binary_rev')[Iidx, :, 1]**0.5\n",
    "    delta_logkf[Iidx, :] = np.log(kf_u) - np.log(kf_l)\n",
    "    \n",
    "    plt.subplot(1, 4, Iidx + 1)\n",
    "    lin_opt, lin_cov = np.polyfit(1/tempKs, logkf[Iidx, :], 1, cov=True)\n",
    "    arrhenius_params[Iidx, :, 0] = lin_opt[:]\n",
    "    for i in range(2):\n",
    "        arrhenius_params[Iidx, i, 1] = lin_cov[i, i]\n",
    "    plt.errorbar(1/tempKs, logkf[Iidx, :], delta_logkf[Iidx, :], marker='.', ls='None')\n",
    "    lbl = '{0:.1f} $\\pm$ {1:.1f} kJ/mol'.format(lin_opt[0]*-8.314511e-3, lin_cov[0,0]**0.5 * 8.314511e-3)\n",
    "    plt.plot(1/tempKs, np.polyval(lin_opt, 1/tempKs), label=lbl)\n",
    "    plt.title(Itok)\n",
    "    plt.legend(loc='best')"
   ]
  },
  {
   "cell_type": "markdown",
   "metadata": {
    "deletable": true,
    "editable": true
   },
   "source": [
    "Hur ser medelvärdet (för de olika jonstyrkorna) ut för våra arrhenius parametrar?"
   ]
  },
  {
   "cell_type": "code",
   "execution_count": null,
   "metadata": {},
   "outputs": [],
   "source": [
    "def weighted_average(val, var):\n",
    "    w = 1/var\n",
    "    wsum = np.sum(w)\n",
    "    avgw = np.dot(val, w)/wsum\n",
    "    denom = (len(val)-1)*wsum\n",
    "    sigma2 = np.dot(w, (val-avgw)**2)/denom\n",
    "    return avgw, sigma2\n",
    "\n",
    "from math import exp\n",
    "Ea, Ea_s2 = weighted_average(arrhenius_params[:, 0, 0], arrhenius_params[:, 0, 1])\n",
    "Ea = -8.314511*Ea\n",
    "dEa = 8.314511*Ea_s2**0.5\n",
    "lnA, lnA_s2 = weighted_average(arrhenius_params[:, 1, 0], arrhenius_params[:, 1, 1])\n",
    "dlnA = lnA_s2**0.5\n",
    "A = exp(lnA)\n",
    "dA = (exp(lnA+lnA_s2**0.5) - exp(lnA-lnA_s2**0.5))/2\n",
    "Ea, dEa, A, dA\n",
    "\n",
    "\n",
    "Ilim = ionic_strengths[0], ionic_strengths[-1]\n",
    "Ispan = Ilim[1] - Ilim[0]\n",
    "Ilim = Ilim[0] - 0.05*Ispan, Ilim[1] + 0.05*Ispan\n",
    "\n",
    "plt.figure(figsize=(14,4))\n",
    "plt.subplot(1, 2, 1)\n",
    "plt.errorbar(ionic_strengths,\n",
    "             1e-3*-8.314511*arrhenius_params[:, 0, 0],\n",
    "             1e-3*8.314511*arrhenius_params[:, 0, 1]**0.5,\n",
    "             ls='None', marker='o')\n",
    "fmtstr = '$E_a={:.2f} \\pm {:.2f}$ $kJ/mol$'\n",
    "lbl = fmtstr.format(1e-3*Ea, 1e-3*dEa)\n",
    "plt.plot(Ilim, [1e-3*Ea]*2, 'k-', label=lbl)\n",
    "plt.plot(Ilim, [1e-3*(Ea-dEa)]*2, 'k--')\n",
    "plt.plot(Ilim, [1e-3*(Ea+dEa)]*2, 'k--')\n",
    "plt.xlabel(r'$I$ / $mol \\cdot kg^{-1}$')\n",
    "plt.ylabel(r'$E_a$ / $kJ \\cdot mol^{-1}$')\n",
    "_ = plt.legend()\n",
    "\n",
    "plt.subplot(1, 2, 2)\n",
    "plt.errorbar(ionic_strengths,\n",
    "             arrhenius_params[:, 1, 0],\n",
    "             arrhenius_params[:, 1, 1]**0.5,\n",
    "             ls='None', marker='o')\n",
    "fmtstr = '$\\ln(A/M^{{-1}}s^{{-1}})={:.2f} \\pm {:.2f}$'\n",
    "lbl = fmtstr.format(lnA, dlnA)\n",
    "plt.plot(Ilim, [lnA]*2, 'k-', label=lbl)\n",
    "plt.plot(Ilim, [lnA-dlnA]*2, 'k--')\n",
    "plt.plot(Ilim, [lnA+dlnA]*2, 'k--')\n",
    "plt.xlabel(r'$I$ / $mol \\cdot kg^{-1}$')\n",
    "plt.ylabel(r'$\\ln(A/M^{-1}s^{-1})$')\n",
    "_ = plt.legend(loc='best')"
   ]
  },
  {
   "cell_type": "markdown",
   "metadata": {
    "deletable": true,
    "editable": true
   },
   "source": [
    "Vi ser ingen trend alls, är det förväntat?"
   ]
  },
  {
   "cell_type": "code",
   "execution_count": null,
   "metadata": {},
   "outputs": [],
   "source": [
    "plt.figure(figsize=(18,5))\n",
    "sqrtI = np.sqrt(ionic_strengths)\n",
    "logk0 = np.empty((len(deciCs), 2))\n",
    "k0 = np.empty((len(deciCs), 2))\n",
    "A_DH = np.empty((len(deciCs), 2))\n",
    "color = 'rgbcmyk'\n",
    "for Tidx, deciC in enumerate(deciCs):\n",
    "    #plt.subplot(1, 5, Tidx + 1)\n",
    "    popt, pcov = curve_fit(lambda x, k, m: x*k + m, sqrtI, logkf[:, Tidx], [0, 0], sigma=delta_logkf[:, Tidx]**-2)\n",
    "    #popt, pcov = np.polyfit(sqrtI, logkf[:, Tidx], 1, w=dlogkf[:, Tidx]**-2, cov=True)\n",
    "    logk0[Tidx, :] = popt[1], pcov[1, 1]**0.5\n",
    "    k0[Tidx, 0] = np.exp(popt[1])\n",
    "    k0[Tidx, 1] = (np.exp(popt[1] + pcov[1, 1]**0.5) - np.exp(popt[1] - pcov[1, 1]**0.5))/2\n",
    "    A_DH[Tidx, :] = popt[0]/-6, pcov[0, 0]**0.5/6\n",
    "    c = color[Tidx % len(color)]\n",
    "    plt.errorbar(sqrtI, logkf[:, Tidx], delta_logkf[:, Tidx], marker='.', ls='None', c=c)\n",
    "    lbl = r'{}$^\\circ$C: '.format(deciC/10.0)\n",
    "    lbl += r'$k^\\circ={0:.1f} \\pm {1:.1f}$ $M^{{-1}}s^{{-1}}$'.format(k0[Tidx, 0], k0[Tidx, 1])\n",
    "    lbl += r'; $A_{{DH}}={0:.2f} \\pm {1:.2f}$'.format(A_DH[Tidx, 0], A_DH[Tidx, 1])\n",
    "    plt.plot(sqrtI, np.polyval(popt, sqrtI), label=lbl, c=c)\n",
    "    plt.legend(loc='best')\n",
    "    plt.ylim((5.45, 6.45))\n",
    "    #plt.title()\n",
    "    plt.xlabel(r'$\\sqrt{\\frac{I}{I^o}}$')\n",
    "    plt.ylabel('$ln(k_f / M^{-1} s^{-1})$')"
   ]
  },
  {
   "cell_type": "code",
   "execution_count": null,
   "metadata": {},
   "outputs": [],
   "source": [
    "popt, pcov = np.polyfit(1/tempKs, logk0[:, 0], 1, w=logk0[:, 1]**-2, cov=True)\n",
    "plt.errorbar(1/tempKs, logk0[:, 0], logk0[:, 1], marker='.', ls='None')\n",
    "lbl = '{0:.1f} $\\pm$ {1:.1f} kJ/mol'.format(popt[0]*-8.314511e-3, pcov[0,0]**0.5 * 8.314511e-3)\n",
    "plt.plot(1/tempKs, np.polyval(popt, 1/tempKs), label=lbl)\n",
    "plt.ylabel(r'$\\ln(k^\\circ / M^{-1} s^{-1})$')\n",
    "plt.xlabel('$T^{-1}/K^{-1}$')\n",
    "plt.title(r'Arrhenius plot for $k^\\circ$')\n",
    "plt.legend()"
   ]
  },
  {
   "cell_type": "markdown",
   "metadata": {
    "deletable": true,
    "editable": true
   },
   "source": [
    "Vi kan också göra en ickelinjär anpassning av Arrhenius ekvation till kf mot T. Vi väljer jonstyrka 2 (med lägst osäkerhet)"
   ]
  },
  {
   "cell_type": "code",
   "execution_count": null,
   "metadata": {},
   "outputs": [],
   "source": [
    "def Arrhenius(T, A, Ea):\n",
    "    R = 8.314511\n",
    "    return A*np.exp(-Ea/(R*T))\n",
    "\n",
    "Tspan = tempKs[-1] - tempKs[0]\n",
    "Tplot = np.linspace(tempKs[0] - 0.05*Tspan, tempKs[-1] + 0.05*Tspan)\n",
    "fmtstr = ('$E_a={0:5.1f} \\pm {1:5.1f}$ $kJ/mol,$\\n$'\n",
    "    'A=({2:5.1f} \\pm {3:5.1f}) \\cdot 10^{{16}} M^{{-1}} s^{{-1}}$')\n",
    "plt.figure(figsize=(14,8))\n",
    "for idxF, (funckey, func) in enumerate(funcs.items()):\n",
    "    plt.subplot(2, 2, idxF + 1)\n",
    "    idxI, idxT = 1, slice(None)\n",
    "    kf_vals = pooled_fits[idxI, idxT, idxF, 0, 0]\n",
    "    kf_errs = pooled_fits[idxI, idxT, idxF, 0, 1]\n",
    "    #plt.errorbar(tempKs, kf_vals, kf_errs, marker='.', linestyle='None')\n",
    "    Ea_guess, A_guess = 75e3, exp(35.5)\n",
    "    #plt.plot(T, Arrhenius(T, A_guess, Ea_guess))\n",
    "    popt, pcov = curve_fit(Arrhenius, tempKs, kf_vals, [A_guess, Ea_guess],  1/kf_errs)\n",
    "    lbl = fmtstr.format(popt[1]/1e3, pcov[1,1]**0.5/1e3, popt[0]/1e16, pcov[0,0]**0.5/1e16)\n",
    "    plt.plot(Tplot, Arrhenius(Tplot, *popt), label=lbl)\n",
    "    plt.errorbar(tempKs,kf_vals, kf_errs**0.5, ls='None')\n",
    "    plt.xlabel('T / K')\n",
    "    plt.ylabel('$k_f$ / $M^{-1} \\cdot s^{-1}$')\n",
    "    plt.legend(loc='best')\n",
    "    plt.title(funcs['binary_rev'].name)\n",
    "\n",
    "plt.tight_layout()"
   ]
  },
  {
   "cell_type": "markdown",
   "metadata": {
    "deletable": true,
    "editable": true
   },
   "source": [
    "En spännande biprodukt från analysen är fria energin för komplexbildning:"
   ]
  },
  {
   "cell_type": "code",
   "execution_count": null,
   "metadata": {},
   "outputs": [],
   "source": [
    "plt.figure(figsize=(18,8))\n",
    "for idxI in range(1,4):\n",
    "    plt.subplot(1, 3, idxI)\n",
    "    idxT=slice(None); idxF=3; idxP=1\n",
    "    logy = np.log(pooled_fits[idxI, idxT, idxF, idxP, 0])\n",
    "    logy_u = pooled_fits[idxI, idxT, idxF, idxP, 0] + pooled_fits[idxI, idxT, idxF, idxP, 1]**0.5\n",
    "    logy_l = pooled_fits[idxI, idxT, idxF, idxP, 0] - pooled_fits[idxI, idxT, idxF, idxP, 1]**0.5\n",
    "    dlogy = 0.5*((logy_u - logy) + (logy - logy_l))\n",
    "    plt.errorbar(1/tempKs, logy, dlogy, ls='None')\n",
    "    popt, pcov = np.polyfit(1/tempKs, logy, 1, cov=True)\n",
    "    lbl = r'$\\frac{dP_0}{d(\\frac{1}{T})}'+'={0:.2f} \\pm {1:.2f}$ kJ/mol'.format(popt[0], pcov[0,0]**0.5)\n",
    "    plt.plot(1/tempKs, np.polyval(popt, 1/tempKs), label=lbl)\n",
    "    plt.xlabel('$T^{-1} / K^{-1}$')\n",
    "    plt.ylabel('$\\ln{P_0}$')\n",
    "    plt.legend()\n",
    "    "
   ]
  }
 ],
 "metadata": {
  "kernelspec": {
   "display_name": "Python 2",
   "language": "python",
   "name": "python2"
  },
  "language_info": {
   "codemirror_mode": {
    "name": "ipython",
    "version": 2
   },
   "file_extension": ".py",
   "mimetype": "text/x-python",
   "name": "python",
   "nbconvert_exporter": "python",
   "pygments_lexer": "ipython2",
   "version": "2.7.12"
  }
 },
 "nbformat": 4,
 "nbformat_minor": 0
}
