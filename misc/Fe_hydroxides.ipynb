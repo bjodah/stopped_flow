{
 "cells": [
  {
   "cell_type": "code",
   "execution_count": 1,
   "metadata": {
    "collapsed": false
   },
   "outputs": [],
   "source": [
    "from collections import defaultdict\n",
    "import numpy as np\n",
    "from chempy import Equilibrium, Species\n",
    "from chempy.equilibria import EqSystem, NumSysLin\n",
    "from pyneqsys.symbolic import SymbolicSys\n",
    "import matplotlib.pyplot as plt\n",
    "%matplotlib inline"
   ]
  },
  {
   "cell_type": "code",
   "execution_count": 2,
   "metadata": {
    "collapsed": false
   },
   "outputs": [],
   "source": [
    "eqw = Equilibrium({'H2O': 1}, {'OH-': 1, 'H+': 1}, 1e-14)\n",
    "eq1 = Equilibrium({'Fe+3': 1, 'H2O': 1}, {'FeOH+2': 1, 'H+': 1}, 10**-2.774)\n",
    "eq2 = Equilibrium({'Fe+3': 2, 'H2O': 2}, {'Fe2(OH)2+4': 1, 'H+': 2}, 10**-2.81)\n",
    "eqsys = EqSystem([eqw, eq1, eq2], 'Fe+3 H2O FeOH+2 H+ Fe2(OH)2+4 OH-', substance_factory=Species.from_formula)\n",
    "c0 = defaultdict(float, {'H+': 1e-2, 'Fe+3': 7e-3, 'H2O': 1})"
   ]
  },
  {
   "cell_type": "code",
   "execution_count": 3,
   "metadata": {
    "collapsed": false
   },
   "outputs": [
    {
     "name": "stderr",
     "output_type": "stream",
     "text": [
      "/home/bjorn/vc/chempy/chempy/chemistry.py:471: ChemPyDeprecationWarning: precipitate is deprecated since (not including) 0.3.0, it will be missing in 0.4.0.\n",
      "  if substances[s_name].precipitate:\n"
     ]
    },
    {
     "data": {
      "text/plain": [
       "[-1 + x_3*x_5/(p_6*x_1),\n",
       " -1 + x_2*x_3/(p_7*x_0*x_1),\n",
       " -1 + x_3**2*x_4/(p_8*x_0**2*x_1**2),\n",
       " -3*p_0 - 2*p_2 - p_3 - 4*p_4 + p_5 + 3*x_0 + 2*x_2 + x_3 + 4*x_4 - x_5,\n",
       " -2*p_1 - p_2 - p_3 - 2*p_4 - p_5 + 2*x_1 + x_2 + x_3 + 2*x_4 + x_5,\n",
       " -p_1 - p_2 - 2*p_4 - p_5 + x_1 + x_2 + 2*x_4 + x_5,\n",
       " -p_0 - p_2 - 2*p_4 + x_0 + x_2 + 2*x_4]"
      ]
     },
     "execution_count": 3,
     "metadata": {},
     "output_type": "execute_result"
    }
   ],
   "source": [
    "numsys = NumSysLin(eqsys)\n",
    "neqsys = SymbolicSys.from_callback(numsys.f, eqsys.ns, nparams=eqsys.ns + eqsys.nr)\n",
    "neqsys.exprs"
   ]
  },
  {
   "cell_type": "code",
   "execution_count": 4,
   "metadata": {
    "collapsed": false
   },
   "outputs": [
    {
     "name": "stderr",
     "output_type": "stream",
     "text": [
      "/home/bjorn/vc/chempy/chempy/chemistry.py:471: ChemPyDeprecationWarning: precipitate is deprecated since (not including) 0.3.0, it will be missing in 0.4.0.\n",
      "  if substances[s_name].precipitate:\n"
     ]
    },
    {
     "data": {
      "text/plain": [
       "{'Fe+3': 0.0054937653949203545,\n",
       " 'Fe2(OH)2+4': 0.00035201768633571644,\n",
       " 'FeOH+2': 0.00080219923240825331,\n",
       " 'H+': 0.011506234605947326,\n",
       " 'H2O': 0.99849376539405255,\n",
       " 'OH-': 8.6778498752141735e-13}"
      ]
     },
     "execution_count": 4,
     "metadata": {},
     "output_type": "execute_result"
    }
   ],
   "source": [
    "x, info, sane = eqsys.root(c0)\n",
    "assert sane\n",
    "eqsys.as_per_substance_dict(x)"
   ]
  },
  {
   "cell_type": "code",
   "execution_count": 5,
   "metadata": {
    "collapsed": false,
    "scrolled": true
   },
   "outputs": [
    {
     "name": "stdout",
     "output_type": "stream",
     "text": [
      "<map object at 0x7fac080f3470>\n"
     ]
    },
    {
     "name": "stderr",
     "output_type": "stream",
     "text": [
      "/home/bjorn/vc/chempy/chempy/chemistry.py:471: ChemPyDeprecationWarning: precipitate is deprecated since (not including) 0.3.0, it will be missing in 0.4.0.\n",
      "  if substances[s_name].precipitate:\n"
     ]
    },
    {
     "data": {
      "image/png": "[encoded data removed]",
      "text/plain": [
       "<matplotlib.figure.Figure at 0x7fac080fd780>"
      ]
     },
     "metadata": {},
     "output_type": "display_data"
    }
   ],
   "source": [
    "plt.figure(figsize=(8,8))\n",
    "Cout, info, sanity = eqsys.roots(c0, np.linspace(0.0075, 0.0085), 'H+', plot_kwargs={\n",
    "        'substances': 'Fe+3 FeOH+2 H+ Fe2(OH)2+4'.split()})\n",
    "plt.gca().set_xscale('linear')"
   ]
  },
  {
   "cell_type": "code",
   "execution_count": 6,
   "metadata": {
    "collapsed": false
   },
   "outputs": [
    {
     "name": "stderr",
     "output_type": "stream",
     "text": [
      "/home/bjorn/vc/chempy/chempy/chemistry.py:471: ChemPyDeprecationWarning: precipitate is deprecated since (not including) 0.3.0, it will be missing in 0.4.0.\n",
      "  if substances[s_name].precipitate:\n"
     ]
    },
    {
     "data": {
      "text/plain": [
       "0.42728920521740715"
      ]
     },
     "execution_count": 6,
     "metadata": {},
     "output_type": "execute_result"
    }
   ],
   "source": [
    "x, info, sane = eqsys.root(defaultdict(float, {'H+': 8.26165e-3, 'Fe+3': 7e-3, 'H2O': 1}))\n",
    "sane\n",
    "eqsys.as_per_substance_dict(x)['Fe2(OH)2+4']*1e3"
   ]
  },
  {
   "cell_type": "code",
   "execution_count": null,
   "metadata": {
    "collapsed": true
   },
   "outputs": [],
   "source": []
  }
 ],
 "metadata": {
  "kernelspec": {
   "display_name": "Python 3",
   "language": "python",
   "name": "python3"
  },
  "language_info": {
   "codemirror_mode": {
    "name": "ipython",
    "version": 3
   },
   "file_extension": ".py",
   "mimetype": "text/x-python",
   "name": "python",
   "nbconvert_exporter": "python",
   "pygments_lexer": "ipython3",
   "version": "3.4.3"
  }
 },
 "nbformat": 4,
 "nbformat_minor": 0
}
