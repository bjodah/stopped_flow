{
 "cells": [
  {
   "cell_type": "code",
   "execution_count": null,
   "metadata": {},
   "outputs": [],
   "source": [
    "from collections import defaultdict\n",
    "import numpy as np\n",
    "from chempy import Equilibrium, Species\n",
    "from chempy.equilibria import EqSystem, NumSysLin\n",
    "from pyneqsys.symbolic import SymbolicSys\n",
    "import matplotlib.pyplot as plt\n",
    "%matplotlib inline"
   ]
  },
  {
   "cell_type": "code",
   "execution_count": null,
   "metadata": {},
   "outputs": [],
   "source": [
    "eqw = Equilibrium({'H2O': 1}, {'OH-': 1, 'H+': 1}, 1e-14)\n",
    "eq1 = Equilibrium({'Fe+3': 1, 'H2O': 1}, {'FeOH+2': 1, 'H+': 1}, 10**-2.774)\n",
    "eq2 = Equilibrium({'Fe+3': 2, 'H2O': 2}, {'Fe2(OH)2+4': 1, 'H+': 2}, 10**-2.81)\n",
    "eqsys = EqSystem([eqw, eq1, eq2], 'Fe+3 H2O FeOH+2 H+ Fe2(OH)2+4 OH-', substance_factory=Species.from_formula)\n",
    "c0 = defaultdict(float, {'H+': 1e-2, 'Fe+3': 7e-3, 'H2O': 1})"
   ]
  },
  {
   "cell_type": "code",
   "execution_count": null,
   "metadata": {},
   "outputs": [],
   "source": [
    "numsys = NumSysLin(eqsys)\n",
    "neqsys = SymbolicSys.from_callback(numsys.f, eqsys.ns, nparams=eqsys.ns + eqsys.nr)\n",
    "neqsys.exprs"
   ]
  },
  {
   "cell_type": "code",
   "execution_count": null,
   "metadata": {},
   "outputs": [],
   "source": [
    "x, info, sane = eqsys.root(c0)\n",
    "assert sane\n",
    "eqsys.as_per_substance_dict(x)"
   ]
  },
  {
   "cell_type": "code",
   "execution_count": null,
   "metadata": {},
   "outputs": [],
   "source": [
    "plt.figure(figsize=(8,8))\n",
    "Cout, info, sanity = eqsys.roots(c0, np.linspace(0.0075, 0.0085), 'H+', plot_kwargs={\n",
    "        'substances': 'Fe+3 FeOH+2 H+ Fe2(OH)2+4'.split()})\n",
    "plt.gca().set_xscale('linear')"
   ]
  },
  {
   "cell_type": "code",
   "execution_count": null,
   "metadata": {},
   "outputs": [],
   "source": [
    "x, info, sane = eqsys.root(defaultdict(float, {'H+': 8.26165e-3, 'Fe+3': 7e-3, 'H2O': 1}))\n",
    "sane\n",
    "eqsys.as_per_substance_dict(x)['Fe2(OH)2+4']*1e3"
   ]
  },
  {
   "cell_type": "code",
   "execution_count": null,
   "metadata": {},
   "outputs": [],
   "source": []
  }
 ],
 "metadata": {
  "kernelspec": {
   "display_name": "Python 3",
   "language": "python",
   "name": "python3"
  },
  "language_info": {
   "codemirror_mode": {
    "name": "ipython",
    "version": 3
   },
   "file_extension": ".py",
   "mimetype": "text/x-python",
   "name": "python",
   "nbconvert_exporter": "python",
   "pygments_lexer": "ipython3",
   "version": "3.5.2"
  }
 },
 "nbformat": 4,
 "nbformat_minor": 0
}
