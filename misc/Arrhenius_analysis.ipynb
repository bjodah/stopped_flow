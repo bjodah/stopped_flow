{
 "cells": [
  {
   "cell_type": "code",
   "execution_count": null,
   "metadata": {},
   "outputs": [],
   "source": [
    "from __future__ import division\n",
    "import glob\n",
    "from math import exp\n",
    "\n",
    "from collections import defaultdict, OrderedDict\n",
    "\n",
    "def partial(fun, *args, **kwargs):\n",
    "    \"\"\" functools.partial does not seem to preserve name attribute \"\"\"\n",
    "    from functools import partial as _partial\n",
    "    f = _partial(fun, *args, **kwargs)\n",
    "    f.name = fun.name\n",
    "    return f\n",
    "\n",
    "import matplotlib.pyplot as plt\n",
    "%matplotlib inline\n",
    "import numpy as np\n",
    "from scipy.optimize import curve_fit"
   ]
  },
  {
   "cell_type": "code",
   "execution_count": null,
   "metadata": {},
   "outputs": [],
   "source": [
    "data = defaultdict(dict)\n",
    "temps = []\n",
    "for d in glob.glob('L*'):\n",
    "    deciC = int(float(d[1:])*10)\n",
    "    temps.append(deciC)\n",
    "    for f in glob.glob(d+'/*.txt'):\n",
    "        idx = int(f.split('/')[-1].split('.txt')[0])\n",
    "        xy = np.genfromtxt(f)\n",
    "        xy[:, 0] /= 1000.0  # ms -> s\n",
    "        data[deciC][idx] = xy\n",
    "temps = sorted(temps)"
   ]
  },
  {
   "cell_type": "code",
   "execution_count": null,
   "metadata": {},
   "outputs": [],
   "source": [
    "def plot_abs(t, Abs, **kwargs):\n",
    "    plt.plot(t, Abs, **kwargs)\n",
    "    if kwargs.get('label', None) is not None:\n",
    "        plt.legend(loc='best')\n",
    "    plt.xlabel('t / s')\n",
    "    plt.ylabel('Abs')\n",
    "    \n",
    "def plot_raw_data(deciC, idx, **kwargs):\n",
    "    if 'label' not in kwargs:\n",
    "        kwargs['label'] = '{} degC, #{}'.format(deciC/10, idx)\n",
    "    t = data[deciC][idx][:,0]\n",
    "    Abs = data[deciC][idx][:,1]\n",
    "    plot_abs(t, Abs, **kwargs)\n",
    "\n",
    "plot_raw_data(170, 1, alpha=0.3)\n",
    "plot_raw_data(170, 2, alpha=0.3)\n",
    "plot_raw_data(170, 3, alpha=0.3)\n",
    "plot_raw_data(170, 4, alpha=0.3)\n",
    "plot_raw_data(170, 5, alpha=0.3)\n",
    "plot_raw_data(270, 1)\n",
    "[data[190][idx].shape for idx in range(1,6)]"
   ]
  },
  {
   "cell_type": "code",
   "execution_count": null,
   "metadata": {},
   "outputs": [],
   "source": [
    "# Experimental data:\n",
    "eps = 5148 # 480nm, (per molar * per cm)\n",
    "Z = 2e-3 / 2 # [SCN-] / molar\n",
    "Y = 4e-3 / 2 # [Fe3+] / molar\n",
    "K = 10**2.065 # beta1 / per molar\n",
    "\n",
    "# Example of simple treatment (pseudo first order)\n",
    "x, y = data[190][1][:, 0], data[190][1][:, 1]\n",
    "yp = y[-1] - y\n",
    "ymin = yp[0] * 0.05  # avoid taking logarithm of negative values\n",
    "ymin_thresh_idx = int(np.argwhere(yp < ymin)[0])\n",
    "plt.figure(figsize=(12, 4))\n",
    "plt.subplot(1,2,1)\n",
    "plt.plot(x[:ymin_thresh_idx], yp[:ymin_thresh_idx])\n",
    "plt.plot(x[ymin_thresh_idx:], yp[ymin_thresh_idx:])\n",
    "\n",
    "t = x[:ymin_thresh_idx]\n",
    "lny = np.log(yp[:ymin_thresh_idx])\n",
    "plt.subplot(1,2,2)\n",
    "plt.plot(t, lny)\n",
    "p = np.polyfit(t, lny, 1)\n",
    "kf_fit = -p[0]/Y\n",
    "plt.plot(t, np.polyval(p, t), label='$k_f$ = {0:.2f}'.format(kf_fit))\n",
    "_ = plt.legend()"
   ]
  },
  {
   "cell_type": "code",
   "execution_count": null,
   "metadata": {},
   "outputs": [],
   "source": [
    "def pseudo_irrev(t, kf, P0, t0, excess_C, limiting_C, eps_l):\n",
    "    return P0*eps_l*limiting_C*(1 - np.exp(-excess_C*kf*(t-t0)))\n",
    "pseudo_irrev.name = 'Pseudo first order irreversible'\n",
    "\n",
    "def pseudo_rev(t, kf, P0, t0, excess_C, limiting_C, eps_l, beta):\n",
    "    kb = kf/beta\n",
    "    return P0*eps_l*limiting_C*excess_C*kf/(excess_C*kf + kb)*(1 - np.exp(-(excess_C*kf+kb)*(t-t0)))\n",
    "pseudo_rev.name = 'Pseudo first order reversible'\n",
    "\n",
    "def binary_irrev(t, kf, P0, t0, excess_C, limiting_C, eps_l):\n",
    "    return P0*eps_l*excess_C*(1 - np.exp(-kf*(excess_C-limiting_C)*(t-t0)))/(excess_C/limiting_C - np.exp(-kf*(t-t0)*(excess_C-limiting_C)))\n",
    "binary_irrev.name = 'Second order irreversible'\n",
    "\n",
    "def binary_rev(t, kf, P0, t0, excess_C, limiting_C, eps_l, beta):\n",
    "    kb = kf/beta\n",
    "    a = kf\n",
    "    b = -excess_C*kf - limiting_C*kf - kb\n",
    "    c = excess_C*limiting_C*kf\n",
    "    P = np.sqrt(b**2 - 4*a*c)\n",
    "    Q = P + b\n",
    "    R = P - b\n",
    "    return P0*eps_l*Q*(1 - np.exp(P*(t-t0)))/(2*a*(Q/R + np.exp(P*(t-t0))))\n",
    "binary_rev.name = 'Second order reversible'"
   ]
  },
  {
   "cell_type": "code",
   "execution_count": null,
   "metadata": {},
   "outputs": [],
   "source": [
    "funcs = OrderedDict([\n",
    "    ('pseudo_irrev', partial(pseudo_irrev, excess_C=Y, limiting_C=Z, eps_l=eps)),\n",
    "    ('pseudo_rev', partial(pseudo_rev, excess_C=Y, limiting_C=Z, eps_l=eps, beta=K)),\n",
    "    ('binary_irrev', partial(binary_irrev, excess_C=Y, limiting_C=Z, eps_l=eps)),\n",
    "    ('binary_rev', partial(binary_rev, excess_C=Y, limiting_C=Z, eps_l=eps, beta=K))\n",
    "])"
   ]
  },
  {
   "cell_type": "code",
   "execution_count": null,
   "metadata": {},
   "outputs": [],
   "source": [
    "exp(-(-12e3 + 298.15*46.8)/8.314511/298.15)\n",
    "exp(5.6e3/8.314511/298.15)"
   ]
  },
  {
   "cell_type": "code",
   "execution_count": null,
   "metadata": {},
   "outputs": [],
   "source": [
    "t = np.linspace(0,1)\n",
    "plt.plot(t, funcs['binary_irrev'](t, 800, 0.2, -5e-3))"
   ]
  },
  {
   "cell_type": "code",
   "execution_count": null,
   "metadata": {},
   "outputs": [],
   "source": [
    "def fit_raw(fun, t, Abs, p0):\n",
    "    popt, pcov = curve_fit(fun, t, Abs, p0)\n",
    "    if pcov.shape != (len(p0), len(p0)):\n",
    "        raise UserError(\"Optimization failed\")\n",
    "    residuals = Abs - fun(t, *popt)\n",
    "    return popt, pcov, residuals\n",
    "\n",
    "def fit_data(fun, tempC, idx, p0):\n",
    "    t = data[tempC][idx][:, 0]\n",
    "    Abs = data[tempC][idx][:, 1]\n",
    "    return fit_raw(fun, t, Abs, p0)\n",
    "    \n",
    "def plot_fit_data(fun, tempC, idx, fitparams, **kwargs):\n",
    "    popt, pcov, residuals = fitparams\n",
    "    if 'label' not in kwargs:\n",
    "        kwargs['label'] = '{0:1d}: $k_f$ = {1:.5g} $\\pm$ {2:.5g}'.format(idx, popt[0], pcov[0,0])\n",
    "    t = data[tempC][idx][:, 0]\n",
    "    plt.plot(t, fun(t, *popt), **kwargs)\n",
    "    plt.legend(loc='best')\n"
   ]
  },
  {
   "cell_type": "code",
   "execution_count": null,
   "metadata": {},
   "outputs": [],
   "source": [
    "fun = funcs['pseudo_irrev']\n",
    "deciC = 190\n",
    "indices = range(1, 6)\n",
    "fits = []\n",
    "for idx in indices:\n",
    "    fits.append(fit_data(fun, deciC, idx, [kf_fit, 0.1, 0.0]))\n",
    "    plot_raw_data(deciC, idx, alpha=0.2, label=None)\n",
    "    \n",
    "for idx, fitparams in enumerate(fits, 1):\n",
    "    plot_fit_data(fun, deciC, idx, fitparams)\n",
    "\n",
    "_ = plt.title(fun.name + ' fit')"
   ]
  },
  {
   "cell_type": "code",
   "execution_count": null,
   "metadata": {},
   "outputs": [],
   "source": [
    "def evaluate(tempC, guess):\n",
    "    plt.figure(figsize=(10, 10))\n",
    "    funcparams = []\n",
    "    for fidx, func in enumerate(funcs.values(), 1):\n",
    "        plt.subplot(2, 2, fidx)\n",
    "        print(func.name)\n",
    "        funcparams.append([])\n",
    "        for idx in range(1, 6):\n",
    "            funcparams[-1].append(fit_data(func, tempC, idx, guess))\n",
    "            #print(funcparams[-1][-1][:2])\n",
    "            plot_raw_data(tempC, idx, alpha=0.2, label=None)\n",
    "            plot_fit_data(func, tempC, idx, funcparams[-1][-1])\n",
    "        plt.title(func.name + ' ({0:2d} degC)'.format(tempC))\n",
    "    return funcparams"
   ]
  },
  {
   "cell_type": "code",
   "execution_count": null,
   "metadata": {},
   "outputs": [],
   "source": [
    "fitdata = {}\n",
    "for tempC in temps:\n",
    "    print(tempC)\n",
    "    fitdata[tempC] = evaluate(tempC, [400.0, 0.2, -1e-3])\n",
    "    plt.show()"
   ]
  },
  {
   "cell_type": "code",
   "execution_count": null,
   "metadata": {},
   "outputs": [],
   "source": []
  },
  {
   "cell_type": "code",
   "execution_count": null,
   "metadata": {},
   "outputs": [],
   "source": [
    "from collections import defaultdict\n",
    "kf_val = defaultdict(list)\n",
    "kf_err = defaultdict(list)\n",
    "rmse = defaultdict(list)\n",
    "for fidx in range(len(funcs)):\n",
    "    for deciC in temps:\n",
    "        params = fitdata[deciC][fidx] # second order\n",
    "        tot = 0.0\n",
    "        mse = 0.0\n",
    "        for popt, pcov, res in params:\n",
    "            tot += popt[0]\n",
    "            mse += sum(res**2)/len(res)\n",
    "        avg = tot / len(params)\n",
    "        s2 = 0.0\n",
    "        for popt, pcov, res in params:\n",
    "            s2 += (avg - popt[0])**2\n",
    "        kf_val[fidx].append(avg)\n",
    "        kf_err[fidx].append(s2**0.5/(len(params)-1))\n",
    "        rmse[fidx].append(mse**0.5)\n",
    "    kf_val[fidx] = np.array(kf_val[fidx])\n",
    "    kf_err[fidx] = np.array(kf_err[fidx])\n",
    "    rmse[fidx] = np.array(rmse[fidx])"
   ]
  },
  {
   "cell_type": "code",
   "execution_count": null,
   "metadata": {},
   "outputs": [],
   "source": [
    "kf_val[3], kf_err[3], [np.average(rmse[i]) for i in range(4)]"
   ]
  },
  {
   "cell_type": "code",
   "execution_count": null,
   "metadata": {},
   "outputs": [],
   "source": [
    "[sum(kf_err[i]) for i in range(4)]"
   ]
  },
  {
   "cell_type": "code",
   "execution_count": null,
   "metadata": {},
   "outputs": [],
   "source": [
    "from math import log10, exp\n",
    "reci_T = 1.0/(273.15 + np.array(temps)/10)\n",
    "plt.figure(figsize=(14, 8))\n",
    "log_arr = {}\n",
    "for fidx, func in enumerate(funcs.values()):\n",
    "    plt.subplot(2, 2, fidx + 1)\n",
    "    x, y = reci_T, np.log(kf_val[fidx])\n",
    "    plt.plot(x, y, 'o')\n",
    "    p, cov = np.polyfit(x, y, 1, cov=True)\n",
    "    sA = (exp(p[1]+cov[1,1]**0.5)-exp(p[1]-cov[1,1]**0.5))/2\n",
    "    Ea, A = -p[0]*8.314511, np.exp(p[1])\n",
    "    pow10 = int(log10(A))\n",
    "    log_arr[fidx] = (Ea, A)\n",
    "    fmtstr = ('$E_a={0:5.1f} \\pm {1:5.1f}$ $kJ/mol,$\\n$'\n",
    "    'A=({2:5.1f} \\pm {3:5.1f}) \\cdot 10^{{{4:d}}} M^{{-1}} s^{{-1}}$')\n",
    "    lbl = fmtstr.format(Ea/1e3, cov[0,0]**0.5/1e3, A*10**-pow10, sA*10**-pow10, pow10)\n",
    "    plt.plot(x, np.polyval(p, x), label=lbl)\n",
    "    plt.title(func.name)\n",
    "    plt.ylabel('ln($k_f$ / $M^{-1}s^{-1}$)')\n",
    "    plt.xlabel('$T^{-1} / K^{-1}$')\n",
    "    plt.legend()\n",
    "plt.tight_layout()\n",
    "    "
   ]
  },
  {
   "cell_type": "code",
   "execution_count": null,
   "metadata": {},
   "outputs": [],
   "source": [
    "def Arrhenius(T, A, Ea):\n",
    "    R = 8.314511\n",
    "    return A*np.exp(-Ea/(R*T))"
   ]
  },
  {
   "cell_type": "code",
   "execution_count": null,
   "metadata": {},
   "outputs": [],
   "source": [
    "T = 273.15+np.array(temps)/10\n",
    "#popt, pcov = curve_fit(Arrhenius, T, kf_val, [Ea, A],  1.0/np.array(kf_err))\n",
    "kf_val[0]"
   ]
  },
  {
   "cell_type": "code",
   "execution_count": null,
   "metadata": {},
   "outputs": [],
   "source": [
    "Tspan = T[-1] - T[0]\n",
    "Tplot = np.linspace(T[0] - 0.05*Tspan, T[-1] + 0.05*Tspan)\n",
    "fmtstr = ('$E_a={0:5.1f} \\pm {1:5.1f}$ $kJ/mol,$\\n$'\n",
    "    'A=({2:5.1f} \\pm {3:5.1f}) \\cdot 10^{{16}} M^{{-1}} s^{{-1}}$')\n",
    "plt.figure(figsize=(14,8))\n",
    "\n",
    "fig, axes = plt.subplots(2, 2, figsize=(16, 12))\n",
    "for fidx, func in enumerate(funcs):\n",
    "    axes.flat[fidx].errorbar(T, kf_val[fidx], 3*kf_err[fidx], marker='.', linestyle='None')\n",
    "    Ea_guess, A_guess = log_arr[fidx]\n",
    "    #plt.plot(T, Arrhenius(T, A_guess, Ea_guess))\n",
    "    popt, pcov = curve_fit(Arrhenius, T, kf_val[fidx], [A_guess, Ea_guess],  1/kf_err[fidx]**2)\n",
    "    lbl = fmtstr.format(popt[1]/1e3, pcov[1,1]**0.5/1e3, popt[0]/1e16, pcov[0,0]**0.5/1e16)\n",
    "    axes.flat[fidx].plot(Tplot, Arrhenius(Tplot, *popt), label=lbl)\n",
    "    axes.flat[fidx].set_xlabel('T / K')\n",
    "    axes.flat[fidx].set_ylabel('$k_f$ / $M^{-1} \\cdot s^{-1}$')\n",
    "    axes.flat[fidx].legend(loc='best', prop={'size': 14})\n",
    "    axes.flat[fidx].set_title(funcs[func].name)\n",
    "\n",
    "_ = fig.tight_layout()"
   ]
  },
  {
   "cell_type": "code",
   "execution_count": null,
   "metadata": {},
   "outputs": [],
   "source": []
  }
 ],
 "metadata": {
  "kernelspec": {
   "display_name": "Python 2",
   "language": "python",
   "name": "python2"
  },
  "language_info": {
   "codemirror_mode": {
    "name": "ipython",
    "version": 2
   },
   "file_extension": ".py",
   "mimetype": "text/x-python",
   "name": "python",
   "nbconvert_exporter": "python",
   "pygments_lexer": "ipython2",
   "version": "2.7.12"
  }
 },
 "nbformat": 4,
 "nbformat_minor": 0
}
